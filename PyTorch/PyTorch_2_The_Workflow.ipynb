{
  "nbformat": 4,
  "nbformat_minor": 0,
  "metadata": {
    "colab": {
      "provenance": [],
      "gpuType": "T4"
    },
    "kernelspec": {
      "name": "python3",
      "display_name": "Python 3"
    },
    "language_info": {
      "name": "python"
    },
    "accelerator": "GPU"
  },
  "cells": [
    {
      "cell_type": "markdown",
      "source": [
        "*PyTorch CheatSheet* : https://pytorch.org/tutorials/beginner/ptcheat.html\n",
        "\n",
        "**Workflow**\n",
        "1. Get data ready (turn into tensors)\n",
        "2. Build or pick a pretrained model\n",
        "    - Pick a loss function & optimizer\n",
        "    - Build a training loop\n",
        "3. Fit the model to the data and make a prediction\n",
        "4. Evaluate the model\n",
        "5. Improve through experimentation\n",
        "6. Save and reload your trained model"
      ],
      "metadata": {
        "id": "8z2cj0nArSIr"
      }
    },
    {
      "cell_type": "code",
      "execution_count": 79,
      "metadata": {
        "id": "kayF2m7pfjD0"
      },
      "outputs": [],
      "source": [
        "import torch"
      ]
    },
    {
      "cell_type": "code",
      "source": [
        "workflow = {1: \"Get data ready (turn into tensors)\",\n",
        "                        2: \"Build or pick a pretrained model\",\n",
        "                        3: \"Fit the model to the data and make a prediction\",\n",
        "                        4: \"Evaluate the model\",\n",
        "                        5: \"Improve through experimentation\",\n",
        "                        6: \"Save and reload your trained model\"}"
      ],
      "metadata": {
        "id": "swG7mfMlrwvr"
      },
      "execution_count": 80,
      "outputs": []
    },
    {
      "cell_type": "code",
      "source": [
        "workflow"
      ],
      "metadata": {
        "colab": {
          "base_uri": "https://localhost:8080/"
        },
        "id": "MB5eTJHqsi_z",
        "outputId": "eac55362-aec9-4eca-f6b8-f8ba56411747"
      },
      "execution_count": 81,
      "outputs": [
        {
          "output_type": "execute_result",
          "data": {
            "text/plain": [
              "{1: 'Get data ready (turn into tensors)',\n",
              " 2: 'Build or pick a pretrained model',\n",
              " 3: 'Fit the model to the data and make a prediction',\n",
              " 4: 'Evaluate the model',\n",
              " 5: 'Improve through experimentation',\n",
              " 6: 'Save and reload your trained model'}"
            ]
          },
          "metadata": {},
          "execution_count": 81
        }
      ]
    },
    {
      "cell_type": "code",
      "source": [
        "from torch import nn # nn contains all of Pytorch's building blocks for neural networks\n",
        "import matplotlib.pyplot as plt\n",
        "\n",
        "# Check PyTorch Version\n",
        "torch.__version__"
      ],
      "metadata": {
        "colab": {
          "base_uri": "https://localhost:8080/",
          "height": 35
        },
        "id": "M4JUFl6mskig",
        "outputId": "1cea12a7-8cf7-49c0-d375-d36721d0cd48"
      },
      "execution_count": 82,
      "outputs": [
        {
          "output_type": "execute_result",
          "data": {
            "text/plain": [
              "'2.5.1+cu121'"
            ],
            "application/vnd.google.colaboratory.intrinsic+json": {
              "type": "string"
            }
          },
          "metadata": {},
          "execution_count": 82
        }
      ]
    },
    {
      "cell_type": "markdown",
      "source": [
        "`torch.nn` : https://pytorch.org/docs/main/nn.html"
      ],
      "metadata": {
        "id": "DsQkKHd_smzR"
      }
    },
    {
      "cell_type": "markdown",
      "source": [
        "### 1. Data (Preparing and Loading)\n",
        "\n",
        "Data can be almost anything... in machine Learning\n",
        "\n",
        "- Excel Spreadsheet\n",
        "- Images of any kind\n",
        "- Videos\n",
        "- Audios\n",
        "- DNA\n",
        "\n",
        "Machine learning is a game of two parts:\n",
        "1. Get data into a numerical representation\n",
        "2. Build a model to learn patterns in that numerical representation"
      ],
      "metadata": {
        "id": "8UrWJrIttAcI"
      }
    },
    {
      "cell_type": "code",
      "source": [
        "# Create Known parameters\n",
        "weight = 0.7\n",
        "bias = 0.3\n",
        "\n",
        "# Create\n",
        "start = 0\n",
        "end = 1\n",
        "step = 0.02\n",
        "X = torch.arange(start, end, step).unsqueeze(dim=1)\n",
        "y = weight * X + bias\n",
        "\n",
        "X[:10], y[:10]"
      ],
      "metadata": {
        "colab": {
          "base_uri": "https://localhost:8080/"
        },
        "id": "E9V-GakIuHXr",
        "outputId": "5c520b8f-43cc-4a78-9fd6-5c9d72122aa3"
      },
      "execution_count": 83,
      "outputs": [
        {
          "output_type": "execute_result",
          "data": {
            "text/plain": [
              "(tensor([[0.0000],\n",
              "         [0.0200],\n",
              "         [0.0400],\n",
              "         [0.0600],\n",
              "         [0.0800],\n",
              "         [0.1000],\n",
              "         [0.1200],\n",
              "         [0.1400],\n",
              "         [0.1600],\n",
              "         [0.1800]]),\n",
              " tensor([[0.3000],\n",
              "         [0.3140],\n",
              "         [0.3280],\n",
              "         [0.3420],\n",
              "         [0.3560],\n",
              "         [0.3700],\n",
              "         [0.3840],\n",
              "         [0.3980],\n",
              "         [0.4120],\n",
              "         [0.4260]]))"
            ]
          },
          "metadata": {},
          "execution_count": 83
        }
      ]
    },
    {
      "cell_type": "code",
      "source": [
        "len(X), len(y)"
      ],
      "metadata": {
        "colab": {
          "base_uri": "https://localhost:8080/"
        },
        "id": "IJRUiJWuva6a",
        "outputId": "a62c0b53-714c-45ea-f26c-134534834cb7"
      },
      "execution_count": 84,
      "outputs": [
        {
          "output_type": "execute_result",
          "data": {
            "text/plain": [
              "(50, 50)"
            ]
          },
          "metadata": {},
          "execution_count": 84
        }
      ]
    },
    {
      "cell_type": "markdown",
      "source": [
        "#### Splitting data into training and test sets"
      ],
      "metadata": {
        "id": "g6kjGqShvdea"
      }
    },
    {
      "cell_type": "code",
      "source": [
        "train_split = int(0.8 * len(X))\n",
        "train_split"
      ],
      "metadata": {
        "colab": {
          "base_uri": "https://localhost:8080/"
        },
        "id": "2cl4ufvywLdI",
        "outputId": "60665b96-f70f-4fb7-d7b7-98048d07dda3"
      },
      "execution_count": 85,
      "outputs": [
        {
          "output_type": "execute_result",
          "data": {
            "text/plain": [
              "40"
            ]
          },
          "metadata": {},
          "execution_count": 85
        }
      ]
    },
    {
      "cell_type": "code",
      "source": [
        "X_train, y_train = X[:train_split], y[:train_split]\n",
        "X_test, y_test = X[train_split:], y[train_split:]\n",
        "\n",
        "len(X_train), len(X_test), len(y_train), len(y_test)"
      ],
      "metadata": {
        "colab": {
          "base_uri": "https://localhost:8080/"
        },
        "id": "yh4uiKVzyFqs",
        "outputId": "95ad0d2b-9878-43cb-d218-c3ca35abc2de"
      },
      "execution_count": 86,
      "outputs": [
        {
          "output_type": "execute_result",
          "data": {
            "text/plain": [
              "(40, 10, 40, 10)"
            ]
          },
          "metadata": {},
          "execution_count": 86
        }
      ]
    },
    {
      "cell_type": "markdown",
      "source": [
        "How might we better visualize our data?"
      ],
      "metadata": {
        "id": "Le1aTBGhEkkt"
      }
    },
    {
      "cell_type": "code",
      "source": [
        "def plot_prediction(train_data = X_train,\n",
        "                    train_labels = y_train,\n",
        "                    test_data = X_test,\n",
        "                    test_labels = y_test,\n",
        "                    predictions = None):\n",
        "    plt.figure(figsize=(10,7))\n",
        "\n",
        "    # Plot training data in Blue\n",
        "    plt.scatter(train_data, train_labels, c = \"b\", s = 4, label = \"Training data\")\n",
        "\n",
        "    # Plot test data in green\n",
        "    plt.scatter(test_data, test_labels, c = 'g', s = 4, label = \"Testing data\")\n",
        "\n",
        "    # Are there predictions?\n",
        "    if predictions is not None:\n",
        "        # Plot the predictions if they exist\n",
        "        plt.scatter(test_data, predictions, c = 'r', s = 4, label = \"Predictions\")\n",
        "\n",
        "    # Show legend\n",
        "    plt.legend(prop={\"size\":14});"
      ],
      "metadata": {
        "id": "qGoO0XbMciO7"
      },
      "execution_count": 87,
      "outputs": []
    },
    {
      "cell_type": "code",
      "source": [
        "plot_prediction()"
      ],
      "metadata": {
        "colab": {
          "base_uri": "https://localhost:8080/",
          "height": 460
        },
        "id": "vPKC2qT4dGaO",
        "outputId": "349e4966-8b22-4347-e3d9-b4e7561c02d5"
      },
      "execution_count": 88,
      "outputs": [
        {
          "output_type": "display_data",
          "data": {
            "text/plain": [
              "<Figure size 1000x700 with 1 Axes>"
            ],
            "image/png": "[encoded data removed]"
          },
          "metadata": {}
        }
      ]
    },
    {
      "cell_type": "markdown",
      "source": [
        "### 2. Build Model\n",
        "\n",
        "Our first PyTorch Model\n",
        "\n",
        "`What our model does?`\n",
        "- Start with random values (weight and bias)\n",
        "- Look at training data and adjust the random values to better represent (or get closer to) the ideal values (the weight and bias values we used to create the data)\n",
        "\n",
        "`How does it do so?`\n",
        "\n",
        "Through two main algorithms:\n",
        "1. Gradient descent\n",
        "2. Backpropagation"
      ],
      "metadata": {
        "id": "j073C9Had_rc"
      }
    },
    {
      "cell_type": "markdown",
      "source": [
        "![image.png](data:image/png;base64,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)"
      ],
      "metadata": {
        "id": "wnT2A4YpiyUn"
      }
    },
    {
      "cell_type": "code",
      "source": [
        "from torch import nn\n",
        "\n",
        "# Create linear regression model class\n",
        "class LinearRegressionModel(nn.Module): # Almost everything in PyTorch inherits from nn.Module\n",
        "    def __init__(self):\n",
        "        super().__init__()\n",
        "        self.weights = nn.Parameter(torch.randn(1, # <- start with a random weight and try to adjust it to the ideal weight\n",
        "                                                requires_grad=True, # <- can this parameter be updated via gradient descent?\n",
        "                                                dtype=torch.float))\n",
        "        self.bias = nn.Parameter(torch.randn(1,\n",
        "                                             requires_grad=True,\n",
        "                                             dtype=torch.float))\n",
        "        # Forward method to define the computation in the model\n",
        "    def forward(self, x: torch.Tensor)->torch.Tensor: # \"x\" is the input data\n",
        "        return self.weights * x + self.bias  # this is linear regression formula"
      ],
      "metadata": {
        "id": "w6F8enytewJy"
      },
      "execution_count": 89,
      "outputs": []
    },
    {
      "cell_type": "markdown",
      "source": [
        "- `requires_grad = True` means PyTorch will track the gradients of this specific parameter for use with `torch.autograd` and gradient descent\n",
        "\n",
        "- Any subclass of `nn.Module` needs to override `forward()` (this defines the forward computation of the model)"
      ],
      "metadata": {
        "id": "HzrSYn4ghxJf"
      }
    },
    {
      "cell_type": "markdown",
      "source": [
        "#### PyTorch model building essentials\n",
        "\n",
        "- torch.nn : contains all of the buildings for computational graphs (a neural network can be considered computational graph)\n",
        "- torch.nn.Parameter : what parameters should our model try and learn, often a PyTorch layer from torch.nn will set these for us\n",
        "- torch.nn.Module : The base class for all neural network modules, if you subclass it, you should override `forward()`\n",
        "- torch.optim : This is where optimizers in PyTorch live, they will help with gradient descent\n",
        "- def forward() : All nn.Module subclasses require you to overwrite forward(), this method defines what happens in the forward computation"
      ],
      "metadata": {
        "id": "6mIGvD_5l855"
      }
    },
    {
      "cell_type": "code",
      "source": [
        "workflow"
      ],
      "metadata": {
        "colab": {
          "base_uri": "https://localhost:8080/"
        },
        "id": "WV7i2pfcvVSt",
        "outputId": "8603e8ff-ee31-4e3a-ec25-f7bcdbf33d02"
      },
      "execution_count": 90,
      "outputs": [
        {
          "output_type": "execute_result",
          "data": {
            "text/plain": [
              "{1: 'Get data ready (turn into tensors)',\n",
              " 2: 'Build or pick a pretrained model',\n",
              " 3: 'Fit the model to the data and make a prediction',\n",
              " 4: 'Evaluate the model',\n",
              " 5: 'Improve through experimentation',\n",
              " 6: 'Save and reload your trained model'}"
            ]
          },
          "metadata": {},
          "execution_count": 90
        }
      ]
    },
    {
      "cell_type": "markdown",
      "source": [
        "**Get data ready**\n",
        "- torchvision.transforms\n",
        "- torch.utils.data.Dataset\n",
        "- torch.utils.data.DataLoader\n",
        "\n",
        "**Pick a loss function and optimizer**\n",
        "- torch.optim : for optimizer\n",
        "- torch.nn\n",
        "- torch.nn.Module\n",
        "- torchvision.models\n",
        "\n",
        "**Evaluate the model**\n",
        "- torchmetrics\n",
        "\n",
        "**Improve through experimentations**\n",
        "- torch.utils.tensorboard"
      ],
      "metadata": {
        "id": "jeR7h30xqefq"
      }
    },
    {
      "cell_type": "code",
      "source": [
        "# We can check our model parameters or what's inside our model using .parameters()\n",
        "\n",
        "# Create a random seed\n",
        "torch.manual_seed(42)\n",
        "\n",
        "# Create an instance of the module (this is a subclass of nn.Module)\n",
        "model_0 = LinearRegressionModel()\n",
        "\n",
        "# Check out the parameters\n",
        "model_0.parameters()"
      ],
      "metadata": {
        "colab": {
          "base_uri": "https://localhost:8080/"
        },
        "id": "uhMYAa1fvSpS",
        "outputId": "453516f5-45d8-4721-c1a1-95401c6f1616"
      },
      "execution_count": 91,
      "outputs": [
        {
          "output_type": "execute_result",
          "data": {
            "text/plain": [
              "<generator object Module.parameters at 0x789421272110>"
            ]
          },
          "metadata": {},
          "execution_count": 91
        }
      ]
    },
    {
      "cell_type": "code",
      "source": [
        "list(model_0.parameters())"
      ],
      "metadata": {
        "colab": {
          "base_uri": "https://localhost:8080/"
        },
        "id": "aC_X8baSv-Nz",
        "outputId": "6d2f8bed-3286-4511-c04f-878df23bd25c"
      },
      "execution_count": 92,
      "outputs": [
        {
          "output_type": "execute_result",
          "data": {
            "text/plain": [
              "[Parameter containing:\n",
              " tensor([0.3367], requires_grad=True),\n",
              " Parameter containing:\n",
              " tensor([0.1288], requires_grad=True)]"
            ]
          },
          "metadata": {},
          "execution_count": 92
        }
      ]
    },
    {
      "cell_type": "code",
      "source": [
        "torch.randn(1)"
      ],
      "metadata": {
        "colab": {
          "base_uri": "https://localhost:8080/"
        },
        "id": "4PT8cz3FwFXM",
        "outputId": "6ed861e5-f4d7-4289-b0e7-cc0e5433501b"
      },
      "execution_count": 93,
      "outputs": [
        {
          "output_type": "execute_result",
          "data": {
            "text/plain": [
              "tensor([0.2345])"
            ]
          },
          "metadata": {},
          "execution_count": 93
        }
      ]
    },
    {
      "cell_type": "code",
      "source": [
        "torch.randn(1)"
      ],
      "metadata": {
        "colab": {
          "base_uri": "https://localhost:8080/"
        },
        "id": "-WSrCKPowNnj",
        "outputId": "06af22fb-614f-40b9-ca6c-147fdfab1a61"
      },
      "execution_count": 94,
      "outputs": [
        {
          "output_type": "execute_result",
          "data": {
            "text/plain": [
              "tensor([0.2303])"
            ]
          },
          "metadata": {},
          "execution_count": 94
        }
      ]
    },
    {
      "cell_type": "code",
      "source": [
        "torch.randn(4)"
      ],
      "metadata": {
        "colab": {
          "base_uri": "https://localhost:8080/"
        },
        "id": "diopsQQ5wQnL",
        "outputId": "e4561666-65eb-42d3-89f3-309a3930e9fd"
      },
      "execution_count": 95,
      "outputs": [
        {
          "output_type": "execute_result",
          "data": {
            "text/plain": [
              "tensor([-1.1229, -0.1863,  2.2082, -0.6380])"
            ]
          },
          "metadata": {},
          "execution_count": 95
        }
      ]
    },
    {
      "cell_type": "code",
      "source": [
        "torch.manual_seed(11)\n",
        "torch.randn(3)"
      ],
      "metadata": {
        "colab": {
          "base_uri": "https://localhost:8080/"
        },
        "id": "2yBkd4imwVOR",
        "outputId": "234426f2-5d9f-4863-bc81-8b224bbbd899"
      },
      "execution_count": 96,
      "outputs": [
        {
          "output_type": "execute_result",
          "data": {
            "text/plain": [
              "tensor([ 0.7376,  1.9459, -0.6995])"
            ]
          },
          "metadata": {},
          "execution_count": 96
        }
      ]
    },
    {
      "cell_type": "code",
      "source": [
        "list(model_0.parameters())"
      ],
      "metadata": {
        "colab": {
          "base_uri": "https://localhost:8080/"
        },
        "id": "2RXDEnoOwdnP",
        "outputId": "36977b09-a227-4262-f700-455c28fd5bcf"
      },
      "execution_count": 97,
      "outputs": [
        {
          "output_type": "execute_result",
          "data": {
            "text/plain": [
              "[Parameter containing:\n",
              " tensor([0.3367], requires_grad=True),\n",
              " Parameter containing:\n",
              " tensor([0.1288], requires_grad=True)]"
            ]
          },
          "metadata": {},
          "execution_count": 97
        }
      ]
    },
    {
      "cell_type": "markdown",
      "source": [
        "`state_dict()`"
      ],
      "metadata": {
        "id": "BmBfWWJew0rV"
      }
    },
    {
      "cell_type": "code",
      "source": [
        "# List named parameters\n",
        "model_0.state_dict()"
      ],
      "metadata": {
        "colab": {
          "base_uri": "https://localhost:8080/"
        },
        "id": "6L0f1nF6wpe2",
        "outputId": "be0db81c-f327-431a-c8ce-1be6a1fb70c6"
      },
      "execution_count": 98,
      "outputs": [
        {
          "output_type": "execute_result",
          "data": {
            "text/plain": [
              "OrderedDict([('weights', tensor([0.3367])), ('bias', tensor([0.1288]))])"
            ]
          },
          "metadata": {},
          "execution_count": 98
        }
      ]
    },
    {
      "cell_type": "code",
      "source": [
        "weight, bias"
      ],
      "metadata": {
        "colab": {
          "base_uri": "https://localhost:8080/"
        },
        "id": "VQr0t8ifwy2X",
        "outputId": "d2506665-08e5-44c4-cd83-875caf6f0271"
      },
      "execution_count": 99,
      "outputs": [
        {
          "output_type": "execute_result",
          "data": {
            "text/plain": [
              "(0.7, 0.3)"
            ]
          },
          "metadata": {},
          "execution_count": 99
        }
      ]
    },
    {
      "cell_type": "markdown",
      "source": [
        "Making predictions using `torch.inference_mode()`\n",
        "\n",
        "To check our model's predictive power, let's see how well it predicts `y_test` based on `X_test`.\n",
        "\n",
        "When we pass data through our model, it's going to run it through the `forward()` method."
      ],
      "metadata": {
        "id": "nDU38jc1w-FV"
      }
    },
    {
      "cell_type": "code",
      "source": [
        "X_test, y_test"
      ],
      "metadata": {
        "colab": {
          "base_uri": "https://localhost:8080/"
        },
        "id": "wjDOr8-Bycz8",
        "outputId": "c599df31-daf7-49d6-fbfe-7af193160f83"
      },
      "execution_count": 100,
      "outputs": [
        {
          "output_type": "execute_result",
          "data": {
            "text/plain": [
              "(tensor([[0.8000],\n",
              "         [0.8200],\n",
              "         [0.8400],\n",
              "         [0.8600],\n",
              "         [0.8800],\n",
              "         [0.9000],\n",
              "         [0.9200],\n",
              "         [0.9400],\n",
              "         [0.9600],\n",
              "         [0.9800]]),\n",
              " tensor([[0.8600],\n",
              "         [0.8740],\n",
              "         [0.8880],\n",
              "         [0.9020],\n",
              "         [0.9160],\n",
              "         [0.9300],\n",
              "         [0.9440],\n",
              "         [0.9580],\n",
              "         [0.9720],\n",
              "         [0.9860]]))"
            ]
          },
          "metadata": {},
          "execution_count": 100
        }
      ]
    },
    {
      "cell_type": "code",
      "source": [
        "# Make predictions with model\n",
        "\n",
        "with torch.inference_mode():\n",
        "    y_preds = model_0(X_test)\n",
        "\n",
        "# with torch.no_grad():\n",
        "#     y_preds = model_0(X_test)\n",
        "\n",
        "y_preds"
      ],
      "metadata": {
        "colab": {
          "base_uri": "https://localhost:8080/"
        },
        "id": "5g0lUw2YxcbP",
        "outputId": "7115b65c-94fc-42f7-c680-441712b8b8d6"
      },
      "execution_count": 101,
      "outputs": [
        {
          "output_type": "execute_result",
          "data": {
            "text/plain": [
              "tensor([[0.3982],\n",
              "        [0.4049],\n",
              "        [0.4116],\n",
              "        [0.4184],\n",
              "        [0.4251],\n",
              "        [0.4318],\n",
              "        [0.4386],\n",
              "        [0.4453],\n",
              "        [0.4520],\n",
              "        [0.4588]])"
            ]
          },
          "metadata": {},
          "execution_count": 101
        }
      ]
    },
    {
      "cell_type": "code",
      "source": [
        "plot_prediction(predictions = y_preds)"
      ],
      "metadata": {
        "colab": {
          "base_uri": "https://localhost:8080/",
          "height": 460
        },
        "id": "5AlqnlwKyYFw",
        "outputId": "6f6b654c-b691-41d7-851c-3f21e6179580"
      },
      "execution_count": 102,
      "outputs": [
        {
          "output_type": "display_data",
          "data": {
            "text/plain": [
              "<Figure size 1000x700 with 1 Axes>"
            ],
            "image/png": "[encoded data removed]"
          },
          "metadata": {}
        }
      ]
    },
    {
      "cell_type": "markdown",
      "source": [
        "#### Setting up a loss function and optimizer"
      ],
      "metadata": {
        "id": "0KkAwAA9zDcP"
      }
    },
    {
      "cell_type": "markdown",
      "source": [
        "### 3. Train Model\n",
        "The whole idea of training for the model is to move from some *unknown* parameters (these may be random) to some *known* parameters.\n",
        "\n",
        "Or in other words from a poor representation of the data to a better representation of the data.\n",
        "\n",
        "One way to measure how poor or how wrong your model predictions are is to use a `loss function`.\n",
        "\n",
        "`Loss function may also be called **cost function** or **criterion** in different areas.`\n",
        "\n",
        "**Loss Function** : A function to measure how wrong your model's prediction are to the ideal outputs, lower the better!!\n",
        "\n",
        "**Optimizer** : Takes into account the loss of a model and adjusts the model's parameters (e.g. weight and bias in our case) to improve the loss function.\n",
        "\n",
        "And specifically for PyTorch, we need:\n",
        "- A training loop\n",
        "- A testing loop"
      ],
      "metadata": {
        "id": "vE9h5_pA1D_U"
      }
    },
    {
      "cell_type": "code",
      "source": [
        "list(model_0.parameters())"
      ],
      "metadata": {
        "colab": {
          "base_uri": "https://localhost:8080/"
        },
        "id": "oltcScN935TN",
        "outputId": "9de4f563-4886-4e40-b137-fda857a8f554"
      },
      "execution_count": 103,
      "outputs": [
        {
          "output_type": "execute_result",
          "data": {
            "text/plain": [
              "[Parameter containing:\n",
              " tensor([0.3367], requires_grad=True),\n",
              " Parameter containing:\n",
              " tensor([0.1288], requires_grad=True)]"
            ]
          },
          "metadata": {},
          "execution_count": 103
        }
      ]
    },
    {
      "cell_type": "code",
      "source": [
        "model_0.state_dict()"
      ],
      "metadata": {
        "colab": {
          "base_uri": "https://localhost:8080/"
        },
        "id": "dh7tVk1N8Bae",
        "outputId": "4acba5fa-5499-411a-a1dc-6968359d154b"
      },
      "execution_count": 104,
      "outputs": [
        {
          "output_type": "execute_result",
          "data": {
            "text/plain": [
              "OrderedDict([('weights', tensor([0.3367])), ('bias', tensor([0.1288]))])"
            ]
          },
          "metadata": {},
          "execution_count": 104
        }
      ]
    },
    {
      "cell_type": "markdown",
      "source": [
        "**Loss Functions** : https://pytorch.org/docs/stable/nn.html#loss-functions"
      ],
      "metadata": {
        "id": "mrgEC3H98EpL"
      }
    },
    {
      "cell_type": "markdown",
      "source": [
        "L1Loss\n",
        "\n",
        "---\n",
        "\n",
        "measures the mean absolute error (MAE) between each element in the input\n",
        "x and target y."
      ],
      "metadata": {
        "id": "Tfk-REVs1PIs"
      }
    },
    {
      "cell_type": "code",
      "source": [
        "# Setup a loss function\n",
        "loss_function = nn.L1Loss()"
      ],
      "metadata": {
        "id": "NJODToZw143Y"
      },
      "execution_count": 105,
      "outputs": []
    },
    {
      "cell_type": "code",
      "source": [
        "loss_function"
      ],
      "metadata": {
        "colab": {
          "base_uri": "https://localhost:8080/"
        },
        "id": "hnt_9bYG16rR",
        "outputId": "db53e0be-3c1b-4477-debb-1dfe7eb96bd4"
      },
      "execution_count": 106,
      "outputs": [
        {
          "output_type": "execute_result",
          "data": {
            "text/plain": [
              "L1Loss()"
            ]
          },
          "metadata": {},
          "execution_count": 106
        }
      ]
    },
    {
      "cell_type": "markdown",
      "source": [
        "An \"**optimizer**\" is an algorithm that is used to adjust the parameters of a neural network during training by calculating and applying updates based on the calculated gradients, aiming to minimize the loss function and improve the model's performance.\n",
        "\n",
        "https://pytorch.org/docs/stable/optim.html#module-torch.optim"
      ],
      "metadata": {
        "id": "SbNPYUor2LLb"
      }
    },
    {
      "cell_type": "code",
      "source": [
        "# Setup an optimizer (stochastic gradient descent)\n",
        "optimizer = torch.optim.SGD(\n",
        "    params = model_0.parameters(),\n",
        "    lr = 0.01)      # Learning Rate"
      ],
      "metadata": {
        "id": "334cHeP_2eS8"
      },
      "execution_count": 107,
      "outputs": []
    },
    {
      "cell_type": "code",
      "source": [
        "optimizer"
      ],
      "metadata": {
        "colab": {
          "base_uri": "https://localhost:8080/"
        },
        "id": "kT1mgvgsRlur",
        "outputId": "9ad90006-b579-4e8f-b774-20cba4e73bb3"
      },
      "execution_count": 108,
      "outputs": [
        {
          "output_type": "execute_result",
          "data": {
            "text/plain": [
              "SGD (\n",
              "Parameter Group 0\n",
              "    dampening: 0\n",
              "    differentiable: False\n",
              "    foreach: None\n",
              "    fused: None\n",
              "    lr: 0.01\n",
              "    maximize: False\n",
              "    momentum: 0\n",
              "    nesterov: False\n",
              "    weight_decay: 0\n",
              ")"
            ]
          },
          "metadata": {},
          "execution_count": 108
        }
      ]
    },
    {
      "cell_type": "markdown",
      "source": [
        "#### Building a training loop (and a testing loop) in PyTorch\n",
        "\n",
        "A couple of things we need in a training loop:\n",
        "0. Loop through the data\n",
        "1. Forward Pass (this involves data moving through our model's `forward()` function) to make predictions on data- also called forward propagation\n",
        "2. Calculate the loss (compare forward pass predictions to ground truth labels)\n",
        "3. Optimizer zero grad\n",
        "4. Loss backward - move backwards through the network to calculate the gradients of each of the parameters of our model with respect to the loss (**backpropagations**)\n",
        "5. Optimizer step - use the optimizer to adjust our model's parameters to try and improve the loss (**gradient descent**)"
      ],
      "metadata": {
        "id": "IvM-aQvIRswG"
      }
    },
    {
      "cell_type": "code",
      "source": [
        "list(model_0.parameters())"
      ],
      "metadata": {
        "colab": {
          "base_uri": "https://localhost:8080/"
        },
        "id": "XuYv-SFjUvkr",
        "outputId": "d7df70c2-19f6-43eb-852c-c2dad8a5ae14"
      },
      "execution_count": 109,
      "outputs": [
        {
          "output_type": "execute_result",
          "data": {
            "text/plain": [
              "[Parameter containing:\n",
              " tensor([0.3367], requires_grad=True),\n",
              " Parameter containing:\n",
              " tensor([0.1288], requires_grad=True)]"
            ]
          },
          "metadata": {},
          "execution_count": 109
        }
      ]
    },
    {
      "cell_type": "code",
      "source": [
        "# An epoch is one loop through the data... (this is a hyperparameter)\n",
        "epochs = 1\n",
        "\n",
        "# TRAINING\n",
        "# 0. Loop through the data\n",
        "for epoch in range(epochs):\n",
        "    model_0.train() # By Default\n",
        "\n",
        "    # 1. Forward Pass\n",
        "    y_pred = model_0(X_train)\n",
        "\n",
        "    # 2. Loss Calculation\n",
        "    loss = loss_function(y_pred, y_train)\n",
        "    print(f\"Loss: {loss}\")\n",
        "\n",
        "    # 3. Optimizer Zero Grad\n",
        "    optimizer.zero_grad()\n",
        "\n",
        "    # 4. Perform backpropagation on the loss w.r.t. the parameters of the model\n",
        "    loss.backward()\n",
        "\n",
        "    # 5. Step the optimizer (perform gradient descent)\n",
        "    optimizer.step()\n",
        "    # by default how the optimizer changes will accumulate through the loop so we have to zero them above in step 3 for the next iteration of the loop.\n",
        "\n",
        "    model_0.eval() # Turns off the gradient tracking\n",
        "\n",
        "    # Print out model state_dict()\n",
        "    print(model_0.state_dict())  # Can see the parameters changing with each time you run this cell"
      ],
      "metadata": {
        "id": "jU8KKk5tUO5i",
        "colab": {
          "base_uri": "https://localhost:8080/"
        },
        "outputId": "89b79631-d2a7-48c0-a68a-af2cd8e235b7"
      },
      "execution_count": 110,
      "outputs": [
        {
          "output_type": "stream",
          "name": "stdout",
          "text": [
            "Loss: 0.31288138031959534\n",
            "OrderedDict([('weights', tensor([0.3406])), ('bias', tensor([0.1388]))])\n"
          ]
        }
      ]
    },
    {
      "cell_type": "code",
      "source": [
        "model_0.state_dict()"
      ],
      "metadata": {
        "id": "kShoeHDeVCsF",
        "colab": {
          "base_uri": "https://localhost:8080/"
        },
        "outputId": "e74245fe-ad6c-48dd-b749-c09cdd4e64f2"
      },
      "execution_count": 111,
      "outputs": [
        {
          "output_type": "execute_result",
          "data": {
            "text/plain": [
              "OrderedDict([('weights', tensor([0.3406])), ('bias', tensor([0.1388]))])"
            ]
          },
          "metadata": {},
          "execution_count": 111
        }
      ]
    },
    {
      "cell_type": "code",
      "source": [
        "plot_prediction(predictions=y_preds)"
      ],
      "metadata": {
        "colab": {
          "base_uri": "https://localhost:8080/",
          "height": 460
        },
        "id": "vDEQyuzyjHvS",
        "outputId": "99357e9c-18d6-494f-80bf-5817b72a7fab"
      },
      "execution_count": 112,
      "outputs": [
        {
          "output_type": "display_data",
          "data": {
            "text/plain": [
              "<Figure size 1000x700 with 1 Axes>"
            ],
            "image/png": "[encoded data removed]"
          },
          "metadata": {}
        }
      ]
    },
    {
      "cell_type": "code",
      "source": [
        "with torch.inference_mode():\n",
        "    y_preds_new = model_0(X_test)"
      ],
      "metadata": {
        "id": "iz_jsZKMh650"
      },
      "execution_count": 113,
      "outputs": []
    },
    {
      "cell_type": "code",
      "source": [
        "plot_prediction(predictions=y_preds_new)"
      ],
      "metadata": {
        "colab": {
          "base_uri": "https://localhost:8080/",
          "height": 460
        },
        "id": "4-OLBgWxjOhw",
        "outputId": "1537c161-1fd6-464d-ab43-dab443a7059b"
      },
      "execution_count": 114,
      "outputs": [
        {
          "output_type": "display_data",
          "data": {
            "text/plain": [
              "<Figure size 1000x700 with 1 Axes>"
            ],
            "image/png": "[encoded data removed]"
          },
          "metadata": {}
        }
      ]
    },
    {
      "cell_type": "markdown",
      "source": [
        "Let's increase epochs to 100 and see the change...\n",
        "\n",
        "Also adding TESTING CODE"
      ],
      "metadata": {
        "id": "Rs__7k-4jpT2"
      }
    },
    {
      "cell_type": "code",
      "source": [
        "# An epoch is one loop through the data... (this is a hyperparameter)\n",
        "epochs = 200\n",
        "\n",
        "# Track different values\n",
        "epoch_count = []\n",
        "loss_values = []\n",
        "test_loss_values = []\n",
        "\n",
        "# TRAINING\n",
        "# 0. Loop through the data\n",
        "for epoch in range(epochs):\n",
        "    model_0.train() # By Default\n",
        "\n",
        "    # 1. Forward Pass\n",
        "    y_pred = model_0(X_train)\n",
        "\n",
        "    # 2. Loss Calculation\n",
        "    loss = loss_function(y_pred, y_train)\n",
        "    print(f\"Loss: {loss}\")\n",
        "\n",
        "    # 3. Optimizer Zero Grad\n",
        "    optimizer.zero_grad()\n",
        "\n",
        "    # 4. Perform backpropagation on the loss w.r.t. the parameters of the model\n",
        "    loss.backward()\n",
        "\n",
        "    # 5. Step the optimizer (perform gradient descent)\n",
        "    optimizer.step()\n",
        "    # by default how the optimizer changes will accumulate through the loop so we have to zero them above in step 3 for the next iteration of the loop.\n",
        "\n",
        "    model_0.eval() # Turns off the gradient tracking\n",
        "\n",
        "    # TESTING\n",
        "    model_0.eval() # turns off different settings in the model not needed for evaluation/testing (dropout/batch norm layers)\n",
        "    with torch.inference_mode(): # TURNS OFF GRADIENT TRACKING and couple of more things behind the scene ::: We may also see torch.no_grad() in older PyTorch code\n",
        "        # 1. Forward Pass\n",
        "        test_pred = model_0(X_test)\n",
        "\n",
        "        # 2. Calculate the loss\n",
        "        test_loss = loss_function(test_pred, y_test)\n",
        "\n",
        "    if epoch%10 == 0:\n",
        "        epoch_count.append(epoch)\n",
        "        loss_values.append(loss)\n",
        "        test_loss_values.append(test_loss)\n",
        "        print(f\"Epoch: {epoch} | Loss: {loss} | Test Loss: {test_loss}\")\n",
        "        # Print out model state_dict()\n",
        "        print(model_0.state_dict())  # Can see the parameters changing with each time you run this cell\n",
        "\n"
      ],
      "metadata": {
        "colab": {
          "base_uri": "https://localhost:8080/"
        },
        "id": "BnEdx1AQjSe9",
        "outputId": "e72aef18-17e0-4b1c-d2b1-3e541ed23252"
      },
      "execution_count": 115,
      "outputs": [
        {
          "output_type": "stream",
          "name": "stdout",
          "text": [
            "Loss: 0.3013603389263153\n",
            "Epoch: 0 | Loss: 0.3013603389263153 | Test Loss: 0.4675942063331604\n",
            "OrderedDict([('weights', tensor([0.3445])), ('bias', tensor([0.1488]))])\n",
            "Loss: 0.28983935713768005\n",
            "Loss: 0.2783183455467224\n",
            "Loss: 0.26679736375808716\n",
            "Loss: 0.2552763521671295\n",
            "Loss: 0.24375534057617188\n",
            "Loss: 0.23223432898521423\n",
            "Loss: 0.22071333229541779\n",
            "Loss: 0.20919232070446014\n",
            "Loss: 0.1976713240146637\n",
            "Loss: 0.18615034222602844\n",
            "Epoch: 10 | Loss: 0.18615034222602844 | Test Loss: 0.3328842222690582\n",
            "OrderedDict([('weights', tensor([0.3835])), ('bias', tensor([0.2488]))])\n",
            "Loss: 0.1746293306350708\n",
            "Loss: 0.16310831904411316\n",
            "Loss: 0.1515873372554779\n",
            "Loss: 0.14006635546684265\n",
            "Loss: 0.1285453587770462\n",
            "Loss: 0.11702437698841095\n",
            "Loss: 0.1060912236571312\n",
            "Loss: 0.09681284427642822\n",
            "Loss: 0.08908725529909134\n",
            "Loss: 0.08227583020925522\n",
            "Epoch: 20 | Loss: 0.08227583020925522 | Test Loss: 0.2069590985774994\n",
            "OrderedDict([('weights', tensor([0.4222])), ('bias', tensor([0.3403]))])\n",
            "Loss: 0.07638873159885406\n",
            "Loss: 0.07160007208585739\n",
            "Loss: 0.06747635453939438\n",
            "Loss: 0.06395438313484192\n",
            "Loss: 0.06097004935145378\n",
            "Loss: 0.05845819041132927\n",
            "Loss: 0.05635259300470352\n",
            "Loss: 0.0545857772231102\n",
            "Loss: 0.053148526698350906\n",
            "Loss: 0.05181945487856865\n",
            "Epoch: 30 | Loss: 0.05181945487856865 | Test Loss: 0.14023718237876892\n",
            "OrderedDict([('weights', tensor([0.4539])), ('bias', tensor([0.3788]))])\n",
            "Loss: 0.05069301277399063\n",
            "Loss: 0.0498228520154953\n",
            "Loss: 0.04895269125699997\n",
            "Loss: 0.04819351062178612\n",
            "Loss: 0.047531817108392715\n",
            "Loss: 0.04692792519927025\n",
            "Loss: 0.04642331600189209\n",
            "Loss: 0.04591871052980423\n",
            "Loss: 0.04543796554207802\n",
            "Loss: 0.04503796249628067\n",
            "Epoch: 40 | Loss: 0.04503796249628067 | Test Loss: 0.11182951927185059\n",
            "OrderedDict([('weights', tensor([0.4768])), ('bias', tensor([0.3868]))])\n",
            "Loss: 0.04463795945048332\n",
            "Loss: 0.04423796385526657\n",
            "Loss: 0.04383796453475952\n",
            "Loss: 0.04343796148896217\n",
            "Loss: 0.043074630200862885\n",
            "Loss: 0.04272563382983208\n",
            "Loss: 0.04237663000822067\n",
            "Loss: 0.04202762991189957\n",
            "Loss: 0.04167863354086876\n",
            "Loss: 0.04132963344454765\n",
            "Epoch: 50 | Loss: 0.04132963344454765 | Test Loss: 0.09809747338294983\n",
            "OrderedDict([('weights', tensor([0.4956])), ('bias', tensor([0.3838]))])\n",
            "Loss: 0.04098063334822655\n",
            "Loss: 0.04063162952661514\n",
            "Loss: 0.040282636880874634\n",
            "Loss: 0.039933640509843826\n",
            "Loss: 0.03958464413881302\n",
            "Loss: 0.03923564404249191\n",
            "Loss: 0.03888664394617081\n",
            "Loss: 0.0385376438498497\n",
            "Loss: 0.03818932920694351\n",
            "Loss: 0.03785243630409241\n",
            "Epoch: 60 | Loss: 0.03785243630409241 | Test Loss: 0.08776430785655975\n",
            "OrderedDict([('weights', tensor([0.5134])), ('bias', tensor([0.3783]))])\n",
            "Loss: 0.0375034399330616\n",
            "Loss: 0.037164121866226196\n",
            "Loss: 0.03681822493672371\n",
            "Loss: 0.03647511452436447\n",
            "Loss: 0.03613303601741791\n",
            "Loss: 0.03578609973192215\n",
            "Loss: 0.03544783592224121\n",
            "Loss: 0.035098835825920105\n",
            "Loss: 0.03476089984178543\n",
            "Loss: 0.03441363573074341\n",
            "Epoch: 70 | Loss: 0.03441363573074341 | Test Loss: 0.0794917643070221\n",
            "OrderedDict([('weights', tensor([0.5306])), ('bias', tensor([0.3713]))])\n",
            "Loss: 0.03407188132405281\n",
            "Loss: 0.03372843936085701\n",
            "Loss: 0.03338287025690079\n",
            "Loss: 0.033043231815099716\n",
            "Loss: 0.03269423171877861\n",
            "Loss: 0.032357655465602875\n",
            "Loss: 0.03200903534889221\n",
            "Loss: 0.03166864812374115\n",
            "Loss: 0.03132382780313492\n",
            "Loss: 0.030979642644524574\n",
            "Epoch: 80 | Loss: 0.030979642644524574 | Test Loss: 0.07190609723329544\n",
            "OrderedDict([('weights', tensor([0.5475])), ('bias', tensor([0.3638]))])\n",
            "Loss: 0.030638623982667923\n",
            "Loss: 0.0302906334400177\n",
            "Loss: 0.029953425750136375\n",
            "Loss: 0.02960442565381527\n",
            "Loss: 0.029265418648719788\n",
            "Loss: 0.028919223695993423\n",
            "Loss: 0.028576409444212914\n",
            "Loss: 0.028234025463461876\n",
            "Loss: 0.02788739837706089\n",
            "Loss: 0.02754882536828518\n",
            "Epoch: 90 | Loss: 0.02754882536828518 | Test Loss: 0.06363357603549957\n",
            "OrderedDict([('weights', tensor([0.5647])), ('bias', tensor([0.3568]))])\n",
            "Loss: 0.027199819684028625\n",
            "Loss: 0.026862185448408127\n",
            "Loss: 0.02651461586356163\n",
            "Loss: 0.026173178106546402\n",
            "Loss: 0.025829419493675232\n",
            "Loss: 0.02548416517674923\n",
            "Loss: 0.025144213810563087\n",
            "Loss: 0.02479521557688713\n",
            "Loss: 0.024458957836031914\n",
            "Loss: 0.024110013619065285\n",
            "Epoch: 100 | Loss: 0.024110013619065285 | Test Loss: 0.05536102131009102\n",
            "OrderedDict([('weights', tensor([0.5818])), ('bias', tensor([0.3498]))])\n",
            "Loss: 0.02376994863152504\n",
            "Loss: 0.02342480979859829\n",
            "Loss: 0.023080935701727867\n",
            "Loss: 0.022739607840776443\n",
            "Loss: 0.022391926497220993\n",
            "Loss: 0.022054409608244896\n",
            "Loss: 0.02170540764927864\n",
            "Loss: 0.021366719156503677\n",
            "Loss: 0.021020207554101944\n",
            "Loss: 0.020677709951996803\n",
            "Epoch: 110 | Loss: 0.020677709951996803 | Test Loss: 0.04777535796165466\n",
            "OrderedDict([('weights', tensor([0.5988])), ('bias', tensor([0.3423]))])\n",
            "Loss: 0.02033500373363495\n",
            "Loss: 0.01998869702219963\n",
            "Loss: 0.019649803638458252\n",
            "Loss: 0.019300809130072594\n",
            "Loss: 0.018963487818837166\n",
            "Loss: 0.01861560344696045\n",
            "Loss: 0.018274478614330292\n",
            "Loss: 0.017930403351783752\n",
            "Loss: 0.01758546568453312\n",
            "Loss: 0.017245199531316757\n",
            "Epoch: 120 | Loss: 0.017245199531316757 | Test Loss: 0.0395028181374073\n",
            "OrderedDict([('weights', tensor([0.6159])), ('bias', tensor([0.3353]))])\n",
            "Loss: 0.016896454617381096\n",
            "Loss: 0.01656000316143036\n",
            "Loss: 0.016210997477173805\n",
            "Loss: 0.01587124727666378\n",
            "Loss: 0.015525798313319683\n",
            "Loss: 0.015182236209511757\n",
            "Loss: 0.014840595424175262\n",
            "Loss: 0.01449323259294033\n",
            "Loss: 0.014155393466353416\n",
            "Loss: 0.013806397095322609\n",
            "Epoch: 130 | Loss: 0.013806397095322609 | Test Loss: 0.031230276450514793\n",
            "OrderedDict([('weights', tensor([0.6331])), ('bias', tensor([0.3283]))])\n",
            "Loss: 0.013468016870319843\n",
            "Loss: 0.013121193274855614\n",
            "Loss: 0.01277900766581297\n",
            "Loss: 0.012435992248356342\n",
            "Loss: 0.01208999752998352\n",
            "Loss: 0.011750795878469944\n",
            "Loss: 0.011401787400245667\n",
            "Loss: 0.011064787395298481\n",
            "Loss: 0.010716589167714119\n",
            "Loss: 0.010375778190791607\n",
            "Epoch: 140 | Loss: 0.010375778190791607 | Test Loss: 0.023644620552659035\n",
            "OrderedDict([('weights', tensor([0.6501])), ('bias', tensor([0.3208]))])\n",
            "Loss: 0.010031387209892273\n",
            "Loss: 0.009686763398349285\n",
            "Loss: 0.009346187114715576\n",
            "Loss: 0.008997755125164986\n",
            "Loss: 0.008660981431603432\n",
            "Loss: 0.008311985060572624\n",
            "Loss: 0.007972544990479946\n",
            "Loss: 0.007626785431057215\n",
            "Loss: 0.0072835334576666355\n",
            "Loss: 0.006941580679267645\n",
            "Epoch: 150 | Loss: 0.006941580679267645 | Test Loss: 0.0153720797970891\n",
            "OrderedDict([('weights', tensor([0.6672])), ('bias', tensor([0.3138]))])\n",
            "Loss: 0.006594526115804911\n",
            "Loss: 0.006256377790123224\n",
            "Loss: 0.005907376762479544\n",
            "Loss: 0.005569315515458584\n",
            "Loss: 0.005222178064286709\n",
            "Loss: 0.004880306776612997\n",
            "Loss: 0.004536976106464863\n",
            "Loss: 0.00419129803776741\n",
            "Loss: 0.0038517764769494534\n",
            "Loss: 0.0035027749836444855\n",
            "Epoch: 160 | Loss: 0.0035027749836444855 | Test Loss: 0.007099539041519165\n",
            "OrderedDict([('weights', tensor([0.6844])), ('bias', tensor([0.3068]))])\n",
            "Loss: 0.0031660839449614286\n",
            "Loss: 0.002817571861669421\n",
            "Loss: 0.0024770735763013363\n",
            "Loss: 0.0021323717664927244\n",
            "Loss: 0.0017880648374557495\n",
            "Loss: 0.0014518328243866563\n",
            "Loss: 0.0011887758737429976\n",
            "Loss: 0.0025885067880153656\n",
            "Loss: 0.008932482451200485\n",
            "Loss: 0.0025885067880153656\n",
            "Epoch: 170 | Loss: 0.0025885067880153656 | Test Loss: 0.008447891101241112\n",
            "OrderedDict([('weights', tensor([0.6990])), ('bias', tensor([0.3093]))])\n",
            "Loss: 0.008932482451200485\n",
            "Loss: 0.0025885067880153656\n",
            "Loss: 0.008932482451200485\n",
            "Loss: 0.0025885067880153656\n",
            "Loss: 0.008932482451200485\n",
            "Loss: 0.0025885067880153656\n",
            "Loss: 0.008932482451200485\n",
            "Loss: 0.0025885067880153656\n",
            "Loss: 0.008932482451200485\n",
            "Loss: 0.0025885067880153656\n",
            "Epoch: 180 | Loss: 0.0025885067880153656 | Test Loss: 0.008447891101241112\n",
            "OrderedDict([('weights', tensor([0.6990])), ('bias', tensor([0.3093]))])\n",
            "Loss: 0.008932482451200485\n",
            "Loss: 0.0025885067880153656\n",
            "Loss: 0.008932482451200485\n",
            "Loss: 0.0025885067880153656\n",
            "Loss: 0.008932482451200485\n",
            "Loss: 0.0025885067880153656\n",
            "Loss: 0.008932482451200485\n",
            "Loss: 0.0025885067880153656\n",
            "Loss: 0.008932482451200485\n",
            "Loss: 0.0025885067880153656\n",
            "Epoch: 190 | Loss: 0.0025885067880153656 | Test Loss: 0.008447891101241112\n",
            "OrderedDict([('weights', tensor([0.6990])), ('bias', tensor([0.3093]))])\n",
            "Loss: 0.008932482451200485\n",
            "Loss: 0.0025885067880153656\n",
            "Loss: 0.008932482451200485\n",
            "Loss: 0.0025885067880153656\n",
            "Loss: 0.008932482451200485\n",
            "Loss: 0.0025885067880153656\n",
            "Loss: 0.008932482451200485\n",
            "Loss: 0.0025885067880153656\n",
            "Loss: 0.008932482451200485\n"
          ]
        }
      ]
    },
    {
      "cell_type": "code",
      "source": [
        "weight, bias # Ideally"
      ],
      "metadata": {
        "colab": {
          "base_uri": "https://localhost:8080/"
        },
        "id": "dEX-Ngmbt1ep",
        "outputId": "d4eec75d-cd83-411e-e213-c3298db712d3"
      },
      "execution_count": 116,
      "outputs": [
        {
          "output_type": "execute_result",
          "data": {
            "text/plain": [
              "(0.7, 0.3)"
            ]
          },
          "metadata": {},
          "execution_count": 116
        }
      ]
    },
    {
      "cell_type": "code",
      "source": [
        "with torch.inference_mode():\n",
        "    y_preds_new = model_0(X_test)"
      ],
      "metadata": {
        "id": "913ecUQrjaf7"
      },
      "execution_count": 117,
      "outputs": []
    },
    {
      "cell_type": "code",
      "source": [
        "plot_prediction(predictions=y_preds_new)"
      ],
      "metadata": {
        "colab": {
          "base_uri": "https://localhost:8080/",
          "height": 460
        },
        "id": "Vr4foBtSjgKP",
        "outputId": "5dea368e-c690-4663-826c-e5bbca6dfa0b"
      },
      "execution_count": 118,
      "outputs": [
        {
          "output_type": "display_data",
          "data": {
            "text/plain": [
              "<Figure size 1000x700 with 1 Axes>"
            ],
            "image/png": "[encoded data removed]"
          },
          "metadata": {}
        }
      ]
    },
    {
      "cell_type": "code",
      "source": [
        "epoch_count, loss_values, test_loss_values"
      ],
      "metadata": {
        "colab": {
          "base_uri": "https://localhost:8080/"
        },
        "id": "cg0CWu7SwZ8F",
        "outputId": "ccc39f76-a964-4ebd-f45a-542683be129a"
      },
      "execution_count": 119,
      "outputs": [
        {
          "output_type": "execute_result",
          "data": {
            "text/plain": [
              "([0,\n",
              "  10,\n",
              "  20,\n",
              "  30,\n",
              "  40,\n",
              "  50,\n",
              "  60,\n",
              "  70,\n",
              "  80,\n",
              "  90,\n",
              "  100,\n",
              "  110,\n",
              "  120,\n",
              "  130,\n",
              "  140,\n",
              "  150,\n",
              "  160,\n",
              "  170,\n",
              "  180,\n",
              "  190],\n",
              " [tensor(0.3014, grad_fn=<MeanBackward0>),\n",
              "  tensor(0.1862, grad_fn=<MeanBackward0>),\n",
              "  tensor(0.0823, grad_fn=<MeanBackward0>),\n",
              "  tensor(0.0518, grad_fn=<MeanBackward0>),\n",
              "  tensor(0.0450, grad_fn=<MeanBackward0>),\n",
              "  tensor(0.0413, grad_fn=<MeanBackward0>),\n",
              "  tensor(0.0379, grad_fn=<MeanBackward0>),\n",
              "  tensor(0.0344, grad_fn=<MeanBackward0>),\n",
              "  tensor(0.0310, grad_fn=<MeanBackward0>),\n",
              "  tensor(0.0275, grad_fn=<MeanBackward0>),\n",
              "  tensor(0.0241, grad_fn=<MeanBackward0>),\n",
              "  tensor(0.0207, grad_fn=<MeanBackward0>),\n",
              "  tensor(0.0172, grad_fn=<MeanBackward0>),\n",
              "  tensor(0.0138, grad_fn=<MeanBackward0>),\n",
              "  tensor(0.0104, grad_fn=<MeanBackward0>),\n",
              "  tensor(0.0069, grad_fn=<MeanBackward0>),\n",
              "  tensor(0.0035, grad_fn=<MeanBackward0>),\n",
              "  tensor(0.0026, grad_fn=<MeanBackward0>),\n",
              "  tensor(0.0026, grad_fn=<MeanBackward0>),\n",
              "  tensor(0.0026, grad_fn=<MeanBackward0>)],\n",
              " [tensor(0.4676),\n",
              "  tensor(0.3329),\n",
              "  tensor(0.2070),\n",
              "  tensor(0.1402),\n",
              "  tensor(0.1118),\n",
              "  tensor(0.0981),\n",
              "  tensor(0.0878),\n",
              "  tensor(0.0795),\n",
              "  tensor(0.0719),\n",
              "  tensor(0.0636),\n",
              "  tensor(0.0554),\n",
              "  tensor(0.0478),\n",
              "  tensor(0.0395),\n",
              "  tensor(0.0312),\n",
              "  tensor(0.0236),\n",
              "  tensor(0.0154),\n",
              "  tensor(0.0071),\n",
              "  tensor(0.0084),\n",
              "  tensor(0.0084),\n",
              "  tensor(0.0084)])"
            ]
          },
          "metadata": {},
          "execution_count": 119
        }
      ]
    },
    {
      "cell_type": "code",
      "source": [
        "plt.plot(epoch_count, loss_values, label = \"Train Loss\")\n",
        "plt.plot(epoch_count, test_loss_values, label = \"Test Loss\")\n",
        "plt.title(\"Training and Test loss curves\")\n",
        "plt.ylabel(\"Loss\")\n",
        "plt.xlabel(\"Epochs\")\n",
        "plt.legend()"
      ],
      "metadata": {
        "colab": {
          "base_uri": "https://localhost:8080/",
          "height": 826
        },
        "id": "CU6tux5Qwh2g",
        "outputId": "7899e1cf-5b4f-4387-c9c5-27f0a7af1294"
      },
      "execution_count": 120,
      "outputs": [
        {
          "output_type": "error",
          "ename": "RuntimeError",
          "evalue": "Can't call numpy() on Tensor that requires grad. Use tensor.detach().numpy() instead.",
          "traceback": [
            "\u001b[0;31m---------------------------------------------------------------------------\u001b[0m",
            "\u001b[0;31mRuntimeError\u001b[0m                              Traceback (most recent call last)",
            "\u001b[0;32m<ipython-input-120-95d80dda691a>\u001b[0m in \u001b[0;36m<cell line: 1>\u001b[0;34m()\u001b[0m\n\u001b[0;32m----> 1\u001b[0;31m \u001b[0mplt\u001b[0m\u001b[0;34m.\u001b[0m\u001b[0mplot\u001b[0m\u001b[0;34m(\u001b[0m\u001b[0mepoch_count\u001b[0m\u001b[0;34m,\u001b[0m \u001b[0mloss_values\u001b[0m\u001b[0;34m,\u001b[0m \u001b[0mlabel\u001b[0m \u001b[0;34m=\u001b[0m \u001b[0;34m\"Train Loss\"\u001b[0m\u001b[0;34m)\u001b[0m\u001b[0;34m\u001b[0m\u001b[0;34m\u001b[0m\u001b[0m\n\u001b[0m\u001b[1;32m      2\u001b[0m \u001b[0mplt\u001b[0m\u001b[0;34m.\u001b[0m\u001b[0mplot\u001b[0m\u001b[0;34m(\u001b[0m\u001b[0mepoch_count\u001b[0m\u001b[0;34m,\u001b[0m \u001b[0mtest_loss_values\u001b[0m\u001b[0;34m,\u001b[0m \u001b[0mlabel\u001b[0m \u001b[0;34m=\u001b[0m \u001b[0;34m\"Test Loss\"\u001b[0m\u001b[0;34m)\u001b[0m\u001b[0;34m\u001b[0m\u001b[0;34m\u001b[0m\u001b[0m\n\u001b[1;32m      3\u001b[0m \u001b[0mplt\u001b[0m\u001b[0;34m.\u001b[0m\u001b[0mtitle\u001b[0m\u001b[0;34m(\u001b[0m\u001b[0;34m\"Training and Test loss curves\"\u001b[0m\u001b[0;34m)\u001b[0m\u001b[0;34m\u001b[0m\u001b[0;34m\u001b[0m\u001b[0m\n\u001b[1;32m      4\u001b[0m \u001b[0mplt\u001b[0m\u001b[0;34m.\u001b[0m\u001b[0mylabel\u001b[0m\u001b[0;34m(\u001b[0m\u001b[0;34m\"Loss\"\u001b[0m\u001b[0;34m)\u001b[0m\u001b[0;34m\u001b[0m\u001b[0;34m\u001b[0m\u001b[0m\n\u001b[1;32m      5\u001b[0m \u001b[0mplt\u001b[0m\u001b[0;34m.\u001b[0m\u001b[0mxlabel\u001b[0m\u001b[0;34m(\u001b[0m\u001b[0;34m\"Epochs\"\u001b[0m\u001b[0;34m)\u001b[0m\u001b[0;34m\u001b[0m\u001b[0;34m\u001b[0m\u001b[0m\n",
            "\u001b[0;32m/usr/local/lib/python3.10/dist-packages/matplotlib/pyplot.py\u001b[0m in \u001b[0;36mplot\u001b[0;34m(scalex, scaley, data, *args, **kwargs)\u001b[0m\n\u001b[1;32m   3576\u001b[0m     \u001b[0;34m**\u001b[0m\u001b[0mkwargs\u001b[0m\u001b[0;34m,\u001b[0m\u001b[0;34m\u001b[0m\u001b[0;34m\u001b[0m\u001b[0m\n\u001b[1;32m   3577\u001b[0m ) -> list[Line2D]:\n\u001b[0;32m-> 3578\u001b[0;31m     return gca().plot(\n\u001b[0m\u001b[1;32m   3579\u001b[0m         \u001b[0;34m*\u001b[0m\u001b[0margs\u001b[0m\u001b[0;34m,\u001b[0m\u001b[0;34m\u001b[0m\u001b[0;34m\u001b[0m\u001b[0m\n\u001b[1;32m   3580\u001b[0m         \u001b[0mscalex\u001b[0m\u001b[0;34m=\u001b[0m\u001b[0mscalex\u001b[0m\u001b[0;34m,\u001b[0m\u001b[0;34m\u001b[0m\u001b[0;34m\u001b[0m\u001b[0m\n",
            "\u001b[0;32m/usr/local/lib/python3.10/dist-packages/matplotlib/axes/_axes.py\u001b[0m in \u001b[0;36mplot\u001b[0;34m(self, scalex, scaley, data, *args, **kwargs)\u001b[0m\n\u001b[1;32m   1719\u001b[0m         \"\"\"\n\u001b[1;32m   1720\u001b[0m         \u001b[0mkwargs\u001b[0m \u001b[0;34m=\u001b[0m \u001b[0mcbook\u001b[0m\u001b[0;34m.\u001b[0m\u001b[0mnormalize_kwargs\u001b[0m\u001b[0;34m(\u001b[0m\u001b[0mkwargs\u001b[0m\u001b[0;34m,\u001b[0m \u001b[0mmlines\u001b[0m\u001b[0;34m.\u001b[0m\u001b[0mLine2D\u001b[0m\u001b[0;34m)\u001b[0m\u001b[0;34m\u001b[0m\u001b[0;34m\u001b[0m\u001b[0m\n\u001b[0;32m-> 1721\u001b[0;31m         \u001b[0mlines\u001b[0m \u001b[0;34m=\u001b[0m \u001b[0;34m[\u001b[0m\u001b[0;34m*\u001b[0m\u001b[0mself\u001b[0m\u001b[0;34m.\u001b[0m\u001b[0m_get_lines\u001b[0m\u001b[0;34m(\u001b[0m\u001b[0mself\u001b[0m\u001b[0;34m,\u001b[0m \u001b[0;34m*\u001b[0m\u001b[0margs\u001b[0m\u001b[0;34m,\u001b[0m \u001b[0mdata\u001b[0m\u001b[0;34m=\u001b[0m\u001b[0mdata\u001b[0m\u001b[0;34m,\u001b[0m \u001b[0;34m**\u001b[0m\u001b[0mkwargs\u001b[0m\u001b[0;34m)\u001b[0m\u001b[0;34m]\u001b[0m\u001b[0;34m\u001b[0m\u001b[0;34m\u001b[0m\u001b[0m\n\u001b[0m\u001b[1;32m   1722\u001b[0m         \u001b[0;32mfor\u001b[0m \u001b[0mline\u001b[0m \u001b[0;32min\u001b[0m \u001b[0mlines\u001b[0m\u001b[0;34m:\u001b[0m\u001b[0;34m\u001b[0m\u001b[0;34m\u001b[0m\u001b[0m\n\u001b[1;32m   1723\u001b[0m             \u001b[0mself\u001b[0m\u001b[0;34m.\u001b[0m\u001b[0madd_line\u001b[0m\u001b[0;34m(\u001b[0m\u001b[0mline\u001b[0m\u001b[0;34m)\u001b[0m\u001b[0;34m\u001b[0m\u001b[0;34m\u001b[0m\u001b[0m\n",
            "\u001b[0;32m/usr/local/lib/python3.10/dist-packages/matplotlib/axes/_base.py\u001b[0m in \u001b[0;36m__call__\u001b[0;34m(self, axes, data, *args, **kwargs)\u001b[0m\n\u001b[1;32m    301\u001b[0m                 \u001b[0mthis\u001b[0m \u001b[0;34m+=\u001b[0m \u001b[0margs\u001b[0m\u001b[0;34m[\u001b[0m\u001b[0;36m0\u001b[0m\u001b[0;34m]\u001b[0m\u001b[0;34m,\u001b[0m\u001b[0;34m\u001b[0m\u001b[0;34m\u001b[0m\u001b[0m\n\u001b[1;32m    302\u001b[0m                 \u001b[0margs\u001b[0m \u001b[0;34m=\u001b[0m \u001b[0margs\u001b[0m\u001b[0;34m[\u001b[0m\u001b[0;36m1\u001b[0m\u001b[0;34m:\u001b[0m\u001b[0;34m]\u001b[0m\u001b[0;34m\u001b[0m\u001b[0;34m\u001b[0m\u001b[0m\n\u001b[0;32m--> 303\u001b[0;31m             yield from self._plot_args(\n\u001b[0m\u001b[1;32m    304\u001b[0m                 axes, this, kwargs, ambiguous_fmt_datakey=ambiguous_fmt_datakey)\n\u001b[1;32m    305\u001b[0m \u001b[0;34m\u001b[0m\u001b[0m\n",
            "\u001b[0;32m/usr/local/lib/python3.10/dist-packages/matplotlib/axes/_base.py\u001b[0m in \u001b[0;36m_plot_args\u001b[0;34m(self, axes, tup, kwargs, return_kwargs, ambiguous_fmt_datakey)\u001b[0m\n\u001b[1;32m    487\u001b[0m         \u001b[0;32mif\u001b[0m \u001b[0mlen\u001b[0m\u001b[0;34m(\u001b[0m\u001b[0mxy\u001b[0m\u001b[0;34m)\u001b[0m \u001b[0;34m==\u001b[0m \u001b[0;36m2\u001b[0m\u001b[0;34m:\u001b[0m\u001b[0;34m\u001b[0m\u001b[0;34m\u001b[0m\u001b[0m\n\u001b[1;32m    488\u001b[0m             \u001b[0mx\u001b[0m \u001b[0;34m=\u001b[0m \u001b[0m_check_1d\u001b[0m\u001b[0;34m(\u001b[0m\u001b[0mxy\u001b[0m\u001b[0;34m[\u001b[0m\u001b[0;36m0\u001b[0m\u001b[0;34m]\u001b[0m\u001b[0;34m)\u001b[0m\u001b[0;34m\u001b[0m\u001b[0;34m\u001b[0m\u001b[0m\n\u001b[0;32m--> 489\u001b[0;31m             \u001b[0my\u001b[0m \u001b[0;34m=\u001b[0m \u001b[0m_check_1d\u001b[0m\u001b[0;34m(\u001b[0m\u001b[0mxy\u001b[0m\u001b[0;34m[\u001b[0m\u001b[0;36m1\u001b[0m\u001b[0;34m]\u001b[0m\u001b[0;34m)\u001b[0m\u001b[0;34m\u001b[0m\u001b[0;34m\u001b[0m\u001b[0m\n\u001b[0m\u001b[1;32m    490\u001b[0m         \u001b[0;32melse\u001b[0m\u001b[0;34m:\u001b[0m\u001b[0;34m\u001b[0m\u001b[0;34m\u001b[0m\u001b[0m\n\u001b[1;32m    491\u001b[0m             \u001b[0mx\u001b[0m\u001b[0;34m,\u001b[0m \u001b[0my\u001b[0m \u001b[0;34m=\u001b[0m \u001b[0mindex_of\u001b[0m\u001b[0;34m(\u001b[0m\u001b[0mxy\u001b[0m\u001b[0;34m[\u001b[0m\u001b[0;34m-\u001b[0m\u001b[0;36m1\u001b[0m\u001b[0;34m]\u001b[0m\u001b[0;34m)\u001b[0m\u001b[0;34m\u001b[0m\u001b[0;34m\u001b[0m\u001b[0m\n",
            "\u001b[0;32m/usr/local/lib/python3.10/dist-packages/matplotlib/cbook.py\u001b[0m in \u001b[0;36m_check_1d\u001b[0;34m(x)\u001b[0m\n\u001b[1;32m   1356\u001b[0m             \u001b[0;32mnot\u001b[0m \u001b[0mhasattr\u001b[0m\u001b[0;34m(\u001b[0m\u001b[0mx\u001b[0m\u001b[0;34m,\u001b[0m \u001b[0;34m'ndim'\u001b[0m\u001b[0;34m)\u001b[0m \u001b[0;32mor\u001b[0m\u001b[0;34m\u001b[0m\u001b[0;34m\u001b[0m\u001b[0m\n\u001b[1;32m   1357\u001b[0m             len(x.shape) < 1):\n\u001b[0;32m-> 1358\u001b[0;31m         \u001b[0;32mreturn\u001b[0m \u001b[0mnp\u001b[0m\u001b[0;34m.\u001b[0m\u001b[0matleast_1d\u001b[0m\u001b[0;34m(\u001b[0m\u001b[0mx\u001b[0m\u001b[0;34m)\u001b[0m\u001b[0;34m\u001b[0m\u001b[0;34m\u001b[0m\u001b[0m\n\u001b[0m\u001b[1;32m   1359\u001b[0m     \u001b[0;32melse\u001b[0m\u001b[0;34m:\u001b[0m\u001b[0;34m\u001b[0m\u001b[0;34m\u001b[0m\u001b[0m\n\u001b[1;32m   1360\u001b[0m         \u001b[0;32mreturn\u001b[0m \u001b[0mx\u001b[0m\u001b[0;34m\u001b[0m\u001b[0;34m\u001b[0m\u001b[0m\n",
            "\u001b[0;32m/usr/local/lib/python3.10/dist-packages/numpy/core/shape_base.py\u001b[0m in \u001b[0;36matleast_1d\u001b[0;34m(*arys)\u001b[0m\n\u001b[1;32m     63\u001b[0m     \u001b[0mres\u001b[0m \u001b[0;34m=\u001b[0m \u001b[0;34m[\u001b[0m\u001b[0;34m]\u001b[0m\u001b[0;34m\u001b[0m\u001b[0;34m\u001b[0m\u001b[0m\n\u001b[1;32m     64\u001b[0m     \u001b[0;32mfor\u001b[0m \u001b[0mary\u001b[0m \u001b[0;32min\u001b[0m \u001b[0marys\u001b[0m\u001b[0;34m:\u001b[0m\u001b[0;34m\u001b[0m\u001b[0;34m\u001b[0m\u001b[0m\n\u001b[0;32m---> 65\u001b[0;31m         \u001b[0mary\u001b[0m \u001b[0;34m=\u001b[0m \u001b[0masanyarray\u001b[0m\u001b[0;34m(\u001b[0m\u001b[0mary\u001b[0m\u001b[0;34m)\u001b[0m\u001b[0;34m\u001b[0m\u001b[0;34m\u001b[0m\u001b[0m\n\u001b[0m\u001b[1;32m     66\u001b[0m         \u001b[0;32mif\u001b[0m \u001b[0mary\u001b[0m\u001b[0;34m.\u001b[0m\u001b[0mndim\u001b[0m \u001b[0;34m==\u001b[0m \u001b[0;36m0\u001b[0m\u001b[0;34m:\u001b[0m\u001b[0;34m\u001b[0m\u001b[0;34m\u001b[0m\u001b[0m\n\u001b[1;32m     67\u001b[0m             \u001b[0mresult\u001b[0m \u001b[0;34m=\u001b[0m \u001b[0mary\u001b[0m\u001b[0;34m.\u001b[0m\u001b[0mreshape\u001b[0m\u001b[0;34m(\u001b[0m\u001b[0;36m1\u001b[0m\u001b[0;34m)\u001b[0m\u001b[0;34m\u001b[0m\u001b[0;34m\u001b[0m\u001b[0m\n",
            "\u001b[0;32m/usr/local/lib/python3.10/dist-packages/torch/_tensor.py\u001b[0m in \u001b[0;36m__array__\u001b[0;34m(self, dtype)\u001b[0m\n\u001b[1;32m   1147\u001b[0m             \u001b[0;32mreturn\u001b[0m \u001b[0mhandle_torch_function\u001b[0m\u001b[0;34m(\u001b[0m\u001b[0mTensor\u001b[0m\u001b[0;34m.\u001b[0m\u001b[0m__array__\u001b[0m\u001b[0;34m,\u001b[0m \u001b[0;34m(\u001b[0m\u001b[0mself\u001b[0m\u001b[0;34m,\u001b[0m\u001b[0;34m)\u001b[0m\u001b[0;34m,\u001b[0m \u001b[0mself\u001b[0m\u001b[0;34m,\u001b[0m \u001b[0mdtype\u001b[0m\u001b[0;34m=\u001b[0m\u001b[0mdtype\u001b[0m\u001b[0;34m)\u001b[0m\u001b[0;34m\u001b[0m\u001b[0;34m\u001b[0m\u001b[0m\n\u001b[1;32m   1148\u001b[0m         \u001b[0;32mif\u001b[0m \u001b[0mdtype\u001b[0m \u001b[0;32mis\u001b[0m \u001b[0;32mNone\u001b[0m\u001b[0;34m:\u001b[0m\u001b[0;34m\u001b[0m\u001b[0;34m\u001b[0m\u001b[0m\n\u001b[0;32m-> 1149\u001b[0;31m             \u001b[0;32mreturn\u001b[0m \u001b[0mself\u001b[0m\u001b[0;34m.\u001b[0m\u001b[0mnumpy\u001b[0m\u001b[0;34m(\u001b[0m\u001b[0;34m)\u001b[0m\u001b[0;34m\u001b[0m\u001b[0;34m\u001b[0m\u001b[0m\n\u001b[0m\u001b[1;32m   1150\u001b[0m         \u001b[0;32melse\u001b[0m\u001b[0;34m:\u001b[0m\u001b[0;34m\u001b[0m\u001b[0;34m\u001b[0m\u001b[0m\n\u001b[1;32m   1151\u001b[0m             \u001b[0;32mreturn\u001b[0m \u001b[0mself\u001b[0m\u001b[0;34m.\u001b[0m\u001b[0mnumpy\u001b[0m\u001b[0;34m(\u001b[0m\u001b[0;34m)\u001b[0m\u001b[0;34m.\u001b[0m\u001b[0mastype\u001b[0m\u001b[0;34m(\u001b[0m\u001b[0mdtype\u001b[0m\u001b[0;34m,\u001b[0m \u001b[0mcopy\u001b[0m\u001b[0;34m=\u001b[0m\u001b[0;32mFalse\u001b[0m\u001b[0;34m)\u001b[0m\u001b[0;34m\u001b[0m\u001b[0;34m\u001b[0m\u001b[0m\n",
            "\u001b[0;31mRuntimeError\u001b[0m: Can't call numpy() on Tensor that requires grad. Use tensor.detach().numpy() instead."
          ]
        },
        {
          "output_type": "display_data",
          "data": {
            "text/plain": [
              "<Figure size 640x480 with 1 Axes>"
            ],
            "image/png": "[encoded data removed]"
          },
          "metadata": {}
        }
      ]
    },
    {
      "cell_type": "code",
      "source": [
        "import numpy as np\n",
        "np.array(torch.tensor(loss_values).cpu().numpy())"
      ],
      "metadata": {
        "colab": {
          "base_uri": "https://localhost:8080/"
        },
        "id": "fU_HB8L6xRWx",
        "outputId": "71e2bb2e-bf34-4eca-a0c7-725c299d86bb"
      },
      "execution_count": 121,
      "outputs": [
        {
          "output_type": "execute_result",
          "data": {
            "text/plain": [
              "array([0.30136034, 0.18615034, 0.08227583, 0.05181945, 0.04503796,\n",
              "       0.04132963, 0.03785244, 0.03441364, 0.03097964, 0.02754883,\n",
              "       0.02411001, 0.02067771, 0.0172452 , 0.0138064 , 0.01037578,\n",
              "       0.00694158, 0.00350277, 0.00258851, 0.00258851, 0.00258851],\n",
              "      dtype=float32)"
            ]
          },
          "metadata": {},
          "execution_count": 121
        }
      ]
    },
    {
      "cell_type": "code",
      "source": [
        "plt.plot(epoch_count, np.array(torch.tensor(loss_values).cpu().numpy()), label = \"Train Loss\")\n",
        "plt.plot(epoch_count, np.array(torch.tensor(test_loss_values).cpu().numpy()), label = \"Test Loss\")\n",
        "plt.title(\"Training and Test loss curves\")\n",
        "plt.ylabel(\"Loss\")\n",
        "plt.xlabel(\"Epochs\")\n",
        "plt.legend();"
      ],
      "metadata": {
        "colab": {
          "base_uri": "https://localhost:8080/",
          "height": 472
        },
        "id": "vbdukOdlxiFT",
        "outputId": "5d4f2f7f-081c-4f15-d3a4-b1223bfdfbb4"
      },
      "execution_count": 122,
      "outputs": [
        {
          "output_type": "display_data",
          "data": {
            "text/plain": [
              "<Figure size 640x480 with 1 Axes>"
            ],
            "image/png": "[encoded data removed]"
          },
          "metadata": {}
        }
      ]
    },
    {
      "cell_type": "code",
      "source": [
        "model_0"
      ],
      "metadata": {
        "colab": {
          "base_uri": "https://localhost:8080/"
        },
        "id": "ynj2FBUCwRxq",
        "outputId": "b43e58da-36ee-4bd3-96a7-acd6a91e0842"
      },
      "execution_count": 123,
      "outputs": [
        {
          "output_type": "execute_result",
          "data": {
            "text/plain": [
              "LinearRegressionModel()"
            ]
          },
          "metadata": {},
          "execution_count": 123
        }
      ]
    },
    {
      "cell_type": "markdown",
      "source": [
        "#### Saving the model\n",
        "\n",
        "There are three main methods for saving and loading models in PyTorch\n",
        "\n",
        "- `torch.save()` - allows to save a PyTorch object in Python's pickle format.\n",
        "- `torch.load()` - allows to load a saved PyTorch object\n",
        "- `torch.nn.Module.load_state_dict()` - allows to load a model's saved state dictionary\n",
        "\n"
      ],
      "metadata": {
        "id": "Ze6haicLDaBg"
      }
    },
    {
      "cell_type": "code",
      "source": [
        "model_0.state_dict()"
      ],
      "metadata": {
        "colab": {
          "base_uri": "https://localhost:8080/"
        },
        "id": "ScVnTeo2Dd1N",
        "outputId": "16347f7c-cc1c-44a8-915d-2ad3a225bdd3"
      },
      "execution_count": 124,
      "outputs": [
        {
          "output_type": "execute_result",
          "data": {
            "text/plain": [
              "OrderedDict([('weights', tensor([0.6951])), ('bias', tensor([0.2993]))])"
            ]
          },
          "metadata": {},
          "execution_count": 124
        }
      ]
    },
    {
      "cell_type": "code",
      "source": [
        "# Saving our PyTorch model\n",
        "from pathlib import Path\n",
        "\n",
        "# 1. Create models directory\n",
        "MODEL_PATH = Path(\"models\")\n",
        "MODEL_PATH.mkdir(parents=True, exist_ok=True)\n",
        "\n",
        "# 2. Create model save path\n",
        "MODEL_NAME = \"PyTorch_Workflow.pt\"\n",
        "MODEL_SAVE_PATH = MODEL_PATH / MODEL_NAME\n",
        "\n",
        "# 3. Save the model state_dict\n",
        "print(f\"SAVING THE MODEL AT: {MODEL_SAVE_PATH}\")\n",
        "torch.save(model_0.state_dict(),MODEL_SAVE_PATH)"
      ],
      "metadata": {
        "colab": {
          "base_uri": "https://localhost:8080/"
        },
        "id": "wb8B9AMLQ2Ya",
        "outputId": "c121b222-0434-4eee-dc2c-c7809dfdd940"
      },
      "execution_count": 125,
      "outputs": [
        {
          "output_type": "stream",
          "name": "stdout",
          "text": [
            "SAVING THE MODEL AT: models/PyTorch_Workflow.pt\n"
          ]
        }
      ]
    },
    {
      "cell_type": "code",
      "source": [
        "!ls -l models"
      ],
      "metadata": {
        "colab": {
          "base_uri": "https://localhost:8080/"
        },
        "id": "0L6qgjekSmmx",
        "outputId": "4a323576-7a1c-4d21-cb9c-3c0ddd8054d3"
      },
      "execution_count": 126,
      "outputs": [
        {
          "output_type": "stream",
          "name": "stdout",
          "text": [
            "total 4\n",
            "-rw-r--r-- 1 root root 1550 Dec 20 08:43 PyTorch_Workflow.pt\n"
          ]
        }
      ]
    },
    {
      "cell_type": "markdown",
      "source": [
        "### Loading a PyTorch Model\n",
        "Since we saved our model's `state_dict()` rather than the entire model, we'll create a new instance of our model class and load the saved `state_dict()` into that."
      ],
      "metadata": {
        "id": "T2ae3dBTT1KN"
      }
    },
    {
      "cell_type": "code",
      "source": [
        "# To load in a saved state_dict we have to instantiate a new instance of our model class\n",
        "loaded_model_0 = LinearRegressionModel()\n",
        "\n",
        "print(loaded_model_0.state_dict()) # Initially\n",
        "\n",
        "# Load the saved state_dict of model_0 (this will update the new instance with updated parameters)\n",
        "loaded_model_0.load_state_dict(torch.load(f=MODEL_SAVE_PATH))"
      ],
      "metadata": {
        "id": "p38YnngzTLWy",
        "colab": {
          "base_uri": "https://localhost:8080/"
        },
        "outputId": "461f7d96-573c-40ad-af15-84cd916eaf6a"
      },
      "execution_count": 127,
      "outputs": [
        {
          "output_type": "stream",
          "name": "stdout",
          "text": [
            "OrderedDict([('weights', tensor([-1.3023])), ('bias', tensor([-0.5133]))])\n"
          ]
        },
        {
          "output_type": "stream",
          "name": "stderr",
          "text": [
            "<ipython-input-127-b58e5ec3c562>:7: FutureWarning: You are using `torch.load` with `weights_only=False` (the current default value), which uses the default pickle module implicitly. It is possible to construct malicious pickle data which will execute arbitrary code during unpickling (See https://github.com/pytorch/pytorch/blob/main/SECURITY.md#untrusted-models for more details). In a future release, the default value for `weights_only` will be flipped to `True`. This limits the functions that could be executed during unpickling. Arbitrary objects will no longer be allowed to be loaded via this mode unless they are explicitly allowlisted by the user via `torch.serialization.add_safe_globals`. We recommend you start setting `weights_only=True` for any use case where you don't have full control of the loaded file. Please open an issue on GitHub for any issues related to this experimental feature.\n",
            "  loaded_model_0.load_state_dict(torch.load(f=MODEL_SAVE_PATH))\n"
          ]
        },
        {
          "output_type": "execute_result",
          "data": {
            "text/plain": [
              "<All keys matched successfully>"
            ]
          },
          "metadata": {},
          "execution_count": 127
        }
      ]
    },
    {
      "cell_type": "code",
      "source": [
        "loaded_model_0.state_dict() # Finally"
      ],
      "metadata": {
        "colab": {
          "base_uri": "https://localhost:8080/"
        },
        "id": "5Cat71hq9U-x",
        "outputId": "74501e97-b9f9-4714-8d63-26dd51cf5903"
      },
      "execution_count": 128,
      "outputs": [
        {
          "output_type": "execute_result",
          "data": {
            "text/plain": [
              "OrderedDict([('weights', tensor([0.6951])), ('bias', tensor([0.2993]))])"
            ]
          },
          "metadata": {},
          "execution_count": 128
        }
      ]
    },
    {
      "cell_type": "code",
      "source": [
        "# Make some predictions with our loaded model\n",
        "loaded_model_0.eval()\n",
        "with torch.inference_mode():\n",
        "    loaded_model_preds = loaded_model_0(X_test)\n",
        "loaded_model_preds"
      ],
      "metadata": {
        "colab": {
          "base_uri": "https://localhost:8080/"
        },
        "id": "Ga1mYYpk9XZX",
        "outputId": "8e8d8e66-4cf8-4061-902f-833421948b18"
      },
      "execution_count": 129,
      "outputs": [
        {
          "output_type": "execute_result",
          "data": {
            "text/plain": [
              "tensor([[0.8554],\n",
              "        [0.8693],\n",
              "        [0.8832],\n",
              "        [0.8971],\n",
              "        [0.9110],\n",
              "        [0.9249],\n",
              "        [0.9388],\n",
              "        [0.9527],\n",
              "        [0.9666],\n",
              "        [0.9805]])"
            ]
          },
          "metadata": {},
          "execution_count": 129
        }
      ]
    },
    {
      "cell_type": "code",
      "source": [
        "# Make some model preds\n",
        "model_0.eval()\n",
        "with torch.inference_mode():\n",
        "    y_preds = model_0(X_test)\n",
        "y_preds"
      ],
      "metadata": {
        "colab": {
          "base_uri": "https://localhost:8080/"
        },
        "id": "SPQtqUuG-SMV",
        "outputId": "39ba1cde-6bab-4f7a-c2d9-38332ab215ab"
      },
      "execution_count": 130,
      "outputs": [
        {
          "output_type": "execute_result",
          "data": {
            "text/plain": [
              "tensor([[0.8554],\n",
              "        [0.8693],\n",
              "        [0.8832],\n",
              "        [0.8971],\n",
              "        [0.9110],\n",
              "        [0.9249],\n",
              "        [0.9388],\n",
              "        [0.9527],\n",
              "        [0.9666],\n",
              "        [0.9805]])"
            ]
          },
          "metadata": {},
          "execution_count": 130
        }
      ]
    },
    {
      "cell_type": "code",
      "source": [
        "# Compare loaded model preds with original model preds\n",
        "y_preds == loaded_model_preds"
      ],
      "metadata": {
        "colab": {
          "base_uri": "https://localhost:8080/"
        },
        "id": "NoBoY6yX-KLf",
        "outputId": "6a94fcb5-8b0c-4702-9ff9-5743a97aa782"
      },
      "execution_count": 131,
      "outputs": [
        {
          "output_type": "execute_result",
          "data": {
            "text/plain": [
              "tensor([[True],\n",
              "        [True],\n",
              "        [True],\n",
              "        [True],\n",
              "        [True],\n",
              "        [True],\n",
              "        [True],\n",
              "        [True],\n",
              "        [True],\n",
              "        [True]])"
            ]
          },
          "metadata": {},
          "execution_count": 131
        }
      ]
    },
    {
      "cell_type": "markdown",
      "source": [
        "### 6. Putting it all together\n",
        "\n",
        "Let's go back through the steps above and see it all in one place"
      ],
      "metadata": {
        "id": "UzI_KabA-kLk"
      }
    },
    {
      "cell_type": "code",
      "source": [
        "# Import PyTorch and Matplotlib\n",
        "import torch\n",
        "from torch import nn\n",
        "import matplotlib.pyplot as plt\n",
        "\n",
        "# Check PyTorch version\n",
        "torch.__version__"
      ],
      "metadata": {
        "colab": {
          "base_uri": "https://localhost:8080/",
          "height": 35
        },
        "id": "zD5CbzDw_eCT",
        "outputId": "91cd7470-3406-4727-9919-5d04b2dd9471"
      },
      "execution_count": 132,
      "outputs": [
        {
          "output_type": "execute_result",
          "data": {
            "text/plain": [
              "'2.5.1+cu121'"
            ],
            "application/vnd.google.colaboratory.intrinsic+json": {
              "type": "string"
            }
          },
          "metadata": {},
          "execution_count": 132
        }
      ]
    },
    {
      "cell_type": "markdown",
      "source": [
        "Create device-agnostic code\n",
        "\n",
        "This means if we've got access to a GPU, our code will use it (for potentially faster computing)\n",
        "\n",
        "If no GPU is available, the code will default to using CPU."
      ],
      "metadata": {
        "id": "g916XAj6_vhH"
      }
    },
    {
      "cell_type": "code",
      "source": [
        "# Setup device agnostic code\n",
        "device = \"cuda\" if torch.cuda.is_available() else \"cpu\"\n",
        "print(f\"Using device: {device}\")"
      ],
      "metadata": {
        "colab": {
          "base_uri": "https://localhost:8080/"
        },
        "id": "X19PUQmJAHE9",
        "outputId": "9b01fcfc-7018-45d6-c71f-71bd0756fba4"
      },
      "execution_count": 133,
      "outputs": [
        {
          "output_type": "stream",
          "name": "stdout",
          "text": [
            "Using device: cuda\n"
          ]
        }
      ]
    },
    {
      "cell_type": "code",
      "source": [
        "! nvidia-smi"
      ],
      "metadata": {
        "colab": {
          "base_uri": "https://localhost:8080/"
        },
        "id": "l-xtEl48AdWR",
        "outputId": "058380a5-1f82-417f-9144-a321ada7c918"
      },
      "execution_count": 134,
      "outputs": [
        {
          "output_type": "stream",
          "name": "stdout",
          "text": [
            "Fri Dec 20 08:43:09 2024       \n",
            "+---------------------------------------------------------------------------------------+\n",
            "| NVIDIA-SMI 535.104.05             Driver Version: 535.104.05   CUDA Version: 12.2     |\n",
            "|-----------------------------------------+----------------------+----------------------+\n",
            "| GPU  Name                 Persistence-M | Bus-Id        Disp.A | Volatile Uncorr. ECC |\n",
            "| Fan  Temp   Perf          Pwr:Usage/Cap |         Memory-Usage | GPU-Util  Compute M. |\n",
            "|                                         |                      |               MIG M. |\n",
            "|=========================================+======================+======================|\n",
            "|   0  Tesla T4                       Off | 00000000:00:04.0 Off |                    0 |\n",
            "| N/A   55C    P0              27W /  70W |    159MiB / 15360MiB |      0%      Default |\n",
            "|                                         |                      |                  N/A |\n",
            "+-----------------------------------------+----------------------+----------------------+\n",
            "                                                                                         \n",
            "+---------------------------------------------------------------------------------------+\n",
            "| Processes:                                                                            |\n",
            "|  GPU   GI   CI        PID   Type   Process name                            GPU Memory |\n",
            "|        ID   ID                                                             Usage      |\n",
            "|=======================================================================================|\n",
            "+---------------------------------------------------------------------------------------+\n"
          ]
        }
      ]
    },
    {
      "cell_type": "markdown",
      "source": [
        "#### 6.1 Data"
      ],
      "metadata": {
        "id": "OZaDNyFl_LnC"
      }
    },
    {
      "cell_type": "code",
      "source": [
        "# Create some data using the linear regression formula : y = weight * X + bias\n",
        "weight = 0.7\n",
        "bias = 0.3\n",
        "\n",
        "# Create range values\n",
        "start = 0\n",
        "end = 1\n",
        "step = 0.02\n",
        "\n",
        "# Create X and y (feature and label)\n",
        "X =  torch.arange(start, end, step).unsqueeze(dim=1)\n",
        "y = weight * X + bias\n",
        "X[:10], y[:10]"
      ],
      "metadata": {
        "colab": {
          "base_uri": "https://localhost:8080/"
        },
        "id": "iEyS7xQ9_Soo",
        "outputId": "edbd63f5-aae8-45ef-f99d-574b8864b060"
      },
      "execution_count": 135,
      "outputs": [
        {
          "output_type": "execute_result",
          "data": {
            "text/plain": [
              "(tensor([[0.0000],\n",
              "         [0.0200],\n",
              "         [0.0400],\n",
              "         [0.0600],\n",
              "         [0.0800],\n",
              "         [0.1000],\n",
              "         [0.1200],\n",
              "         [0.1400],\n",
              "         [0.1600],\n",
              "         [0.1800]]),\n",
              " tensor([[0.3000],\n",
              "         [0.3140],\n",
              "         [0.3280],\n",
              "         [0.3420],\n",
              "         [0.3560],\n",
              "         [0.3700],\n",
              "         [0.3840],\n",
              "         [0.3980],\n",
              "         [0.4120],\n",
              "         [0.4260]]))"
            ]
          },
          "metadata": {},
          "execution_count": 135
        }
      ]
    },
    {
      "cell_type": "code",
      "source": [
        "# Split the data\n",
        "train_split = int(0.8* len(X))\n",
        "X_train, y_train = X[:train_split], y[:train_split]\n",
        "X_test, y_test = X[train_split:], y[train_split:]\n",
        "len(X_train), len(y_train), len(X_test), len(y_test)"
      ],
      "metadata": {
        "colab": {
          "base_uri": "https://localhost:8080/"
        },
        "id": "OyaVCjE0Bhdf",
        "outputId": "1f15a6c6-ab80-4879-f56c-faa4c838ff5a"
      },
      "execution_count": 136,
      "outputs": [
        {
          "output_type": "execute_result",
          "data": {
            "text/plain": [
              "(40, 40, 10, 10)"
            ]
          },
          "metadata": {},
          "execution_count": 136
        }
      ]
    },
    {
      "cell_type": "code",
      "source": [
        "# Plot the data\n",
        "# NOTE: If you don't have the plot_predictions() function, which is created above, this will throw an error\n",
        "plot_prediction(X_train, y_train, X_test, y_test)"
      ],
      "metadata": {
        "colab": {
          "base_uri": "https://localhost:8080/",
          "height": 619
        },
        "id": "6wwnfg1cEsv4",
        "outputId": "956cd756-ab81-4ec6-a022-026e137c2673"
      },
      "execution_count": 137,
      "outputs": [
        {
          "output_type": "display_data",
          "data": {
            "text/plain": [
              "<Figure size 1000x700 with 1 Axes>"
            ],
            "image/png": "[encoded data removed]"
          },
          "metadata": {}
        }
      ]
    },
    {
      "cell_type": "markdown",
      "source": [
        "#### 6.2 Building a PyTorch Linear Model"
      ],
      "metadata": {
        "id": "pPTg7hnXFCtA"
      }
    },
    {
      "cell_type": "code",
      "source": [
        "# Create a linear model by subclassing nn.Module\n",
        "class LinearRegressionModelV2(nn.Module):\n",
        "    def __init__(self):\n",
        "        super().__init__()\n",
        "\n",
        "        # Use nn.Linear() for creating the model parameters / also called : linear transform, probing layer, fully connected layer, dense layer\n",
        "        self.linear_layer = nn.Linear(in_features = 1,\n",
        "                                      out_features = 1) # take one i/p feature and give one o/p feature\n",
        "\n",
        "    def forward(self, x: torch.Tensor) -> torch.Tensor:\n",
        "        return self.linear_layer(x)\n",
        "\n",
        "# Set the manual seed\n",
        "torch.manual_seed(42)\n",
        "model_1 = LinearRegressionModelV2()\n",
        "model_1, model_1.state_dict()\n"
      ],
      "metadata": {
        "colab": {
          "base_uri": "https://localhost:8080/"
        },
        "id": "9a_zSaYiFYp1",
        "outputId": "b837f6f6-c0a8-41e9-b9b5-7c8e2ac05b4c"
      },
      "execution_count": 138,
      "outputs": [
        {
          "output_type": "execute_result",
          "data": {
            "text/plain": [
              "(LinearRegressionModelV2(\n",
              "   (linear_layer): Linear(in_features=1, out_features=1, bias=True)\n",
              " ),\n",
              " OrderedDict([('linear_layer.weight', tensor([[0.7645]])),\n",
              "              ('linear_layer.bias', tensor([0.8300]))]))"
            ]
          },
          "metadata": {},
          "execution_count": 138
        }
      ]
    },
    {
      "cell_type": "code",
      "source": [
        "# Check the model current device\n",
        "next(model_1.parameters()).device"
      ],
      "metadata": {
        "colab": {
          "base_uri": "https://localhost:8080/"
        },
        "id": "l2erDRJKKgkE",
        "outputId": "2bc418d2-ffa7-4c87-d4d6-68efbba9a2fb"
      },
      "execution_count": 139,
      "outputs": [
        {
          "output_type": "execute_result",
          "data": {
            "text/plain": [
              "device(type='cpu')"
            ]
          },
          "metadata": {},
          "execution_count": 139
        }
      ]
    },
    {
      "cell_type": "code",
      "source": [
        "# Set the model to use the target device\n",
        "model_1.to(device)\n",
        "next(model_1.parameters()).device"
      ],
      "metadata": {
        "colab": {
          "base_uri": "https://localhost:8080/"
        },
        "id": "-705AMtCHlvE",
        "outputId": "9a99676f-9333-4953-cb8b-fca830d8a920"
      },
      "execution_count": 140,
      "outputs": [
        {
          "output_type": "execute_result",
          "data": {
            "text/plain": [
              "device(type='cuda', index=0)"
            ]
          },
          "metadata": {},
          "execution_count": 140
        }
      ]
    },
    {
      "cell_type": "markdown",
      "source": [
        "#### 6.3 Training\n",
        "\n",
        "For training we need:\n",
        "- Loss function\n",
        "- Optimizer\n",
        "- Training Loop\n",
        "- Testing Loop"
      ],
      "metadata": {
        "id": "51wHq5L4KvCr"
      }
    },
    {
      "cell_type": "code",
      "source": [
        "# Setup the Loss Function\n",
        "loss_fn = nn.L1Loss() #same as MAE\n",
        "\n",
        "# Setup optimizer\n",
        "optimizer = torch.optim.SGD(params = model_1.parameters(),lr = 0.01)"
      ],
      "metadata": {
        "id": "RjOmMTXOLDsL"
      },
      "execution_count": 141,
      "outputs": []
    },
    {
      "cell_type": "code",
      "source": [
        "# Let's write a trainig loop\n",
        "torch.manual_seed(42)\n",
        "\n",
        "epochs = 200\n",
        "\n",
        "# Put data on the target device (device agnostic code for data)\n",
        "X_train = X_train.to(device)\n",
        "X_test = X_test.to(device)\n",
        "y_train = y_train.to(device)\n",
        "y_test = y_test.to(device)\n",
        "\n",
        "for epoch in range(epochs):\n",
        "    model_1.train()\n",
        "\n",
        "    # 1. Forward pass\n",
        "    y_pred = model_1(X_train)\n",
        "\n",
        "    # 2. Calculate the loss\n",
        "    loss = loss_fn(y_pred, y_train)\n",
        "\n",
        "    # 3. Optimizer zero grad\n",
        "    optimizer.zero_grad()\n",
        "\n",
        "    # 4. Perform Backpropagation\n",
        "    loss.backward()\n",
        "\n",
        "    # 5. Optimizer step\n",
        "    optimizer.step()\n",
        "\n",
        "    # TESTING\n",
        "    model_1.eval()\n",
        "\n",
        "    with torch.inference_mode():\n",
        "        test_pred = model_1(X_test)\n",
        "\n",
        "        test_loss = loss_fn(test_pred, y_test)\n",
        "\n",
        "    # Printing out what's happening\n",
        "    if epoch % 10 == 0:\n",
        "        print(f\"Epoch: {epoch} | Test Loss : {test_loss}\")"
      ],
      "metadata": {
        "colab": {
          "base_uri": "https://localhost:8080/"
        },
        "id": "p5-XZSo0LdcG",
        "outputId": "8a3f9bc9-6166-42ff-97bb-33cb47aac625"
      },
      "execution_count": 142,
      "outputs": [
        {
          "output_type": "stream",
          "name": "stdout",
          "text": [
            "Epoch: 0 | Test Loss : 0.5739762187004089\n",
            "Epoch: 10 | Test Loss : 0.4392664134502411\n",
            "Epoch: 20 | Test Loss : 0.30455657839775085\n",
            "Epoch: 30 | Test Loss : 0.16984669864177704\n",
            "Epoch: 40 | Test Loss : 0.03513690456748009\n",
            "Epoch: 50 | Test Loss : 0.04784907028079033\n",
            "Epoch: 60 | Test Loss : 0.045803118497133255\n",
            "Epoch: 70 | Test Loss : 0.037530567497015\n",
            "Epoch: 80 | Test Loss : 0.02994490973651409\n",
            "Epoch: 90 | Test Loss : 0.02167237363755703\n",
            "Epoch: 100 | Test Loss : 0.014086711220443249\n",
            "Epoch: 110 | Test Loss : 0.005814164876937866\n",
            "Epoch: 120 | Test Loss : 0.013801801018416882\n",
            "Epoch: 130 | Test Loss : 0.013801801018416882\n",
            "Epoch: 140 | Test Loss : 0.013801801018416882\n",
            "Epoch: 150 | Test Loss : 0.013801801018416882\n",
            "Epoch: 160 | Test Loss : 0.013801801018416882\n",
            "Epoch: 170 | Test Loss : 0.013801801018416882\n",
            "Epoch: 180 | Test Loss : 0.013801801018416882\n",
            "Epoch: 190 | Test Loss : 0.013801801018416882\n"
          ]
        }
      ]
    },
    {
      "cell_type": "code",
      "source": [
        "model_1.state_dict()"
      ],
      "metadata": {
        "colab": {
          "base_uri": "https://localhost:8080/"
        },
        "id": "bo1fmMl6M08c",
        "outputId": "80c02772-6cab-4e14-dc08-8549c64643dd"
      },
      "execution_count": 143,
      "outputs": [
        {
          "output_type": "execute_result",
          "data": {
            "text/plain": [
              "OrderedDict([('linear_layer.weight', tensor([[0.6968]], device='cuda:0')),\n",
              "             ('linear_layer.bias', tensor([0.3025], device='cuda:0'))])"
            ]
          },
          "metadata": {},
          "execution_count": 143
        }
      ]
    },
    {
      "cell_type": "code",
      "source": [
        "weight, bias"
      ],
      "metadata": {
        "colab": {
          "base_uri": "https://localhost:8080/"
        },
        "id": "xTgngxqUNYD0",
        "outputId": "ab3bac77-30b3-47fd-cd4d-0fd21327cdcf"
      },
      "execution_count": 144,
      "outputs": [
        {
          "output_type": "execute_result",
          "data": {
            "text/plain": [
              "(0.7, 0.3)"
            ]
          },
          "metadata": {},
          "execution_count": 144
        }
      ]
    },
    {
      "cell_type": "markdown",
      "source": [
        "#### 6.4 Making and Evaluating predictions"
      ],
      "metadata": {
        "id": "8n4VeBNOOD9H"
      }
    },
    {
      "cell_type": "code",
      "source": [
        "# Turn model into evaluation mode\n",
        "model_1.eval()\n",
        "\n",
        "# Make predictions on the test data\n",
        "with torch.inference_mode():\n",
        "    y_preds_1 = model_1(X_test)"
      ],
      "metadata": {
        "id": "75KgfICONahx"
      },
      "execution_count": 145,
      "outputs": []
    },
    {
      "cell_type": "code",
      "source": [
        "y_preds_1"
      ],
      "metadata": {
        "colab": {
          "base_uri": "https://localhost:8080/"
        },
        "id": "0mB1m_dRNyGW",
        "outputId": "163ba6d8-30bf-4680-b4ea-cd472dce589c"
      },
      "execution_count": 146,
      "outputs": [
        {
          "output_type": "execute_result",
          "data": {
            "text/plain": [
              "tensor([[0.8600],\n",
              "        [0.8739],\n",
              "        [0.8878],\n",
              "        [0.9018],\n",
              "        [0.9157],\n",
              "        [0.9296],\n",
              "        [0.9436],\n",
              "        [0.9575],\n",
              "        [0.9714],\n",
              "        [0.9854]], device='cuda:0')"
            ]
          },
          "metadata": {},
          "execution_count": 146
        }
      ]
    },
    {
      "cell_type": "code",
      "source": [
        "plot_prediction(predictions = y_preds_1)"
      ],
      "metadata": {
        "colab": {
          "base_uri": "https://localhost:8080/",
          "height": 782
        },
        "id": "n4oBk4IyOApX",
        "outputId": "480d4781-67ce-4b0e-c8ac-67558c66df87"
      },
      "execution_count": 147,
      "outputs": [
        {
          "output_type": "error",
          "ename": "TypeError",
          "evalue": "can't convert cuda:0 device type tensor to numpy. Use Tensor.cpu() to copy the tensor to host memory first.",
          "traceback": [
            "\u001b[0;31m---------------------------------------------------------------------------\u001b[0m",
            "\u001b[0;31mTypeError\u001b[0m                                 Traceback (most recent call last)",
            "\u001b[0;32m<ipython-input-147-51b9719dfb37>\u001b[0m in \u001b[0;36m<cell line: 1>\u001b[0;34m()\u001b[0m\n\u001b[0;32m----> 1\u001b[0;31m \u001b[0mplot_prediction\u001b[0m\u001b[0;34m(\u001b[0m\u001b[0mpredictions\u001b[0m \u001b[0;34m=\u001b[0m \u001b[0my_preds_1\u001b[0m\u001b[0;34m)\u001b[0m\u001b[0;34m\u001b[0m\u001b[0;34m\u001b[0m\u001b[0m\n\u001b[0m",
            "\u001b[0;32m<ipython-input-87-ce4c7c256b24>\u001b[0m in \u001b[0;36mplot_prediction\u001b[0;34m(train_data, train_labels, test_data, test_labels, predictions)\u001b[0m\n\u001b[1;32m     15\u001b[0m     \u001b[0;32mif\u001b[0m \u001b[0mpredictions\u001b[0m \u001b[0;32mis\u001b[0m \u001b[0;32mnot\u001b[0m \u001b[0;32mNone\u001b[0m\u001b[0;34m:\u001b[0m\u001b[0;34m\u001b[0m\u001b[0;34m\u001b[0m\u001b[0m\n\u001b[1;32m     16\u001b[0m         \u001b[0;31m# Plot the predictions if they exist\u001b[0m\u001b[0;34m\u001b[0m\u001b[0;34m\u001b[0m\u001b[0m\n\u001b[0;32m---> 17\u001b[0;31m         \u001b[0mplt\u001b[0m\u001b[0;34m.\u001b[0m\u001b[0mscatter\u001b[0m\u001b[0;34m(\u001b[0m\u001b[0mtest_data\u001b[0m\u001b[0;34m,\u001b[0m \u001b[0mpredictions\u001b[0m\u001b[0;34m,\u001b[0m \u001b[0mc\u001b[0m \u001b[0;34m=\u001b[0m \u001b[0;34m'r'\u001b[0m\u001b[0;34m,\u001b[0m \u001b[0ms\u001b[0m \u001b[0;34m=\u001b[0m \u001b[0;36m4\u001b[0m\u001b[0;34m,\u001b[0m \u001b[0mlabel\u001b[0m \u001b[0;34m=\u001b[0m \u001b[0;34m\"Predictions\"\u001b[0m\u001b[0;34m)\u001b[0m\u001b[0;34m\u001b[0m\u001b[0;34m\u001b[0m\u001b[0m\n\u001b[0m\u001b[1;32m     18\u001b[0m \u001b[0;34m\u001b[0m\u001b[0m\n\u001b[1;32m     19\u001b[0m     \u001b[0;31m# Show legend\u001b[0m\u001b[0;34m\u001b[0m\u001b[0;34m\u001b[0m\u001b[0m\n",
            "\u001b[0;32m/usr/local/lib/python3.10/dist-packages/matplotlib/pyplot.py\u001b[0m in \u001b[0;36mscatter\u001b[0;34m(x, y, s, c, marker, cmap, norm, vmin, vmax, alpha, linewidths, edgecolors, plotnonfinite, data, **kwargs)\u001b[0m\n\u001b[1;32m   3685\u001b[0m     \u001b[0;34m**\u001b[0m\u001b[0mkwargs\u001b[0m\u001b[0;34m,\u001b[0m\u001b[0;34m\u001b[0m\u001b[0;34m\u001b[0m\u001b[0m\n\u001b[1;32m   3686\u001b[0m ) -> PathCollection:\n\u001b[0;32m-> 3687\u001b[0;31m     __ret = gca().scatter(\n\u001b[0m\u001b[1;32m   3688\u001b[0m         \u001b[0mx\u001b[0m\u001b[0;34m,\u001b[0m\u001b[0;34m\u001b[0m\u001b[0;34m\u001b[0m\u001b[0m\n\u001b[1;32m   3689\u001b[0m         \u001b[0my\u001b[0m\u001b[0;34m,\u001b[0m\u001b[0;34m\u001b[0m\u001b[0;34m\u001b[0m\u001b[0m\n",
            "\u001b[0;32m/usr/local/lib/python3.10/dist-packages/matplotlib/__init__.py\u001b[0m in \u001b[0;36minner\u001b[0;34m(ax, data, *args, **kwargs)\u001b[0m\n\u001b[1;32m   1463\u001b[0m     \u001b[0;32mdef\u001b[0m \u001b[0minner\u001b[0m\u001b[0;34m(\u001b[0m\u001b[0max\u001b[0m\u001b[0;34m,\u001b[0m \u001b[0;34m*\u001b[0m\u001b[0margs\u001b[0m\u001b[0;34m,\u001b[0m \u001b[0mdata\u001b[0m\u001b[0;34m=\u001b[0m\u001b[0;32mNone\u001b[0m\u001b[0;34m,\u001b[0m \u001b[0;34m**\u001b[0m\u001b[0mkwargs\u001b[0m\u001b[0;34m)\u001b[0m\u001b[0;34m:\u001b[0m\u001b[0;34m\u001b[0m\u001b[0;34m\u001b[0m\u001b[0m\n\u001b[1;32m   1464\u001b[0m         \u001b[0;32mif\u001b[0m \u001b[0mdata\u001b[0m \u001b[0;32mis\u001b[0m \u001b[0;32mNone\u001b[0m\u001b[0;34m:\u001b[0m\u001b[0;34m\u001b[0m\u001b[0;34m\u001b[0m\u001b[0m\n\u001b[0;32m-> 1465\u001b[0;31m             \u001b[0;32mreturn\u001b[0m \u001b[0mfunc\u001b[0m\u001b[0;34m(\u001b[0m\u001b[0max\u001b[0m\u001b[0;34m,\u001b[0m \u001b[0;34m*\u001b[0m\u001b[0mmap\u001b[0m\u001b[0;34m(\u001b[0m\u001b[0msanitize_sequence\u001b[0m\u001b[0;34m,\u001b[0m \u001b[0margs\u001b[0m\u001b[0;34m)\u001b[0m\u001b[0;34m,\u001b[0m \u001b[0;34m**\u001b[0m\u001b[0mkwargs\u001b[0m\u001b[0;34m)\u001b[0m\u001b[0;34m\u001b[0m\u001b[0;34m\u001b[0m\u001b[0m\n\u001b[0m\u001b[1;32m   1466\u001b[0m \u001b[0;34m\u001b[0m\u001b[0m\n\u001b[1;32m   1467\u001b[0m         \u001b[0mbound\u001b[0m \u001b[0;34m=\u001b[0m \u001b[0mnew_sig\u001b[0m\u001b[0;34m.\u001b[0m\u001b[0mbind\u001b[0m\u001b[0;34m(\u001b[0m\u001b[0max\u001b[0m\u001b[0;34m,\u001b[0m \u001b[0;34m*\u001b[0m\u001b[0margs\u001b[0m\u001b[0;34m,\u001b[0m \u001b[0;34m**\u001b[0m\u001b[0mkwargs\u001b[0m\u001b[0;34m)\u001b[0m\u001b[0;34m\u001b[0m\u001b[0;34m\u001b[0m\u001b[0m\n",
            "\u001b[0;32m/usr/local/lib/python3.10/dist-packages/matplotlib/axes/_axes.py\u001b[0m in \u001b[0;36mscatter\u001b[0;34m(self, x, y, s, c, marker, cmap, norm, vmin, vmax, alpha, linewidths, edgecolors, plotnonfinite, **kwargs)\u001b[0m\n\u001b[1;32m   4648\u001b[0m         \u001b[0;31m# unless its argument is a masked array.\u001b[0m\u001b[0;34m\u001b[0m\u001b[0;34m\u001b[0m\u001b[0m\n\u001b[1;32m   4649\u001b[0m         \u001b[0mx\u001b[0m \u001b[0;34m=\u001b[0m \u001b[0mnp\u001b[0m\u001b[0;34m.\u001b[0m\u001b[0mma\u001b[0m\u001b[0;34m.\u001b[0m\u001b[0mravel\u001b[0m\u001b[0;34m(\u001b[0m\u001b[0mx\u001b[0m\u001b[0;34m)\u001b[0m\u001b[0;34m\u001b[0m\u001b[0;34m\u001b[0m\u001b[0m\n\u001b[0;32m-> 4650\u001b[0;31m         \u001b[0my\u001b[0m \u001b[0;34m=\u001b[0m \u001b[0mnp\u001b[0m\u001b[0;34m.\u001b[0m\u001b[0mma\u001b[0m\u001b[0;34m.\u001b[0m\u001b[0mravel\u001b[0m\u001b[0;34m(\u001b[0m\u001b[0my\u001b[0m\u001b[0;34m)\u001b[0m\u001b[0;34m\u001b[0m\u001b[0;34m\u001b[0m\u001b[0m\n\u001b[0m\u001b[1;32m   4651\u001b[0m         \u001b[0;32mif\u001b[0m \u001b[0mx\u001b[0m\u001b[0;34m.\u001b[0m\u001b[0msize\u001b[0m \u001b[0;34m!=\u001b[0m \u001b[0my\u001b[0m\u001b[0;34m.\u001b[0m\u001b[0msize\u001b[0m\u001b[0;34m:\u001b[0m\u001b[0;34m\u001b[0m\u001b[0;34m\u001b[0m\u001b[0m\n\u001b[1;32m   4652\u001b[0m             \u001b[0;32mraise\u001b[0m \u001b[0mValueError\u001b[0m\u001b[0;34m(\u001b[0m\u001b[0;34m\"x and y must be the same size\"\u001b[0m\u001b[0;34m)\u001b[0m\u001b[0;34m\u001b[0m\u001b[0;34m\u001b[0m\u001b[0m\n",
            "\u001b[0;32m/usr/local/lib/python3.10/dist-packages/numpy/ma/core.py\u001b[0m in \u001b[0;36m__call__\u001b[0;34m(self, a, *args, **params)\u001b[0m\n\u001b[1;32m   6873\u001b[0m             \u001b[0ma\u001b[0m\u001b[0;34m,\u001b[0m \u001b[0margs\u001b[0m\u001b[0;34m[\u001b[0m\u001b[0;36m0\u001b[0m\u001b[0;34m]\u001b[0m \u001b[0;34m=\u001b[0m \u001b[0margs\u001b[0m\u001b[0;34m[\u001b[0m\u001b[0;36m0\u001b[0m\u001b[0;34m]\u001b[0m\u001b[0;34m,\u001b[0m \u001b[0ma\u001b[0m\u001b[0;34m\u001b[0m\u001b[0;34m\u001b[0m\u001b[0m\n\u001b[1;32m   6874\u001b[0m \u001b[0;34m\u001b[0m\u001b[0m\n\u001b[0;32m-> 6875\u001b[0;31m         \u001b[0mmarr\u001b[0m \u001b[0;34m=\u001b[0m \u001b[0masanyarray\u001b[0m\u001b[0;34m(\u001b[0m\u001b[0ma\u001b[0m\u001b[0;34m)\u001b[0m\u001b[0;34m\u001b[0m\u001b[0;34m\u001b[0m\u001b[0m\n\u001b[0m\u001b[1;32m   6876\u001b[0m         \u001b[0mmethod_name\u001b[0m \u001b[0;34m=\u001b[0m \u001b[0mself\u001b[0m\u001b[0;34m.\u001b[0m\u001b[0m__name__\u001b[0m\u001b[0;34m\u001b[0m\u001b[0;34m\u001b[0m\u001b[0m\n\u001b[1;32m   6877\u001b[0m         \u001b[0mmethod\u001b[0m \u001b[0;34m=\u001b[0m \u001b[0mgetattr\u001b[0m\u001b[0;34m(\u001b[0m\u001b[0mtype\u001b[0m\u001b[0;34m(\u001b[0m\u001b[0mmarr\u001b[0m\u001b[0;34m)\u001b[0m\u001b[0;34m,\u001b[0m \u001b[0mmethod_name\u001b[0m\u001b[0;34m,\u001b[0m \u001b[0;32mNone\u001b[0m\u001b[0;34m)\u001b[0m\u001b[0;34m\u001b[0m\u001b[0;34m\u001b[0m\u001b[0m\n",
            "\u001b[0;32m/usr/local/lib/python3.10/dist-packages/numpy/ma/core.py\u001b[0m in \u001b[0;36masanyarray\u001b[0;34m(a, dtype)\u001b[0m\n\u001b[1;32m   8297\u001b[0m     \u001b[0;32mif\u001b[0m \u001b[0misinstance\u001b[0m\u001b[0;34m(\u001b[0m\u001b[0ma\u001b[0m\u001b[0;34m,\u001b[0m \u001b[0mMaskedArray\u001b[0m\u001b[0;34m)\u001b[0m \u001b[0;32mand\u001b[0m \u001b[0;34m(\u001b[0m\u001b[0mdtype\u001b[0m \u001b[0;32mis\u001b[0m \u001b[0;32mNone\u001b[0m \u001b[0;32mor\u001b[0m \u001b[0mdtype\u001b[0m \u001b[0;34m==\u001b[0m \u001b[0ma\u001b[0m\u001b[0;34m.\u001b[0m\u001b[0mdtype\u001b[0m\u001b[0;34m)\u001b[0m\u001b[0;34m:\u001b[0m\u001b[0;34m\u001b[0m\u001b[0;34m\u001b[0m\u001b[0m\n\u001b[1;32m   8298\u001b[0m         \u001b[0;32mreturn\u001b[0m \u001b[0ma\u001b[0m\u001b[0;34m\u001b[0m\u001b[0;34m\u001b[0m\u001b[0m\n\u001b[0;32m-> 8299\u001b[0;31m     \u001b[0;32mreturn\u001b[0m \u001b[0mmasked_array\u001b[0m\u001b[0;34m(\u001b[0m\u001b[0ma\u001b[0m\u001b[0;34m,\u001b[0m \u001b[0mdtype\u001b[0m\u001b[0;34m=\u001b[0m\u001b[0mdtype\u001b[0m\u001b[0;34m,\u001b[0m \u001b[0mcopy\u001b[0m\u001b[0;34m=\u001b[0m\u001b[0;32mFalse\u001b[0m\u001b[0;34m,\u001b[0m \u001b[0mkeep_mask\u001b[0m\u001b[0;34m=\u001b[0m\u001b[0;32mTrue\u001b[0m\u001b[0;34m,\u001b[0m \u001b[0msubok\u001b[0m\u001b[0;34m=\u001b[0m\u001b[0;32mTrue\u001b[0m\u001b[0;34m)\u001b[0m\u001b[0;34m\u001b[0m\u001b[0;34m\u001b[0m\u001b[0m\n\u001b[0m\u001b[1;32m   8300\u001b[0m \u001b[0;34m\u001b[0m\u001b[0m\n\u001b[1;32m   8301\u001b[0m \u001b[0;34m\u001b[0m\u001b[0m\n",
            "\u001b[0;32m/usr/local/lib/python3.10/dist-packages/numpy/ma/core.py\u001b[0m in \u001b[0;36m__new__\u001b[0;34m(cls, data, mask, dtype, copy, subok, ndmin, fill_value, keep_mask, hard_mask, shrink, order)\u001b[0m\n\u001b[1;32m   2818\u001b[0m         \"\"\"\n\u001b[1;32m   2819\u001b[0m         \u001b[0;31m# Process data.\u001b[0m\u001b[0;34m\u001b[0m\u001b[0;34m\u001b[0m\u001b[0m\n\u001b[0;32m-> 2820\u001b[0;31m         _data = np.array(data, dtype=dtype, copy=copy,\n\u001b[0m\u001b[1;32m   2821\u001b[0m                          order=order, subok=True, ndmin=ndmin)\n\u001b[1;32m   2822\u001b[0m         \u001b[0m_baseclass\u001b[0m \u001b[0;34m=\u001b[0m \u001b[0mgetattr\u001b[0m\u001b[0;34m(\u001b[0m\u001b[0mdata\u001b[0m\u001b[0;34m,\u001b[0m \u001b[0;34m'_baseclass'\u001b[0m\u001b[0;34m,\u001b[0m \u001b[0mtype\u001b[0m\u001b[0;34m(\u001b[0m\u001b[0m_data\u001b[0m\u001b[0;34m)\u001b[0m\u001b[0;34m)\u001b[0m\u001b[0;34m\u001b[0m\u001b[0;34m\u001b[0m\u001b[0m\n",
            "\u001b[0;32m/usr/local/lib/python3.10/dist-packages/torch/_tensor.py\u001b[0m in \u001b[0;36m__array__\u001b[0;34m(self, dtype)\u001b[0m\n\u001b[1;32m   1147\u001b[0m             \u001b[0;32mreturn\u001b[0m \u001b[0mhandle_torch_function\u001b[0m\u001b[0;34m(\u001b[0m\u001b[0mTensor\u001b[0m\u001b[0;34m.\u001b[0m\u001b[0m__array__\u001b[0m\u001b[0;34m,\u001b[0m \u001b[0;34m(\u001b[0m\u001b[0mself\u001b[0m\u001b[0;34m,\u001b[0m\u001b[0;34m)\u001b[0m\u001b[0;34m,\u001b[0m \u001b[0mself\u001b[0m\u001b[0;34m,\u001b[0m \u001b[0mdtype\u001b[0m\u001b[0;34m=\u001b[0m\u001b[0mdtype\u001b[0m\u001b[0;34m)\u001b[0m\u001b[0;34m\u001b[0m\u001b[0;34m\u001b[0m\u001b[0m\n\u001b[1;32m   1148\u001b[0m         \u001b[0;32mif\u001b[0m \u001b[0mdtype\u001b[0m \u001b[0;32mis\u001b[0m \u001b[0;32mNone\u001b[0m\u001b[0;34m:\u001b[0m\u001b[0;34m\u001b[0m\u001b[0;34m\u001b[0m\u001b[0m\n\u001b[0;32m-> 1149\u001b[0;31m             \u001b[0;32mreturn\u001b[0m \u001b[0mself\u001b[0m\u001b[0;34m.\u001b[0m\u001b[0mnumpy\u001b[0m\u001b[0;34m(\u001b[0m\u001b[0;34m)\u001b[0m\u001b[0;34m\u001b[0m\u001b[0;34m\u001b[0m\u001b[0m\n\u001b[0m\u001b[1;32m   1150\u001b[0m         \u001b[0;32melse\u001b[0m\u001b[0;34m:\u001b[0m\u001b[0;34m\u001b[0m\u001b[0;34m\u001b[0m\u001b[0m\n\u001b[1;32m   1151\u001b[0m             \u001b[0;32mreturn\u001b[0m \u001b[0mself\u001b[0m\u001b[0;34m.\u001b[0m\u001b[0mnumpy\u001b[0m\u001b[0;34m(\u001b[0m\u001b[0;34m)\u001b[0m\u001b[0;34m.\u001b[0m\u001b[0mastype\u001b[0m\u001b[0;34m(\u001b[0m\u001b[0mdtype\u001b[0m\u001b[0;34m,\u001b[0m \u001b[0mcopy\u001b[0m\u001b[0;34m=\u001b[0m\u001b[0;32mFalse\u001b[0m\u001b[0;34m)\u001b[0m\u001b[0;34m\u001b[0m\u001b[0;34m\u001b[0m\u001b[0m\n",
            "\u001b[0;31mTypeError\u001b[0m: can't convert cuda:0 device type tensor to numpy. Use Tensor.cpu() to copy the tensor to host memory first."
          ]
        },
        {
          "output_type": "display_data",
          "data": {
            "text/plain": [
              "<Figure size 1000x700 with 1 Axes>"
            ],
            "image/png": "[encoded data removed]"
          },
          "metadata": {}
        }
      ]
    },
    {
      "cell_type": "code",
      "source": [
        "plot_prediction(predictions = y_preds_1.cpu())"
      ],
      "metadata": {
        "colab": {
          "base_uri": "https://localhost:8080/",
          "height": 460
        },
        "id": "ffrVuT_ZOdr5",
        "outputId": "e83bafad-1cb6-458b-f010-8403bff2a615"
      },
      "execution_count": 156,
      "outputs": [
        {
          "output_type": "display_data",
          "data": {
            "text/plain": [
              "<Figure size 1000x700 with 1 Axes>"
            ],
            "image/png": "[encoded data removed]"
          },
          "metadata": {}
        }
      ]
    },
    {
      "cell_type": "markdown",
      "source": [
        "#### 6.5 Saving and loading the model"
      ],
      "metadata": {
        "id": "IPcYzprjReOH"
      }
    },
    {
      "cell_type": "code",
      "source": [
        "from pathlib import Path\n",
        "\n",
        "# 1. Create model's directory\n",
        "MODEL_PATH = Path(\"models\")\n",
        "MODEL_PATH.mkdir(parents=True, exist_ok=True)\n",
        "\n",
        "# Create a model save path\n",
        "MODEL_NAME = \"Overall_Workflow.pth\"\n",
        "MODEL_SAVE_PATH = MODEL_PATH/MODEL_NAME\n",
        "\n",
        "# Save the model state dict\n",
        "print(f\"Saving the model at location : {MODEL_SAVE_PATH}\")\n",
        "\n",
        "torch.save(obj = model_1.state_dict(),\n",
        "           f = MODEL_SAVE_PATH)"
      ],
      "metadata": {
        "colab": {
          "base_uri": "https://localhost:8080/"
        },
        "id": "lus-cnamR0uX",
        "outputId": "f0c01172-3a06-4894-ca99-a080fc5ed5f2"
      },
      "execution_count": 161,
      "outputs": [
        {
          "output_type": "stream",
          "name": "stdout",
          "text": [
            "Saving the model at location : models/Overall_Workflow.pth\n"
          ]
        }
      ]
    },
    {
      "cell_type": "code",
      "source": [
        "# Load the model\n",
        "\n",
        "loaded_model1 = LinearRegressionModelV2()\n",
        "\n",
        "# Load the saved model_1 state_dict\n",
        "loaded_model1.load_state_dict(torch.load(MODEL_SAVE_PATH))\n",
        "\n",
        "# Put the loaded model to device\n",
        "loaded_model1.to(device)"
      ],
      "metadata": {
        "colab": {
          "base_uri": "https://localhost:8080/"
        },
        "id": "pz3cWyLeSfbm",
        "outputId": "419bf858-3b80-4799-8c83-786c0fd7ac81"
      },
      "execution_count": 162,
      "outputs": [
        {
          "output_type": "stream",
          "name": "stderr",
          "text": [
            "<ipython-input-162-e2713026fb91>:6: FutureWarning: You are using `torch.load` with `weights_only=False` (the current default value), which uses the default pickle module implicitly. It is possible to construct malicious pickle data which will execute arbitrary code during unpickling (See https://github.com/pytorch/pytorch/blob/main/SECURITY.md#untrusted-models for more details). In a future release, the default value for `weights_only` will be flipped to `True`. This limits the functions that could be executed during unpickling. Arbitrary objects will no longer be allowed to be loaded via this mode unless they are explicitly allowlisted by the user via `torch.serialization.add_safe_globals`. We recommend you start setting `weights_only=True` for any use case where you don't have full control of the loaded file. Please open an issue on GitHub for any issues related to this experimental feature.\n",
            "  loaded_model1.load_state_dict(torch.load(MODEL_SAVE_PATH))\n"
          ]
        },
        {
          "output_type": "execute_result",
          "data": {
            "text/plain": [
              "LinearRegressionModelV2(\n",
              "  (linear_layer): Linear(in_features=1, out_features=1, bias=True)\n",
              ")"
            ]
          },
          "metadata": {},
          "execution_count": 162
        }
      ]
    },
    {
      "cell_type": "code",
      "source": [
        "next(loaded_model1.parameters()).device"
      ],
      "metadata": {
        "colab": {
          "base_uri": "https://localhost:8080/"
        },
        "id": "FIGLePviT9KD",
        "outputId": "dbdf1d9a-569c-4e1a-fb4e-722c012b8a7f"
      },
      "execution_count": 163,
      "outputs": [
        {
          "output_type": "execute_result",
          "data": {
            "text/plain": [
              "device(type='cuda', index=0)"
            ]
          },
          "metadata": {},
          "execution_count": 163
        }
      ]
    },
    {
      "cell_type": "code",
      "source": [
        "loaded_model1.state_dict()"
      ],
      "metadata": {
        "colab": {
          "base_uri": "https://localhost:8080/"
        },
        "id": "TSYY2mtOUCxL",
        "outputId": "df0a132b-989e-4c19-ce6b-3b0fb8e025ed"
      },
      "execution_count": 164,
      "outputs": [
        {
          "output_type": "execute_result",
          "data": {
            "text/plain": [
              "OrderedDict([('linear_layer.weight', tensor([[0.6968]], device='cuda:0')),\n",
              "             ('linear_layer.bias', tensor([0.3025], device='cuda:0'))])"
            ]
          },
          "metadata": {},
          "execution_count": 164
        }
      ]
    },
    {
      "cell_type": "code",
      "source": [
        "# Evaluate loaded model\n",
        "\n",
        "loaded_model1.eval()\n",
        "with torch.inference_mode():\n",
        "    loaded_model1_preds = loaded_model1(X_test)\n",
        "\n",
        "y_preds_1 == loaded_model1_preds"
      ],
      "metadata": {
        "colab": {
          "base_uri": "https://localhost:8080/"
        },
        "id": "ZLP16LWwUGQz",
        "outputId": "4d96c969-009b-41a7-93ce-0cc198ecb1db"
      },
      "execution_count": 165,
      "outputs": [
        {
          "output_type": "execute_result",
          "data": {
            "text/plain": [
              "tensor([[True],\n",
              "        [True],\n",
              "        [True],\n",
              "        [True],\n",
              "        [True],\n",
              "        [True],\n",
              "        [True],\n",
              "        [True],\n",
              "        [True],\n",
              "        [True]], device='cuda:0')"
            ]
          },
          "metadata": {},
          "execution_count": 165
        }
      ]
    },
    {
      "cell_type": "code",
      "source": [],
      "metadata": {
        "id": "D-UTzMZdUYw8"
      },
      "execution_count": null,
      "outputs": []
    }
  ]
}