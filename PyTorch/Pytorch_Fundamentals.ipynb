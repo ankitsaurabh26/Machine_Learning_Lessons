{
  "nbformat": 4,
  "nbformat_minor": 0,
  "metadata": {
    "colab": {
      "provenance": []
    },
    "kernelspec": {
      "name": "python3",
      "display_name": "Python 3"
    },
    "language_info": {
      "name": "python"
    }
  },
  "cells": [
    {
      "cell_type": "markdown",
      "source": [
        "`Machine learning` : Structured data\n",
        "\n",
        "`Deep learning` : Unstructured data"
      ],
      "metadata": {
        "id": "XgXvdxomg_lK"
      }
    },
    {
      "cell_type": "markdown",
      "source": [
        "**Workflow**\n",
        "1. Get data ready (turn into tensors)\n",
        "2. Build or pick a pretrained model\n",
        "    - Pick a loss function & optimizer\n",
        "    - Build a training loop\n",
        "3. Fit the model to the data and make a prediction\n",
        "4. Evaluate the model\n",
        "5. Improve through experimentation\n",
        "6. Save and reload your trained model"
      ],
      "metadata": {
        "id": "c9Mx2R67hO3p"
      }
    },
    {
      "cell_type": "code",
      "source": [
        "import torch\n",
        "print(torch.__version__)"
      ],
      "metadata": {
        "colab": {
          "base_uri": "https://localhost:8080/"
        },
        "id": "U8QJxX7ajRA_",
        "outputId": "67ff7481-e479-4551-cf9c-e60703d4fc80"
      },
      "execution_count": 1,
      "outputs": [
        {
          "output_type": "stream",
          "name": "stdout",
          "text": [
            "2.5.0+cu121\n"
          ]
        }
      ]
    },
    {
      "cell_type": "code",
      "source": [
        "import numpy as np\n",
        "import pandas as pd\n",
        "import matplotlib.pyplot as plt"
      ],
      "metadata": {
        "id": "-u-Rs9cnkl-L"
      },
      "execution_count": 2,
      "outputs": []
    },
    {
      "cell_type": "markdown",
      "source": [
        "### Tensors"
      ],
      "metadata": {
        "id": "seCh9d9Hk2KB"
      }
    },
    {
      "cell_type": "markdown",
      "source": [
        "#### Creating Tensors"
      ],
      "metadata": {
        "id": "5HdSOJ6rlMo7"
      }
    },
    {
      "cell_type": "code",
      "source": [
        "# Scalar\n",
        "scalar = torch.tensor(7)\n",
        "scalar"
      ],
      "metadata": {
        "colab": {
          "base_uri": "https://localhost:8080/"
        },
        "id": "fL8vGJZHlW98",
        "outputId": "1eacdd4a-e278-4e52-a60a-20abdbdd22bd"
      },
      "execution_count": 3,
      "outputs": [
        {
          "output_type": "execute_result",
          "data": {
            "text/plain": [
              "tensor(7)"
            ]
          },
          "metadata": {},
          "execution_count": 3
        }
      ]
    },
    {
      "cell_type": "markdown",
      "source": [
        "`torch.tensor` is a multi-dimensional matrix containing elements of a single data type."
      ],
      "metadata": {
        "id": "jNQqf2J8leXX"
      }
    },
    {
      "cell_type": "code",
      "source": [
        "scalar.ndim"
      ],
      "metadata": {
        "colab": {
          "base_uri": "https://localhost:8080/"
        },
        "id": "406Gzj9ylnp0",
        "outputId": "2f35dab1-a7aa-4639-b3bd-e87179fd91aa"
      },
      "execution_count": 4,
      "outputs": [
        {
          "output_type": "execute_result",
          "data": {
            "text/plain": [
              "0"
            ]
          },
          "metadata": {},
          "execution_count": 4
        }
      ]
    },
    {
      "cell_type": "code",
      "source": [
        "scalar.item() # Get tensor back as python int"
      ],
      "metadata": {
        "colab": {
          "base_uri": "https://localhost:8080/"
        },
        "id": "OmqHYCJslvte",
        "outputId": "8e3e1b82-e033-490d-b2ec-656637196f5a"
      },
      "execution_count": 5,
      "outputs": [
        {
          "output_type": "execute_result",
          "data": {
            "text/plain": [
              "7"
            ]
          },
          "metadata": {},
          "execution_count": 5
        }
      ]
    },
    {
      "cell_type": "code",
      "source": [
        "# Vector\n",
        "vector = torch.tensor([1,3])\n",
        "vector"
      ],
      "metadata": {
        "colab": {
          "base_uri": "https://localhost:8080/"
        },
        "id": "C8_JRG00mHB_",
        "outputId": "ccbc2ecd-4901-4151-d031-9fdbd0e90623"
      },
      "execution_count": 6,
      "outputs": [
        {
          "output_type": "execute_result",
          "data": {
            "text/plain": [
              "tensor([1, 3])"
            ]
          },
          "metadata": {},
          "execution_count": 6
        }
      ]
    },
    {
      "cell_type": "code",
      "source": [
        "vector.ndim"
      ],
      "metadata": {
        "colab": {
          "base_uri": "https://localhost:8080/"
        },
        "id": "zgpb-OilmYVq",
        "outputId": "35c9092c-61be-4847-f5b0-bcd17b64bce5"
      },
      "execution_count": 7,
      "outputs": [
        {
          "output_type": "execute_result",
          "data": {
            "text/plain": [
              "1"
            ]
          },
          "metadata": {},
          "execution_count": 7
        }
      ]
    },
    {
      "cell_type": "markdown",
      "source": [
        "![image.png](data:image/png;base64,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)"
      ],
      "metadata": {
        "id": "zBZi2dOPmrcj"
      }
    },
    {
      "cell_type": "markdown",
      "source": [
        "`dimensions` :  no. of square brackets"
      ],
      "metadata": {
        "id": "6-kQxaw4m4P-"
      }
    },
    {
      "cell_type": "code",
      "source": [
        "vector.shape"
      ],
      "metadata": {
        "colab": {
          "base_uri": "https://localhost:8080/"
        },
        "id": "rNCWkClpnC25",
        "outputId": "c3cce988-74da-428e-a972-c86de5a2dd45"
      },
      "execution_count": 8,
      "outputs": [
        {
          "output_type": "execute_result",
          "data": {
            "text/plain": [
              "torch.Size([2])"
            ]
          },
          "metadata": {},
          "execution_count": 8
        }
      ]
    },
    {
      "cell_type": "markdown",
      "source": [
        "![image.png](data:image/png;base64,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)"
      ],
      "metadata": {
        "id": "wOJDcjj1nGyb"
      }
    },
    {
      "cell_type": "code",
      "source": [
        "# Matrix\n",
        "MATRIX = torch.tensor([[7,9],\n",
        "                       [3,6]])\n",
        "MATRIX"
      ],
      "metadata": {
        "colab": {
          "base_uri": "https://localhost:8080/"
        },
        "id": "85dZnuZMnWOo",
        "outputId": "48d8efe8-3906-4648-d40d-5ea7dbd6ddc3"
      },
      "execution_count": 9,
      "outputs": [
        {
          "output_type": "execute_result",
          "data": {
            "text/plain": [
              "tensor([[7, 9],\n",
              "        [3, 6]])"
            ]
          },
          "metadata": {},
          "execution_count": 9
        }
      ]
    },
    {
      "cell_type": "code",
      "source": [
        "MATRIX.ndim"
      ],
      "metadata": {
        "colab": {
          "base_uri": "https://localhost:8080/"
        },
        "id": "MOlCcKUvnjGS",
        "outputId": "b0104274-349b-4332-b49c-cd47a6a40c04"
      },
      "execution_count": 10,
      "outputs": [
        {
          "output_type": "execute_result",
          "data": {
            "text/plain": [
              "2"
            ]
          },
          "metadata": {},
          "execution_count": 10
        }
      ]
    },
    {
      "cell_type": "code",
      "source": [
        "MATRIX.shape"
      ],
      "metadata": {
        "colab": {
          "base_uri": "https://localhost:8080/"
        },
        "id": "Dwh1hIu_nldV",
        "outputId": "b7c1112c-7551-4cdb-fafa-8a1fbfabfdf2"
      },
      "execution_count": 11,
      "outputs": [
        {
          "output_type": "execute_result",
          "data": {
            "text/plain": [
              "torch.Size([2, 2])"
            ]
          },
          "metadata": {},
          "execution_count": 11
        }
      ]
    },
    {
      "cell_type": "code",
      "source": [
        "MATRIX[0]"
      ],
      "metadata": {
        "colab": {
          "base_uri": "https://localhost:8080/"
        },
        "id": "7MQTuytfnoWc",
        "outputId": "ff6ee583-88c7-4c5b-cfc5-70a755569b78"
      },
      "execution_count": 12,
      "outputs": [
        {
          "output_type": "execute_result",
          "data": {
            "text/plain": [
              "tensor([7, 9])"
            ]
          },
          "metadata": {},
          "execution_count": 12
        }
      ]
    },
    {
      "cell_type": "code",
      "source": [
        "MATRIX[1]"
      ],
      "metadata": {
        "colab": {
          "base_uri": "https://localhost:8080/"
        },
        "id": "bwfvjuuOntKY",
        "outputId": "cfebff9e-56ca-4d84-bf5c-91a342eda967"
      },
      "execution_count": 13,
      "outputs": [
        {
          "output_type": "execute_result",
          "data": {
            "text/plain": [
              "tensor([3, 6])"
            ]
          },
          "metadata": {},
          "execution_count": 13
        }
      ]
    },
    {
      "cell_type": "code",
      "source": [
        "# Tensor\n",
        "TENSOR = torch.tensor([[[2,3,4],\n",
        "                        [5,9,0],\n",
        "                        [9,7,1]]])\n",
        "TENSOR"
      ],
      "metadata": {
        "colab": {
          "base_uri": "https://localhost:8080/"
        },
        "id": "HA_OqsMDnw6M",
        "outputId": "8196c48b-2d18-46c7-dc37-71f4ba560e75"
      },
      "execution_count": 14,
      "outputs": [
        {
          "output_type": "execute_result",
          "data": {
            "text/plain": [
              "tensor([[[2, 3, 4],\n",
              "         [5, 9, 0],\n",
              "         [9, 7, 1]]])"
            ]
          },
          "metadata": {},
          "execution_count": 14
        }
      ]
    },
    {
      "cell_type": "code",
      "source": [
        "TENSOR.ndim"
      ],
      "metadata": {
        "colab": {
          "base_uri": "https://localhost:8080/"
        },
        "id": "0PKcpF9koG2m",
        "outputId": "7fde14f6-5079-4960-fe49-3ae9c7f99341"
      },
      "execution_count": 15,
      "outputs": [
        {
          "output_type": "execute_result",
          "data": {
            "text/plain": [
              "3"
            ]
          },
          "metadata": {},
          "execution_count": 15
        }
      ]
    },
    {
      "cell_type": "code",
      "source": [
        "TENSOR.shape"
      ],
      "metadata": {
        "colab": {
          "base_uri": "https://localhost:8080/"
        },
        "id": "S_eep1IDoJDa",
        "outputId": "81464b7d-25a4-40f0-a6fb-995553d7a867"
      },
      "execution_count": 16,
      "outputs": [
        {
          "output_type": "execute_result",
          "data": {
            "text/plain": [
              "torch.Size([1, 3, 3])"
            ]
          },
          "metadata": {},
          "execution_count": 16
        }
      ]
    },
    {
      "cell_type": "code",
      "source": [
        "TENSOR[0]"
      ],
      "metadata": {
        "colab": {
          "base_uri": "https://localhost:8080/"
        },
        "id": "7DTHywjgoK_N",
        "outputId": "5bdca9d2-eda0-4a9e-e3ff-f0f4c2f0d89b"
      },
      "execution_count": 17,
      "outputs": [
        {
          "output_type": "execute_result",
          "data": {
            "text/plain": [
              "tensor([[2, 3, 4],\n",
              "        [5, 9, 0],\n",
              "        [9, 7, 1]])"
            ]
          },
          "metadata": {},
          "execution_count": 17
        }
      ]
    },
    {
      "cell_type": "code",
      "source": [
        "MY_TENSOR = torch.tensor([\n",
        "              [[1,2,3],\n",
        "               [4,5,6]],\n",
        "              [[7,8,9],\n",
        "               [10,11,12]]\n",
        "              ])"
      ],
      "metadata": {
        "id": "kLN3qXNCor80"
      },
      "execution_count": 18,
      "outputs": []
    },
    {
      "cell_type": "code",
      "source": [
        "MY_TENSOR"
      ],
      "metadata": {
        "colab": {
          "base_uri": "https://localhost:8080/"
        },
        "id": "nLHqDlm8pZ0C",
        "outputId": "1aad6915-2600-4df2-f71c-c5418a61f00f"
      },
      "execution_count": 19,
      "outputs": [
        {
          "output_type": "execute_result",
          "data": {
            "text/plain": [
              "tensor([[[ 1,  2,  3],\n",
              "         [ 4,  5,  6]],\n",
              "\n",
              "        [[ 7,  8,  9],\n",
              "         [10, 11, 12]]])"
            ]
          },
          "metadata": {},
          "execution_count": 19
        }
      ]
    },
    {
      "cell_type": "code",
      "source": [
        "MY_TENSOR.ndim"
      ],
      "metadata": {
        "colab": {
          "base_uri": "https://localhost:8080/"
        },
        "id": "xW1SjZTUpbXB",
        "outputId": "8b66ce1a-2aaf-4448-c6a7-250fb605eded"
      },
      "execution_count": 20,
      "outputs": [
        {
          "output_type": "execute_result",
          "data": {
            "text/plain": [
              "3"
            ]
          },
          "metadata": {},
          "execution_count": 20
        }
      ]
    },
    {
      "cell_type": "code",
      "source": [
        "MY_TENSOR.shape  # (first 2 means) two planes of 2x3 (next 2 and 3 meaning) matrix place over each other"
      ],
      "metadata": {
        "colab": {
          "base_uri": "https://localhost:8080/"
        },
        "id": "n09lLC1lpfQm",
        "outputId": "40a1ee62-2993-4659-ed42-a6d74ef9a2da"
      },
      "execution_count": 21,
      "outputs": [
        {
          "output_type": "execute_result",
          "data": {
            "text/plain": [
              "torch.Size([2, 2, 3])"
            ]
          },
          "metadata": {},
          "execution_count": 21
        }
      ]
    },
    {
      "cell_type": "code",
      "source": [
        "MY_TENSOR[1]"
      ],
      "metadata": {
        "colab": {
          "base_uri": "https://localhost:8080/"
        },
        "id": "ekcl-cN5plFA",
        "outputId": "b136ff4d-aef0-459d-b992-c1570eadfad5"
      },
      "execution_count": 22,
      "outputs": [
        {
          "output_type": "execute_result",
          "data": {
            "text/plain": [
              "tensor([[ 7,  8,  9],\n",
              "        [10, 11, 12]])"
            ]
          },
          "metadata": {},
          "execution_count": 22
        }
      ]
    },
    {
      "cell_type": "markdown",
      "source": [
        "#### Random Tensors\n",
        "\n",
        "- Why Random tensors?\n",
        "\n",
        "Random tensors are important because the way many neural networks learn is that they start with tensors full of random numbers and then they adjust those random numbers to better represent the data."
      ],
      "metadata": {
        "id": "q6vOhTg6pqfU"
      }
    },
    {
      "cell_type": "code",
      "source": [
        "# Create a random tensor of size (3,4)\n",
        "random_tensor = torch.rand(3,4)\n",
        "random_tensor"
      ],
      "metadata": {
        "id": "PaUIa7c6qf_E",
        "colab": {
          "base_uri": "https://localhost:8080/"
        },
        "outputId": "58e3ddd2-fc38-4be7-b31d-f5828c6b3abb"
      },
      "execution_count": 23,
      "outputs": [
        {
          "output_type": "execute_result",
          "data": {
            "text/plain": [
              "tensor([[0.2683, 0.2585, 0.6343, 0.9549],\n",
              "        [0.0617, 0.7895, 0.9766, 0.2117],\n",
              "        [0.7650, 0.1796, 0.5409, 0.9158]])"
            ]
          },
          "metadata": {},
          "execution_count": 23
        }
      ]
    },
    {
      "cell_type": "code",
      "source": [
        "random_tensor_1 = torch.rand(3,1,3)\n",
        "random_tensor_1"
      ],
      "metadata": {
        "colab": {
          "base_uri": "https://localhost:8080/"
        },
        "id": "pLYra394RQP6",
        "outputId": "c842a51f-f5fe-458f-b383-2ac6c037e087"
      },
      "execution_count": 24,
      "outputs": [
        {
          "output_type": "execute_result",
          "data": {
            "text/plain": [
              "tensor([[[0.3152, 0.5015, 0.8059]],\n",
              "\n",
              "        [[0.2818, 0.3706, 0.7011]],\n",
              "\n",
              "        [[0.4387, 0.4980, 0.1610]]])"
            ]
          },
          "metadata": {},
          "execution_count": 24
        }
      ]
    },
    {
      "cell_type": "code",
      "source": [
        "random_tensor_1.ndim"
      ],
      "metadata": {
        "colab": {
          "base_uri": "https://localhost:8080/"
        },
        "id": "I0oEeYysRfw1",
        "outputId": "781b0fdf-c4a9-47c3-adf5-1e9a2c936f45"
      },
      "execution_count": 25,
      "outputs": [
        {
          "output_type": "execute_result",
          "data": {
            "text/plain": [
              "3"
            ]
          },
          "metadata": {},
          "execution_count": 25
        }
      ]
    },
    {
      "cell_type": "code",
      "source": [
        "# Create a random tensor with similar shape to an image tensor\n",
        "random_image_size_tensor = torch.rand(size=(3,224,224)) # color_channels(RGB), height, width"
      ],
      "metadata": {
        "id": "XgbGY-z5R6BK"
      },
      "execution_count": 26,
      "outputs": []
    },
    {
      "cell_type": "code",
      "source": [
        "random_image_size_tensor.shape"
      ],
      "metadata": {
        "colab": {
          "base_uri": "https://localhost:8080/"
        },
        "id": "JrWNwyX9SxvW",
        "outputId": "bc5c528a-99ee-4004-fe8f-e978066c7a70"
      },
      "execution_count": 27,
      "outputs": [
        {
          "output_type": "execute_result",
          "data": {
            "text/plain": [
              "torch.Size([3, 224, 224])"
            ]
          },
          "metadata": {},
          "execution_count": 27
        }
      ]
    },
    {
      "cell_type": "code",
      "source": [
        "random_image_size_tensor.ndim"
      ],
      "metadata": {
        "colab": {
          "base_uri": "https://localhost:8080/"
        },
        "id": "VZcCu1IXS2Ne",
        "outputId": "7094a617-d945-4efd-9f61-68f7330da70b"
      },
      "execution_count": 28,
      "outputs": [
        {
          "output_type": "execute_result",
          "data": {
            "text/plain": [
              "3"
            ]
          },
          "metadata": {},
          "execution_count": 28
        }
      ]
    },
    {
      "cell_type": "code",
      "source": [
        "torch.rand(3,2)"
      ],
      "metadata": {
        "colab": {
          "base_uri": "https://localhost:8080/"
        },
        "id": "VtavQvATS9CI",
        "outputId": "535a426a-4ce9-4ea0-d70a-82b474484e4f"
      },
      "execution_count": 29,
      "outputs": [
        {
          "output_type": "execute_result",
          "data": {
            "text/plain": [
              "tensor([[0.9815, 0.5251],\n",
              "        [0.6847, 0.8528],\n",
              "        [0.8381, 0.5755]])"
            ]
          },
          "metadata": {},
          "execution_count": 29
        }
      ]
    },
    {
      "cell_type": "code",
      "source": [
        "torch.rand(size=(3,2))"
      ],
      "metadata": {
        "colab": {
          "base_uri": "https://localhost:8080/"
        },
        "id": "v6KapzJSUA7T",
        "outputId": "616312ac-cd9a-42b9-a7ea-c470dd9c0a64"
      },
      "execution_count": 30,
      "outputs": [
        {
          "output_type": "execute_result",
          "data": {
            "text/plain": [
              "tensor([[0.3585, 0.7448],\n",
              "        [0.1421, 0.5044],\n",
              "        [0.8936, 0.7405]])"
            ]
          },
          "metadata": {},
          "execution_count": 30
        }
      ]
    },
    {
      "cell_type": "markdown",
      "source": [
        "#### Zeroes and Ones"
      ],
      "metadata": {
        "id": "xpB-yA0LUE4G"
      }
    },
    {
      "cell_type": "code",
      "source": [
        "# Create a tensor of all zeros\n",
        "zeros = torch.zeros(3,4)\n",
        "zeros"
      ],
      "metadata": {
        "colab": {
          "base_uri": "https://localhost:8080/"
        },
        "id": "WfAo3c8pUJ3Z",
        "outputId": "ee7dfa34-8110-4b19-e796-9f8d6be61385"
      },
      "execution_count": 31,
      "outputs": [
        {
          "output_type": "execute_result",
          "data": {
            "text/plain": [
              "tensor([[0., 0., 0., 0.],\n",
              "        [0., 0., 0., 0.],\n",
              "        [0., 0., 0., 0.]])"
            ]
          },
          "metadata": {},
          "execution_count": 31
        }
      ]
    },
    {
      "cell_type": "code",
      "source": [
        "zeros*random_tensor"
      ],
      "metadata": {
        "colab": {
          "base_uri": "https://localhost:8080/"
        },
        "id": "hTuPB56vURPB",
        "outputId": "d45b3056-36c2-487f-f054-6db70f9acfe1"
      },
      "execution_count": 32,
      "outputs": [
        {
          "output_type": "execute_result",
          "data": {
            "text/plain": [
              "tensor([[0., 0., 0., 0.],\n",
              "        [0., 0., 0., 0.],\n",
              "        [0., 0., 0., 0.]])"
            ]
          },
          "metadata": {},
          "execution_count": 32
        }
      ]
    },
    {
      "cell_type": "code",
      "source": [
        "zeros.shape"
      ],
      "metadata": {
        "colab": {
          "base_uri": "https://localhost:8080/"
        },
        "id": "31LTrDp5UXSl",
        "outputId": "840741ea-5cf8-4ea9-96ba-db66abc29d8f"
      },
      "execution_count": 33,
      "outputs": [
        {
          "output_type": "execute_result",
          "data": {
            "text/plain": [
              "torch.Size([3, 4])"
            ]
          },
          "metadata": {},
          "execution_count": 33
        }
      ]
    },
    {
      "cell_type": "code",
      "source": [
        "random_tensor.shape"
      ],
      "metadata": {
        "colab": {
          "base_uri": "https://localhost:8080/"
        },
        "id": "xCj63KD-UcnN",
        "outputId": "699f2223-f68b-4200-fd8c-9fefd503747b"
      },
      "execution_count": 34,
      "outputs": [
        {
          "output_type": "execute_result",
          "data": {
            "text/plain": [
              "torch.Size([3, 4])"
            ]
          },
          "metadata": {},
          "execution_count": 34
        }
      ]
    },
    {
      "cell_type": "code",
      "source": [
        "ones = torch.ones(3,1)\n",
        "ones"
      ],
      "metadata": {
        "colab": {
          "base_uri": "https://localhost:8080/"
        },
        "id": "N4g0t2XwUuFZ",
        "outputId": "f51a9796-f692-4ef1-a6cb-d2d941494cb6"
      },
      "execution_count": 35,
      "outputs": [
        {
          "output_type": "execute_result",
          "data": {
            "text/plain": [
              "tensor([[1.],\n",
              "        [1.],\n",
              "        [1.]])"
            ]
          },
          "metadata": {},
          "execution_count": 35
        }
      ]
    },
    {
      "cell_type": "code",
      "source": [
        "ones.dtype"
      ],
      "metadata": {
        "colab": {
          "base_uri": "https://localhost:8080/"
        },
        "id": "S1sZIXUiU2vx",
        "outputId": "c616acc5-0b63-40a2-fa69-6829b0c538f3"
      },
      "execution_count": 36,
      "outputs": [
        {
          "output_type": "execute_result",
          "data": {
            "text/plain": [
              "torch.float32"
            ]
          },
          "metadata": {},
          "execution_count": 36
        }
      ]
    },
    {
      "cell_type": "code",
      "source": [
        "random_tensor_1.dtype"
      ],
      "metadata": {
        "colab": {
          "base_uri": "https://localhost:8080/"
        },
        "id": "JdSqvXGXU40u",
        "outputId": "2c9f19fc-9557-48c3-eeeb-360c530d65f4"
      },
      "execution_count": 37,
      "outputs": [
        {
          "output_type": "execute_result",
          "data": {
            "text/plain": [
              "torch.float32"
            ]
          },
          "metadata": {},
          "execution_count": 37
        }
      ]
    },
    {
      "cell_type": "markdown",
      "source": [
        "#### Range"
      ],
      "metadata": {
        "id": "xMG-6rP0U9Qm"
      }
    },
    {
      "cell_type": "code",
      "source": [
        "# Creating a range of tensors and tensor-like\n",
        "\n",
        "torch.range(0,10)"
      ],
      "metadata": {
        "colab": {
          "base_uri": "https://localhost:8080/"
        },
        "id": "wZ-RM4YEVI_2",
        "outputId": "5d906ab3-e201-4eb9-da82-9b25feecdb1e"
      },
      "execution_count": 38,
      "outputs": [
        {
          "output_type": "stream",
          "name": "stderr",
          "text": [
            "<ipython-input-38-2e7b791c1d3a>:3: UserWarning: torch.range is deprecated and will be removed in a future release because its behavior is inconsistent with Python's range builtin. Instead, use torch.arange, which produces values in [start, end).\n",
            "  torch.range(0,10)\n"
          ]
        },
        {
          "output_type": "execute_result",
          "data": {
            "text/plain": [
              "tensor([ 0.,  1.,  2.,  3.,  4.,  5.,  6.,  7.,  8.,  9., 10.])"
            ]
          },
          "metadata": {},
          "execution_count": 38
        }
      ]
    },
    {
      "cell_type": "code",
      "source": [
        "torch.arange(0,10)"
      ],
      "metadata": {
        "colab": {
          "base_uri": "https://localhost:8080/"
        },
        "id": "R0MFqnEAVSM5",
        "outputId": "fcdcb18b-e379-4b76-bcd6-eff2e81b831f"
      },
      "execution_count": 39,
      "outputs": [
        {
          "output_type": "execute_result",
          "data": {
            "text/plain": [
              "tensor([0, 1, 2, 3, 4, 5, 6, 7, 8, 9])"
            ]
          },
          "metadata": {},
          "execution_count": 39
        }
      ]
    },
    {
      "cell_type": "code",
      "source": [
        "one_to_ten = torch.arange(1,11)\n",
        "one_to_ten"
      ],
      "metadata": {
        "colab": {
          "base_uri": "https://localhost:8080/"
        },
        "id": "OH9BYUy_VYTO",
        "outputId": "bac95b15-93f8-405f-c631-a12dc4d1c8e1"
      },
      "execution_count": 40,
      "outputs": [
        {
          "output_type": "execute_result",
          "data": {
            "text/plain": [
              "tensor([ 1,  2,  3,  4,  5,  6,  7,  8,  9, 10])"
            ]
          },
          "metadata": {},
          "execution_count": 40
        }
      ]
    },
    {
      "cell_type": "code",
      "source": [
        "one_to_ten_1 = torch.arange(1,11,3) # start, end, step\n",
        "one_to_ten_1"
      ],
      "metadata": {
        "colab": {
          "base_uri": "https://localhost:8080/"
        },
        "id": "7x-LeiQZVhMv",
        "outputId": "d7b0cbb8-fc1a-479c-c534-ad78588edc45"
      },
      "execution_count": 41,
      "outputs": [
        {
          "output_type": "execute_result",
          "data": {
            "text/plain": [
              "tensor([ 1,  4,  7, 10])"
            ]
          },
          "metadata": {},
          "execution_count": 41
        }
      ]
    },
    {
      "cell_type": "code",
      "source": [
        "# Creating tensors like\n",
        "ten_zeros = torch.zeros_like(input = one_to_ten)\n",
        "ten_zeros"
      ],
      "metadata": {
        "colab": {
          "base_uri": "https://localhost:8080/"
        },
        "id": "hhxktA0HVszj",
        "outputId": "712de8c6-619f-467b-b38a-a436c54273b9"
      },
      "execution_count": 42,
      "outputs": [
        {
          "output_type": "execute_result",
          "data": {
            "text/plain": [
              "tensor([0, 0, 0, 0, 0, 0, 0, 0, 0, 0])"
            ]
          },
          "metadata": {},
          "execution_count": 42
        }
      ]
    },
    {
      "cell_type": "code",
      "source": [
        "image_ones = torch.ones_like(random_image_size_tensor)\n",
        "image_ones"
      ],
      "metadata": {
        "colab": {
          "base_uri": "https://localhost:8080/"
        },
        "id": "3v-gSvIWWJSp",
        "outputId": "43caf442-7e2f-44c9-952c-f27aa3d54575"
      },
      "execution_count": 43,
      "outputs": [
        {
          "output_type": "execute_result",
          "data": {
            "text/plain": [
              "tensor([[[1., 1., 1.,  ..., 1., 1., 1.],\n",
              "         [1., 1., 1.,  ..., 1., 1., 1.],\n",
              "         [1., 1., 1.,  ..., 1., 1., 1.],\n",
              "         ...,\n",
              "         [1., 1., 1.,  ..., 1., 1., 1.],\n",
              "         [1., 1., 1.,  ..., 1., 1., 1.],\n",
              "         [1., 1., 1.,  ..., 1., 1., 1.]],\n",
              "\n",
              "        [[1., 1., 1.,  ..., 1., 1., 1.],\n",
              "         [1., 1., 1.,  ..., 1., 1., 1.],\n",
              "         [1., 1., 1.,  ..., 1., 1., 1.],\n",
              "         ...,\n",
              "         [1., 1., 1.,  ..., 1., 1., 1.],\n",
              "         [1., 1., 1.,  ..., 1., 1., 1.],\n",
              "         [1., 1., 1.,  ..., 1., 1., 1.]],\n",
              "\n",
              "        [[1., 1., 1.,  ..., 1., 1., 1.],\n",
              "         [1., 1., 1.,  ..., 1., 1., 1.],\n",
              "         [1., 1., 1.,  ..., 1., 1., 1.],\n",
              "         ...,\n",
              "         [1., 1., 1.,  ..., 1., 1., 1.],\n",
              "         [1., 1., 1.,  ..., 1., 1., 1.],\n",
              "         [1., 1., 1.,  ..., 1., 1., 1.]]])"
            ]
          },
          "metadata": {},
          "execution_count": 43
        }
      ]
    },
    {
      "cell_type": "code",
      "source": [
        "image_ones.shape"
      ],
      "metadata": {
        "colab": {
          "base_uri": "https://localhost:8080/"
        },
        "id": "L65tr25oWrdw",
        "outputId": "a1da7161-22fa-44a6-c7a6-e08400a598d2"
      },
      "execution_count": 44,
      "outputs": [
        {
          "output_type": "execute_result",
          "data": {
            "text/plain": [
              "torch.Size([3, 224, 224])"
            ]
          },
          "metadata": {},
          "execution_count": 44
        }
      ]
    },
    {
      "cell_type": "markdown",
      "source": [
        "#### Tensor Datatypes\n",
        "\n",
        "**NOTE**: Tensor datatypes are one of the 3 big errors you'll run into with PyTorch and Deep Learning:\n",
        "1. Tensors not right datatype\n",
        "2. Tensors not right shape\n",
        "3. Tensors not on the right device"
      ],
      "metadata": {
        "id": "nKa6XstQWvVF"
      }
    },
    {
      "cell_type": "code",
      "source": [
        "# Float 32 tensor\n",
        "float_32_tensor = torch.tensor([3.0, 6.0, 2.4],\n",
        "                               dtype=None)\n",
        "float_32_tensor"
      ],
      "metadata": {
        "colab": {
          "base_uri": "https://localhost:8080/"
        },
        "id": "PAKnCUbGW2qW",
        "outputId": "82e8c4a7-2a50-4667-e075-b158db34ad59"
      },
      "execution_count": 45,
      "outputs": [
        {
          "output_type": "execute_result",
          "data": {
            "text/plain": [
              "tensor([3.0000, 6.0000, 2.4000])"
            ]
          },
          "metadata": {},
          "execution_count": 45
        }
      ]
    },
    {
      "cell_type": "code",
      "source": [
        "float_32_tensor.dtype"
      ],
      "metadata": {
        "colab": {
          "base_uri": "https://localhost:8080/"
        },
        "id": "ra6KAEy0XE--",
        "outputId": "4af91f35-3654-4a58-ad3f-649122e10c78"
      },
      "execution_count": 46,
      "outputs": [
        {
          "output_type": "execute_result",
          "data": {
            "text/plain": [
              "torch.float32"
            ]
          },
          "metadata": {},
          "execution_count": 46
        }
      ]
    },
    {
      "cell_type": "code",
      "source": [
        "float_16_tensor = torch.tensor([3.0, 6.0, 2.4],\n",
        "                               dtype=torch.float16)\n",
        "float_16_tensor"
      ],
      "metadata": {
        "colab": {
          "base_uri": "https://localhost:8080/"
        },
        "id": "lwO4JaDgXIke",
        "outputId": "4133d735-632d-4c42-92da-be2772a66b6f"
      },
      "execution_count": 47,
      "outputs": [
        {
          "output_type": "execute_result",
          "data": {
            "text/plain": [
              "tensor([3.0000, 6.0000, 2.4004], dtype=torch.float16)"
            ]
          },
          "metadata": {},
          "execution_count": 47
        }
      ]
    },
    {
      "cell_type": "code",
      "source": [
        "float_32_tensor_1 = torch.tensor([3.0, 6.0, 2.0],\n",
        "                               dtype=None,\n",
        "                               device = None, # \"cuda\"/\"cpu\"\n",
        "                               requires_grad=False) # whether or not to track gradients with this tensors operations\n",
        "float_32_tensor_1"
      ],
      "metadata": {
        "colab": {
          "base_uri": "https://localhost:8080/"
        },
        "id": "Kp0I3hcuXQR0",
        "outputId": "7faba4c1-7027-4efb-b973-07c83522d666"
      },
      "execution_count": 48,
      "outputs": [
        {
          "output_type": "execute_result",
          "data": {
            "text/plain": [
              "tensor([3., 6., 2.])"
            ]
          },
          "metadata": {},
          "execution_count": 48
        }
      ]
    },
    {
      "cell_type": "code",
      "source": [
        "float_16_tensor = float_32_tensor_1.type(torch.float16)\n",
        "float_16_tensor"
      ],
      "metadata": {
        "colab": {
          "base_uri": "https://localhost:8080/"
        },
        "id": "Ow0YJ3G4Xi14",
        "outputId": "edfcc736-bbd2-436d-b10a-9488d21bab2a"
      },
      "execution_count": 49,
      "outputs": [
        {
          "output_type": "execute_result",
          "data": {
            "text/plain": [
              "tensor([3., 6., 2.], dtype=torch.float16)"
            ]
          },
          "metadata": {},
          "execution_count": 49
        }
      ]
    },
    {
      "cell_type": "code",
      "source": [
        "float_16_tensor*float_32_tensor_1"
      ],
      "metadata": {
        "colab": {
          "base_uri": "https://localhost:8080/"
        },
        "id": "NwGLtuw6ZCYE",
        "outputId": "a2ea92a1-f6da-4e4e-d6da-cc9388390404"
      },
      "execution_count": 50,
      "outputs": [
        {
          "output_type": "execute_result",
          "data": {
            "text/plain": [
              "tensor([ 9., 36.,  4.])"
            ]
          },
          "metadata": {},
          "execution_count": 50
        }
      ]
    },
    {
      "cell_type": "code",
      "source": [
        "(float_16_tensor*float_32_tensor_1).dtype"
      ],
      "metadata": {
        "colab": {
          "base_uri": "https://localhost:8080/"
        },
        "id": "UiI6mjigZVPq",
        "outputId": "07740123-2e65-428d-d2bb-5985a00ba981"
      },
      "execution_count": 51,
      "outputs": [
        {
          "output_type": "execute_result",
          "data": {
            "text/plain": [
              "torch.float32"
            ]
          },
          "metadata": {},
          "execution_count": 51
        }
      ]
    },
    {
      "cell_type": "code",
      "source": [
        "int_32_tensor = torch.tensor([3,6,9], dtype=torch.int32)\n",
        "int_32_tensor"
      ],
      "metadata": {
        "colab": {
          "base_uri": "https://localhost:8080/"
        },
        "id": "KLMi0s2rZaL7",
        "outputId": "fcda4cf9-e81c-42b2-fa40-5ead13191e57"
      },
      "execution_count": 52,
      "outputs": [
        {
          "output_type": "execute_result",
          "data": {
            "text/plain": [
              "tensor([3, 6, 9], dtype=torch.int32)"
            ]
          },
          "metadata": {},
          "execution_count": 52
        }
      ]
    },
    {
      "cell_type": "code",
      "source": [
        "float_32_tensor_1*int_32_tensor"
      ],
      "metadata": {
        "colab": {
          "base_uri": "https://localhost:8080/"
        },
        "id": "-BKS_e9NZ5gV",
        "outputId": "747088b5-8474-46bc-a5f8-42c31b14f298"
      },
      "execution_count": 53,
      "outputs": [
        {
          "output_type": "execute_result",
          "data": {
            "text/plain": [
              "tensor([ 9., 36., 18.])"
            ]
          },
          "metadata": {},
          "execution_count": 53
        }
      ]
    },
    {
      "cell_type": "code",
      "source": [
        "(float_32_tensor_1*int_32_tensor).dtype"
      ],
      "metadata": {
        "colab": {
          "base_uri": "https://localhost:8080/"
        },
        "id": "2KiMjdUxZ-u0",
        "outputId": "adb48d7f-eece-4222-db87-130d4ddfbb0e"
      },
      "execution_count": 54,
      "outputs": [
        {
          "output_type": "execute_result",
          "data": {
            "text/plain": [
              "torch.float32"
            ]
          },
          "metadata": {},
          "execution_count": 54
        }
      ]
    },
    {
      "cell_type": "code",
      "source": [
        "some_tensor = torch.rand(3,4)\n",
        "some_tensor"
      ],
      "metadata": {
        "colab": {
          "base_uri": "https://localhost:8080/"
        },
        "id": "1ikJls_TaCDc",
        "outputId": "ef93f337-bdb6-480d-e3f1-0e04bd516abe"
      },
      "execution_count": 55,
      "outputs": [
        {
          "output_type": "execute_result",
          "data": {
            "text/plain": [
              "tensor([[0.7291, 0.4004, 0.9432, 0.4914],\n",
              "        [0.5395, 0.6359, 0.7728, 0.2383],\n",
              "        [0.4435, 0.0092, 0.2002, 0.6480]])"
            ]
          },
          "metadata": {},
          "execution_count": 55
        }
      ]
    },
    {
      "cell_type": "code",
      "source": [
        "# Let's find out details about some_tensor\n",
        "print(some_tensor)\n",
        "print(f\"Datatype of tensor: {some_tensor.dtype}\")\n",
        "print(f\"Shape of the tensor: {some_tensor.shape}\")\n",
        "print(f\"Device tensor is on: {some_tensor.device}\")"
      ],
      "metadata": {
        "colab": {
          "base_uri": "https://localhost:8080/"
        },
        "id": "MsGVYKXRasOq",
        "outputId": "c5a00bb8-bfe0-4a69-ecbd-ff0333abc415"
      },
      "execution_count": 56,
      "outputs": [
        {
          "output_type": "stream",
          "name": "stdout",
          "text": [
            "tensor([[0.7291, 0.4004, 0.9432, 0.4914],\n",
            "        [0.5395, 0.6359, 0.7728, 0.2383],\n",
            "        [0.4435, 0.0092, 0.2002, 0.6480]])\n",
            "Datatype of tensor: torch.float32\n",
            "Shape of the tensor: torch.Size([3, 4])\n",
            "Device tensor is on: cpu\n"
          ]
        }
      ]
    },
    {
      "cell_type": "markdown",
      "source": [
        "#### Manipulate Tensors\n",
        "\n",
        "Tensors operations include:\n",
        "* Addition\n",
        "* Subtraction\n",
        "* Multiplication (element-wise and matrix)\n",
        "* Division"
      ],
      "metadata": {
        "id": "Q8Wu0timbLvl"
      }
    },
    {
      "cell_type": "code",
      "source": [
        "add_tensor = torch.tensor([1,3,5])\n",
        "add_tensor + 10"
      ],
      "metadata": {
        "id": "wD1MHVYXbss2",
        "colab": {
          "base_uri": "https://localhost:8080/"
        },
        "outputId": "c8dd5007-6661-477e-e44c-5d51b75d4a59"
      },
      "execution_count": 57,
      "outputs": [
        {
          "output_type": "execute_result",
          "data": {
            "text/plain": [
              "tensor([11, 13, 15])"
            ]
          },
          "metadata": {},
          "execution_count": 57
        }
      ]
    },
    {
      "cell_type": "code",
      "source": [
        "add_tensor * 10"
      ],
      "metadata": {
        "colab": {
          "base_uri": "https://localhost:8080/"
        },
        "id": "3F7rz6ge0Cua",
        "outputId": "22183690-6b36-46ba-b6a8-c2d28c17377a"
      },
      "execution_count": 58,
      "outputs": [
        {
          "output_type": "execute_result",
          "data": {
            "text/plain": [
              "tensor([10, 30, 50])"
            ]
          },
          "metadata": {},
          "execution_count": 58
        }
      ]
    },
    {
      "cell_type": "code",
      "source": [
        "add_tensor"
      ],
      "metadata": {
        "colab": {
          "base_uri": "https://localhost:8080/"
        },
        "id": "JOlzdCKH0GGL",
        "outputId": "3f687209-7357-4647-d2c3-21f18864703f"
      },
      "execution_count": 59,
      "outputs": [
        {
          "output_type": "execute_result",
          "data": {
            "text/plain": [
              "tensor([1, 3, 5])"
            ]
          },
          "metadata": {},
          "execution_count": 59
        }
      ]
    },
    {
      "cell_type": "code",
      "source": [
        "add_tensor/10"
      ],
      "metadata": {
        "colab": {
          "base_uri": "https://localhost:8080/"
        },
        "id": "QBM3spBC0InK",
        "outputId": "da4432ca-383e-44ee-bc16-32fdffefa615"
      },
      "execution_count": 60,
      "outputs": [
        {
          "output_type": "execute_result",
          "data": {
            "text/plain": [
              "tensor([0.1000, 0.3000, 0.5000])"
            ]
          },
          "metadata": {},
          "execution_count": 60
        }
      ]
    },
    {
      "cell_type": "code",
      "source": [
        "add_tensor//10"
      ],
      "metadata": {
        "colab": {
          "base_uri": "https://localhost:8080/"
        },
        "id": "CojJROFe0OwW",
        "outputId": "e407bbc2-bf9a-45de-f1f9-1657a743a0ff"
      },
      "execution_count": 61,
      "outputs": [
        {
          "output_type": "execute_result",
          "data": {
            "text/plain": [
              "tensor([0, 0, 0])"
            ]
          },
          "metadata": {},
          "execution_count": 61
        }
      ]
    },
    {
      "cell_type": "code",
      "source": [
        "add_tensor%3"
      ],
      "metadata": {
        "colab": {
          "base_uri": "https://localhost:8080/"
        },
        "id": "kJ-TFhxF0RUo",
        "outputId": "6e1e8f53-2b4d-474b-a18d-880727abbf5d"
      },
      "execution_count": 62,
      "outputs": [
        {
          "output_type": "execute_result",
          "data": {
            "text/plain": [
              "tensor([1, 0, 2])"
            ]
          },
          "metadata": {},
          "execution_count": 62
        }
      ]
    },
    {
      "cell_type": "code",
      "source": [
        "add_tensor - 10"
      ],
      "metadata": {
        "colab": {
          "base_uri": "https://localhost:8080/"
        },
        "id": "ThBtXawZ0Wri",
        "outputId": "92ce5b74-9aeb-4065-8b0f-c3366fb23b8f"
      },
      "execution_count": 63,
      "outputs": [
        {
          "output_type": "execute_result",
          "data": {
            "text/plain": [
              "tensor([-9, -7, -5])"
            ]
          },
          "metadata": {},
          "execution_count": 63
        }
      ]
    },
    {
      "cell_type": "code",
      "source": [
        "# Try out pytorch in-built functions\n",
        "\n",
        "torch.mul(add_tensor, 3)"
      ],
      "metadata": {
        "colab": {
          "base_uri": "https://localhost:8080/"
        },
        "id": "72GAiXma0h0h",
        "outputId": "107a06a2-d9d5-4b82-9e6a-0ff1594fe345"
      },
      "execution_count": 64,
      "outputs": [
        {
          "output_type": "execute_result",
          "data": {
            "text/plain": [
              "tensor([ 3,  9, 15])"
            ]
          },
          "metadata": {},
          "execution_count": 64
        }
      ]
    },
    {
      "cell_type": "code",
      "source": [
        "torch.add(add_tensor, 32)"
      ],
      "metadata": {
        "colab": {
          "base_uri": "https://localhost:8080/"
        },
        "id": "MJD98b0I0tdL",
        "outputId": "c674e01d-d048-49d0-ceb5-0839a93b7b92"
      },
      "execution_count": 65,
      "outputs": [
        {
          "output_type": "execute_result",
          "data": {
            "text/plain": [
              "tensor([33, 35, 37])"
            ]
          },
          "metadata": {},
          "execution_count": 65
        }
      ]
    },
    {
      "cell_type": "code",
      "source": [
        "# Matrix multiplication\n",
        "print(\"Element wise multiplication\")\n",
        "print(add_tensor * add_tensor)"
      ],
      "metadata": {
        "colab": {
          "base_uri": "https://localhost:8080/"
        },
        "id": "FfcHg0Po009H",
        "outputId": "734e18cb-a088-4116-b0e6-5fad3a59940f"
      },
      "execution_count": 66,
      "outputs": [
        {
          "output_type": "stream",
          "name": "stdout",
          "text": [
            "Element wise multiplication\n",
            "tensor([ 1,  9, 25])\n"
          ]
        }
      ]
    },
    {
      "cell_type": "code",
      "source": [
        "add_tensor"
      ],
      "metadata": {
        "colab": {
          "base_uri": "https://localhost:8080/"
        },
        "id": "MyldwMOa1uHB",
        "outputId": "9baea4c4-362e-4473-f103-aa8f84e40146"
      },
      "execution_count": 67,
      "outputs": [
        {
          "output_type": "execute_result",
          "data": {
            "text/plain": [
              "tensor([1, 3, 5])"
            ]
          },
          "metadata": {},
          "execution_count": 67
        }
      ]
    },
    {
      "cell_type": "code",
      "source": [
        "print(\"Matrix multiplication\")\n",
        "print(torch.matmul(add_tensor, add_tensor)) # 1*1 + 3*3 + 5*5 = 35"
      ],
      "metadata": {
        "colab": {
          "base_uri": "https://localhost:8080/"
        },
        "id": "fQEm2tJ005q2",
        "outputId": "5485796e-adab-4f1f-bb4b-3784ce0f313d"
      },
      "execution_count": 68,
      "outputs": [
        {
          "output_type": "stream",
          "name": "stdout",
          "text": [
            "Matrix multiplication\n",
            "tensor(35)\n"
          ]
        }
      ]
    },
    {
      "cell_type": "code",
      "source": [
        "%%time\n",
        "value = 0\n",
        "for i in range(len(add_tensor)):\n",
        "    value += add_tensor[i]*add_tensor[i]\n",
        "print(value)"
      ],
      "metadata": {
        "colab": {
          "base_uri": "https://localhost:8080/"
        },
        "id": "FxmwbWaE1fAD",
        "outputId": "bd620c11-7a2a-4630-e3ee-56c7d10505b8"
      },
      "execution_count": 69,
      "outputs": [
        {
          "output_type": "stream",
          "name": "stdout",
          "text": [
            "tensor(35)\n",
            "CPU times: user 3.27 ms, sys: 47 µs, total: 3.31 ms\n",
            "Wall time: 4.95 ms\n"
          ]
        }
      ]
    },
    {
      "cell_type": "code",
      "source": [
        "%%time\n",
        "torch.matmul(add_tensor, add_tensor)  # FAST"
      ],
      "metadata": {
        "colab": {
          "base_uri": "https://localhost:8080/"
        },
        "id": "ubFJ6TmA2WBT",
        "outputId": "4ae0cdd8-7be9-4a12-c3f3-c361f513729a"
      },
      "execution_count": 70,
      "outputs": [
        {
          "output_type": "stream",
          "name": "stdout",
          "text": [
            "CPU times: user 1.89 ms, sys: 0 ns, total: 1.89 ms\n",
            "Wall time: 2.48 ms\n"
          ]
        },
        {
          "output_type": "execute_result",
          "data": {
            "text/plain": [
              "tensor(35)"
            ]
          },
          "metadata": {},
          "execution_count": 70
        }
      ]
    },
    {
      "cell_type": "code",
      "source": [
        "add_tensor @ add_tensor # \"@\" is also used for matmul(matrix multiplication)"
      ],
      "metadata": {
        "colab": {
          "base_uri": "https://localhost:8080/"
        },
        "id": "qV7GO0Bk2cBd",
        "outputId": "a3fc063f-03f6-4cb5-a94a-01f3e1c79cff"
      },
      "execution_count": 71,
      "outputs": [
        {
          "output_type": "execute_result",
          "data": {
            "text/plain": [
              "tensor(35)"
            ]
          },
          "metadata": {},
          "execution_count": 71
        }
      ]
    },
    {
      "cell_type": "code",
      "source": [
        "torch.matmul(torch.rand(3,10), torch.rand(10,3))"
      ],
      "metadata": {
        "colab": {
          "base_uri": "https://localhost:8080/"
        },
        "id": "DhdBFYsD2_Lh",
        "outputId": "83a5c3c1-842c-49cd-858f-f47527b3a51d"
      },
      "execution_count": 72,
      "outputs": [
        {
          "output_type": "execute_result",
          "data": {
            "text/plain": [
              "tensor([[2.2737, 2.9856, 2.3791],\n",
              "        [2.5735, 3.3730, 2.2782],\n",
              "        [2.2381, 3.1821, 1.6150]])"
            ]
          },
          "metadata": {},
          "execution_count": 72
        }
      ]
    },
    {
      "cell_type": "markdown",
      "source": [
        "#### One of the most common errors in deep learning: Shape Errors"
      ],
      "metadata": {
        "id": "-mzOhEeb3V0W"
      }
    },
    {
      "cell_type": "code",
      "source": [
        "tensor_A = torch.tensor([[1,2],\n",
        "                         [3,4],\n",
        "                         [5,6]])\n",
        "\n",
        "tensor_B = torch.tensor([[7,8],\n",
        "                         [9,10],\n",
        "                         [11,12]])\n",
        "\n",
        "torch.mm(tensor_A, tensor_B) # \"torch.mm\" is shorthand for matrix multiplication (matmul)"
      ],
      "metadata": {
        "colab": {
          "base_uri": "https://localhost:8080/",
          "height": 176
        },
        "id": "cAq5qiqI3tOC",
        "outputId": "8f4be3b3-4e56-45b7-9e74-2ac4a4372c88"
      },
      "execution_count": 73,
      "outputs": [
        {
          "output_type": "error",
          "ename": "RuntimeError",
          "evalue": "mat1 and mat2 shapes cannot be multiplied (3x2 and 3x2)",
          "traceback": [
            "\u001b[0;31m---------------------------------------------------------------------------\u001b[0m",
            "\u001b[0;31mRuntimeError\u001b[0m                              Traceback (most recent call last)",
            "\u001b[0;32m<ipython-input-73-9f6769d72453>\u001b[0m in \u001b[0;36m<cell line: 9>\u001b[0;34m()\u001b[0m\n\u001b[1;32m      7\u001b[0m                          [11,12]])\n\u001b[1;32m      8\u001b[0m \u001b[0;34m\u001b[0m\u001b[0m\n\u001b[0;32m----> 9\u001b[0;31m \u001b[0mtorch\u001b[0m\u001b[0;34m.\u001b[0m\u001b[0mmm\u001b[0m\u001b[0;34m(\u001b[0m\u001b[0mtensor_A\u001b[0m\u001b[0;34m,\u001b[0m \u001b[0mtensor_B\u001b[0m\u001b[0;34m)\u001b[0m \u001b[0;31m# \"torch.mm\" is shorthand for matrix multiplication (matmul)\u001b[0m\u001b[0;34m\u001b[0m\u001b[0;34m\u001b[0m\u001b[0m\n\u001b[0m",
            "\u001b[0;31mRuntimeError\u001b[0m: mat1 and mat2 shapes cannot be multiplied (3x2 and 3x2)"
          ]
        }
      ]
    },
    {
      "cell_type": "markdown",
      "source": [
        "To fix our tensor shape issue, we can manipulate the shape of one of our tensors using a **transpose**"
      ],
      "metadata": {
        "id": "Zo8kzqqP4jFE"
      }
    },
    {
      "cell_type": "code",
      "source": [
        "tensor_B.T"
      ],
      "metadata": {
        "colab": {
          "base_uri": "https://localhost:8080/"
        },
        "id": "ul1PID_g45XF",
        "outputId": "2a74396a-acad-4807-f30a-8cfa4d198df2"
      },
      "execution_count": 74,
      "outputs": [
        {
          "output_type": "execute_result",
          "data": {
            "text/plain": [
              "tensor([[ 7,  9, 11],\n",
              "        [ 8, 10, 12]])"
            ]
          },
          "metadata": {},
          "execution_count": 74
        }
      ]
    },
    {
      "cell_type": "code",
      "source": [
        "tensor_B.T.shape"
      ],
      "metadata": {
        "colab": {
          "base_uri": "https://localhost:8080/"
        },
        "id": "xmkuckfg5EXA",
        "outputId": "1d4972c9-6997-43a2-ba74-47b86b93b9e1"
      },
      "execution_count": 75,
      "outputs": [
        {
          "output_type": "execute_result",
          "data": {
            "text/plain": [
              "torch.Size([2, 3])"
            ]
          },
          "metadata": {},
          "execution_count": 75
        }
      ]
    },
    {
      "cell_type": "code",
      "source": [
        "tensor_B"
      ],
      "metadata": {
        "colab": {
          "base_uri": "https://localhost:8080/"
        },
        "id": "Gfg34qN548pY",
        "outputId": "256a74b4-1339-499b-bcb9-067c92a447b4"
      },
      "execution_count": 76,
      "outputs": [
        {
          "output_type": "execute_result",
          "data": {
            "text/plain": [
              "tensor([[ 7,  8],\n",
              "        [ 9, 10],\n",
              "        [11, 12]])"
            ]
          },
          "metadata": {},
          "execution_count": 76
        }
      ]
    },
    {
      "cell_type": "code",
      "source": [
        "tensor_B.shape"
      ],
      "metadata": {
        "colab": {
          "base_uri": "https://localhost:8080/"
        },
        "id": "0FvwDn6S5TZs",
        "outputId": "6ef2724e-fe85-48c1-f17a-37a779759aa2"
      },
      "execution_count": 77,
      "outputs": [
        {
          "output_type": "execute_result",
          "data": {
            "text/plain": [
              "torch.Size([3, 2])"
            ]
          },
          "metadata": {},
          "execution_count": 77
        }
      ]
    },
    {
      "cell_type": "code",
      "source": [
        "torch.mm(tensor_A, tensor_B.T)"
      ],
      "metadata": {
        "colab": {
          "base_uri": "https://localhost:8080/"
        },
        "id": "0gUUIiFm4-Ro",
        "outputId": "ed976838-fab1-421b-f861-bd21bf1a97aa"
      },
      "execution_count": 78,
      "outputs": [
        {
          "output_type": "execute_result",
          "data": {
            "text/plain": [
              "tensor([[ 23,  29,  35],\n",
              "        [ 53,  67,  81],\n",
              "        [ 83, 105, 127]])"
            ]
          },
          "metadata": {},
          "execution_count": 78
        }
      ]
    },
    {
      "cell_type": "markdown",
      "source": [
        "### Finding min, max, mean, sum etc. (tensor aggregation)"
      ],
      "metadata": {
        "id": "mRxDf8sT5Wba"
      }
    },
    {
      "cell_type": "code",
      "source": [
        "x = torch.arange(0, 100, 10)\n",
        "x"
      ],
      "metadata": {
        "colab": {
          "base_uri": "https://localhost:8080/"
        },
        "id": "qVFo4mCn5q9h",
        "outputId": "ed013541-58ec-46c7-9bca-99d1440e3a64"
      },
      "execution_count": 79,
      "outputs": [
        {
          "output_type": "execute_result",
          "data": {
            "text/plain": [
              "tensor([ 0, 10, 20, 30, 40, 50, 60, 70, 80, 90])"
            ]
          },
          "metadata": {},
          "execution_count": 79
        }
      ]
    },
    {
      "cell_type": "code",
      "source": [
        "# Find the min\n",
        "torch.min(x), x.min()"
      ],
      "metadata": {
        "colab": {
          "base_uri": "https://localhost:8080/"
        },
        "id": "T1877N2N52M9",
        "outputId": "bf2161cc-1279-44bd-9a4a-1535bcdb5787"
      },
      "execution_count": 80,
      "outputs": [
        {
          "output_type": "execute_result",
          "data": {
            "text/plain": [
              "(tensor(0), tensor(0))"
            ]
          },
          "metadata": {},
          "execution_count": 80
        }
      ]
    },
    {
      "cell_type": "code",
      "source": [
        "# Find the max\n",
        "torch.max(x)"
      ],
      "metadata": {
        "colab": {
          "base_uri": "https://localhost:8080/"
        },
        "id": "HILUbRaU57JW",
        "outputId": "2ff2b37e-47cf-4089-9140-8f75e8218974"
      },
      "execution_count": 81,
      "outputs": [
        {
          "output_type": "execute_result",
          "data": {
            "text/plain": [
              "tensor(90)"
            ]
          },
          "metadata": {},
          "execution_count": 81
        }
      ]
    },
    {
      "cell_type": "code",
      "source": [
        "x.max()"
      ],
      "metadata": {
        "colab": {
          "base_uri": "https://localhost:8080/"
        },
        "id": "ioDnJ3TF5_8R",
        "outputId": "49690988-065a-4467-a2bd-5e15128685d7"
      },
      "execution_count": 82,
      "outputs": [
        {
          "output_type": "execute_result",
          "data": {
            "text/plain": [
              "tensor(90)"
            ]
          },
          "metadata": {},
          "execution_count": 82
        }
      ]
    },
    {
      "cell_type": "code",
      "source": [
        "# Find the mean\n",
        "torch.mean(x)"
      ],
      "metadata": {
        "colab": {
          "base_uri": "https://localhost:8080/",
          "height": 158
        },
        "id": "toBVAKrO6Bki",
        "outputId": "26b39853-3fb5-47e4-c618-e2abea435fd2"
      },
      "execution_count": 83,
      "outputs": [
        {
          "output_type": "error",
          "ename": "RuntimeError",
          "evalue": "mean(): could not infer output dtype. Input dtype must be either a floating point or complex dtype. Got: Long",
          "traceback": [
            "\u001b[0;31m---------------------------------------------------------------------------\u001b[0m",
            "\u001b[0;31mRuntimeError\u001b[0m                              Traceback (most recent call last)",
            "\u001b[0;32m<ipython-input-83-7519b7c6f2fb>\u001b[0m in \u001b[0;36m<cell line: 2>\u001b[0;34m()\u001b[0m\n\u001b[1;32m      1\u001b[0m \u001b[0;31m# Find the mean\u001b[0m\u001b[0;34m\u001b[0m\u001b[0;34m\u001b[0m\u001b[0m\n\u001b[0;32m----> 2\u001b[0;31m \u001b[0mtorch\u001b[0m\u001b[0;34m.\u001b[0m\u001b[0mmean\u001b[0m\u001b[0;34m(\u001b[0m\u001b[0mx\u001b[0m\u001b[0;34m)\u001b[0m\u001b[0;34m\u001b[0m\u001b[0;34m\u001b[0m\u001b[0m\n\u001b[0m",
            "\u001b[0;31mRuntimeError\u001b[0m: mean(): could not infer output dtype. Input dtype must be either a floating point or complex dtype. Got: Long"
          ]
        }
      ]
    },
    {
      "cell_type": "code",
      "source": [
        "x.dtype"
      ],
      "metadata": {
        "id": "icE6E4DW6HNU",
        "colab": {
          "base_uri": "https://localhost:8080/"
        },
        "outputId": "a1d25e91-5e96-4202-afdf-7eb507bf3db4"
      },
      "execution_count": 85,
      "outputs": [
        {
          "output_type": "execute_result",
          "data": {
            "text/plain": [
              "torch.int64"
            ]
          },
          "metadata": {},
          "execution_count": 85
        }
      ]
    },
    {
      "cell_type": "code",
      "source": [
        "torch.mean(x.type(torch.float32))"
      ],
      "metadata": {
        "id": "fMCJG8kl6Yyn",
        "colab": {
          "base_uri": "https://localhost:8080/"
        },
        "outputId": "4dec34e5-7cc4-4a06-d12c-4ecdb7108938"
      },
      "execution_count": 86,
      "outputs": [
        {
          "output_type": "execute_result",
          "data": {
            "text/plain": [
              "tensor(45.)"
            ]
          },
          "metadata": {},
          "execution_count": 86
        }
      ]
    },
    {
      "cell_type": "code",
      "source": [
        "x.type(torch.float32).mean()"
      ],
      "metadata": {
        "id": "W0UW2E8F6vQP",
        "colab": {
          "base_uri": "https://localhost:8080/"
        },
        "outputId": "c45d8cf8-7f39-46a4-f1f4-0f3203628fc5"
      },
      "execution_count": 87,
      "outputs": [
        {
          "output_type": "execute_result",
          "data": {
            "text/plain": [
              "tensor(45.)"
            ]
          },
          "metadata": {},
          "execution_count": 87
        }
      ]
    },
    {
      "cell_type": "markdown",
      "source": [
        "**NOTE** : The torch.mean() function requires a tensor of float32 datatype to work"
      ],
      "metadata": {
        "id": "SaWwl3yA66Ua"
      }
    },
    {
      "cell_type": "code",
      "source": [
        "# Find the sum\n",
        "torch.sum(x), x.sum()"
      ],
      "metadata": {
        "id": "z5ATxrWx7JuH",
        "colab": {
          "base_uri": "https://localhost:8080/"
        },
        "outputId": "feaa06b9-d751-492f-de72-249c896c756b"
      },
      "execution_count": 88,
      "outputs": [
        {
          "output_type": "execute_result",
          "data": {
            "text/plain": [
              "(tensor(450), tensor(450))"
            ]
          },
          "metadata": {},
          "execution_count": 88
        }
      ]
    },
    {
      "cell_type": "markdown",
      "source": [
        "#### argmin, argmax"
      ],
      "metadata": {
        "id": "DSEGhe_w7Q7I"
      }
    },
    {
      "cell_type": "code",
      "source": [
        "x"
      ],
      "metadata": {
        "id": "r-u9blfH0al6",
        "colab": {
          "base_uri": "https://localhost:8080/"
        },
        "outputId": "92463485-74ce-4be5-ddbf-b73d33e8964d"
      },
      "execution_count": 89,
      "outputs": [
        {
          "output_type": "execute_result",
          "data": {
            "text/plain": [
              "tensor([ 0, 10, 20, 30, 40, 50, 60, 70, 80, 90])"
            ]
          },
          "metadata": {},
          "execution_count": 89
        }
      ]
    },
    {
      "cell_type": "code",
      "source": [
        "x.argmin() # Gives the position in tensor that has the minimum value"
      ],
      "metadata": {
        "id": "N10BVq0y0nsm",
        "colab": {
          "base_uri": "https://localhost:8080/"
        },
        "outputId": "9a737940-6aff-440f-a90b-2ef3ca69d085"
      },
      "execution_count": 90,
      "outputs": [
        {
          "output_type": "execute_result",
          "data": {
            "text/plain": [
              "tensor(0)"
            ]
          },
          "metadata": {},
          "execution_count": 90
        }
      ]
    },
    {
      "cell_type": "code",
      "source": [
        "x[0]"
      ],
      "metadata": {
        "id": "gzXl9Wf-0qf9",
        "colab": {
          "base_uri": "https://localhost:8080/"
        },
        "outputId": "3e99a81d-53c7-425d-f490-3dae1726b799"
      },
      "execution_count": 91,
      "outputs": [
        {
          "output_type": "execute_result",
          "data": {
            "text/plain": [
              "tensor(0)"
            ]
          },
          "metadata": {},
          "execution_count": 91
        }
      ]
    },
    {
      "cell_type": "code",
      "source": [
        "x.argmax() # Gives the position in tensor that has the maximum value"
      ],
      "metadata": {
        "id": "1eMwmIW90rzQ",
        "colab": {
          "base_uri": "https://localhost:8080/"
        },
        "outputId": "1f072736-a8f2-4bcf-d1ec-94e122f8cc15"
      },
      "execution_count": 92,
      "outputs": [
        {
          "output_type": "execute_result",
          "data": {
            "text/plain": [
              "tensor(9)"
            ]
          },
          "metadata": {},
          "execution_count": 92
        }
      ]
    },
    {
      "cell_type": "code",
      "source": [
        "x[9]"
      ],
      "metadata": {
        "colab": {
          "base_uri": "https://localhost:8080/"
        },
        "id": "SJR_zLTM0ueV",
        "outputId": "c236700a-4efb-41ac-a871-fffbfa5e51da"
      },
      "execution_count": 93,
      "outputs": [
        {
          "output_type": "execute_result",
          "data": {
            "text/plain": [
              "tensor(90)"
            ]
          },
          "metadata": {},
          "execution_count": 93
        }
      ]
    },
    {
      "cell_type": "markdown",
      "source": [
        "### Reshaping, Viewing and Stacking\n",
        "\n",
        "- `Reshaping`: Reshapes an input tensor to a defined shape\n",
        "- `View`: Return a view of an input tensor of certain shape but keep the same memory as the original tensor\n",
        "- `Stacking`: Combine multiple tensors on top of each other (vstack) or side by side (hstack)\n",
        "- `Squeeze`: Removes all `1` dimensions from a tensor\n",
        "- `Unsqueeze`: Add a `1` dimension to a target tensor\n",
        "- `Permute`: Return a view of the input with dimensions permuted(swapped) in a certain way"
      ],
      "metadata": {
        "id": "iSSJPIwR09WD"
      }
    },
    {
      "cell_type": "code",
      "source": [
        "import torch\n",
        "x = torch.arange(1.,13.)\n",
        "x, x.shape"
      ],
      "metadata": {
        "colab": {
          "base_uri": "https://localhost:8080/"
        },
        "id": "jaQ_06Eh1fSR",
        "outputId": "a1105941-666e-4ab3-9de8-0d14745f5310"
      },
      "execution_count": 94,
      "outputs": [
        {
          "output_type": "execute_result",
          "data": {
            "text/plain": [
              "(tensor([ 1.,  2.,  3.,  4.,  5.,  6.,  7.,  8.,  9., 10., 11., 12.]),\n",
              " torch.Size([12]))"
            ]
          },
          "metadata": {},
          "execution_count": 94
        }
      ]
    },
    {
      "cell_type": "code",
      "source": [
        "# Reshape\n",
        "x_reshaped = x.reshape(1,7)\n",
        "x_reshaped, x_reshaped.shape"
      ],
      "metadata": {
        "colab": {
          "base_uri": "https://localhost:8080/",
          "height": 176
        },
        "id": "Yj6rKymg7oqp",
        "outputId": "47a10557-3d31-4f93-9e98-6b36f9d27107"
      },
      "execution_count": 95,
      "outputs": [
        {
          "output_type": "error",
          "ename": "RuntimeError",
          "evalue": "shape '[1, 7]' is invalid for input of size 12",
          "traceback": [
            "\u001b[0;31m---------------------------------------------------------------------------\u001b[0m",
            "\u001b[0;31mRuntimeError\u001b[0m                              Traceback (most recent call last)",
            "\u001b[0;32m<ipython-input-95-d25170d2b861>\u001b[0m in \u001b[0;36m<cell line: 2>\u001b[0;34m()\u001b[0m\n\u001b[1;32m      1\u001b[0m \u001b[0;31m# Reshape\u001b[0m\u001b[0;34m\u001b[0m\u001b[0;34m\u001b[0m\u001b[0m\n\u001b[0;32m----> 2\u001b[0;31m \u001b[0mx_reshaped\u001b[0m \u001b[0;34m=\u001b[0m \u001b[0mx\u001b[0m\u001b[0;34m.\u001b[0m\u001b[0mreshape\u001b[0m\u001b[0;34m(\u001b[0m\u001b[0;36m1\u001b[0m\u001b[0;34m,\u001b[0m\u001b[0;36m7\u001b[0m\u001b[0;34m)\u001b[0m\u001b[0;34m\u001b[0m\u001b[0;34m\u001b[0m\u001b[0m\n\u001b[0m\u001b[1;32m      3\u001b[0m \u001b[0mx_reshaped\u001b[0m\u001b[0;34m,\u001b[0m \u001b[0mx_reshaped\u001b[0m\u001b[0;34m.\u001b[0m\u001b[0mshape\u001b[0m\u001b[0;34m\u001b[0m\u001b[0;34m\u001b[0m\u001b[0m\n",
            "\u001b[0;31mRuntimeError\u001b[0m: shape '[1, 7]' is invalid for input of size 12"
          ]
        }
      ]
    },
    {
      "cell_type": "code",
      "source": [
        "x_reshaped = x.reshape(6,2)\n",
        "x_reshaped, x_reshaped.shape"
      ],
      "metadata": {
        "id": "s1oPRFjV8F-L"
      },
      "execution_count": null,
      "outputs": []
    },
    {
      "cell_type": "code",
      "source": [
        "x_reshaped = x.reshape(4,3)\n",
        "x_reshaped, x_reshaped.shape"
      ],
      "metadata": {
        "id": "hcDApEy08PUE"
      },
      "execution_count": null,
      "outputs": []
    },
    {
      "cell_type": "code",
      "source": [
        "# Change the view\n",
        "x = torch.arange(1.,10.)\n",
        "x, x.shape"
      ],
      "metadata": {
        "id": "ogm61a5-8Xp4"
      },
      "execution_count": null,
      "outputs": []
    },
    {
      "cell_type": "code",
      "source": [
        "# View = Reshape\n",
        "z = x.view(1,9)\n",
        "z, z.shape"
      ],
      "metadata": {
        "id": "pWyp1sAs8xbH"
      },
      "execution_count": null,
      "outputs": []
    },
    {
      "cell_type": "code",
      "source": [
        "# Changing z changes x (because a view of a tensor shares the same memory as the original input)\n",
        "z[:,0] = 5\n",
        "z,x"
      ],
      "metadata": {
        "colab": {
          "base_uri": "https://localhost:8080/",
          "height": 176
        },
        "id": "PFPqaat39QZ8",
        "outputId": "9c090919-cf5d-4ad9-844e-fbf8c69fb7aa"
      },
      "execution_count": 96,
      "outputs": [
        {
          "output_type": "error",
          "ename": "NameError",
          "evalue": "name 'z' is not defined",
          "traceback": [
            "\u001b[0;31m---------------------------------------------------------------------------\u001b[0m",
            "\u001b[0;31mNameError\u001b[0m                                 Traceback (most recent call last)",
            "\u001b[0;32m<ipython-input-96-d4156fd4fcbf>\u001b[0m in \u001b[0;36m<cell line: 2>\u001b[0;34m()\u001b[0m\n\u001b[1;32m      1\u001b[0m \u001b[0;31m# Changing z changes x (because a view of a tensor shares the same memory as the original input)\u001b[0m\u001b[0;34m\u001b[0m\u001b[0;34m\u001b[0m\u001b[0m\n\u001b[0;32m----> 2\u001b[0;31m \u001b[0mz\u001b[0m\u001b[0;34m[\u001b[0m\u001b[0;34m:\u001b[0m\u001b[0;34m,\u001b[0m\u001b[0;36m0\u001b[0m\u001b[0;34m]\u001b[0m \u001b[0;34m=\u001b[0m \u001b[0;36m5\u001b[0m\u001b[0;34m\u001b[0m\u001b[0;34m\u001b[0m\u001b[0m\n\u001b[0m\u001b[1;32m      3\u001b[0m \u001b[0mz\u001b[0m\u001b[0;34m,\u001b[0m\u001b[0mx\u001b[0m\u001b[0;34m\u001b[0m\u001b[0;34m\u001b[0m\u001b[0m\n",
            "\u001b[0;31mNameError\u001b[0m: name 'z' is not defined"
          ]
        }
      ]
    },
    {
      "cell_type": "code",
      "source": [
        "# Stack tensors on top of each other\n",
        "x_stacked = torch.stack([x, x, x, x])\n",
        "x_stacked"
      ],
      "metadata": {
        "id": "3c1R82z-9hfQ"
      },
      "execution_count": null,
      "outputs": []
    },
    {
      "cell_type": "code",
      "source": [
        "x_stacked = torch.stack([x, x, x, x],dim=0)\n",
        "x_stacked"
      ],
      "metadata": {
        "colab": {
          "base_uri": "https://localhost:8080/"
        },
        "id": "0phU7p1P93kF",
        "outputId": "1ca582fa-4763-4fdb-806b-df2fa87c6a52"
      },
      "execution_count": 97,
      "outputs": [
        {
          "output_type": "execute_result",
          "data": {
            "text/plain": [
              "tensor([[ 1.,  2.,  3.,  4.,  5.,  6.,  7.,  8.,  9., 10., 11., 12.],\n",
              "        [ 1.,  2.,  3.,  4.,  5.,  6.,  7.,  8.,  9., 10., 11., 12.],\n",
              "        [ 1.,  2.,  3.,  4.,  5.,  6.,  7.,  8.,  9., 10., 11., 12.],\n",
              "        [ 1.,  2.,  3.,  4.,  5.,  6.,  7.,  8.,  9., 10., 11., 12.]])"
            ]
          },
          "metadata": {},
          "execution_count": 97
        }
      ]
    },
    {
      "cell_type": "code",
      "source": [
        "x_stacked = torch.stack([x, x, x, x],dim=1)\n",
        "x_stacked"
      ],
      "metadata": {
        "colab": {
          "base_uri": "https://localhost:8080/"
        },
        "id": "xiSbaecs98g9",
        "outputId": "52299224-858b-459b-84c0-97c0472125ae"
      },
      "execution_count": 98,
      "outputs": [
        {
          "output_type": "execute_result",
          "data": {
            "text/plain": [
              "tensor([[ 1.,  1.,  1.,  1.],\n",
              "        [ 2.,  2.,  2.,  2.],\n",
              "        [ 3.,  3.,  3.,  3.],\n",
              "        [ 4.,  4.,  4.,  4.],\n",
              "        [ 5.,  5.,  5.,  5.],\n",
              "        [ 6.,  6.,  6.,  6.],\n",
              "        [ 7.,  7.,  7.,  7.],\n",
              "        [ 8.,  8.,  8.,  8.],\n",
              "        [ 9.,  9.,  9.,  9.],\n",
              "        [10., 10., 10., 10.],\n",
              "        [11., 11., 11., 11.],\n",
              "        [12., 12., 12., 12.]])"
            ]
          },
          "metadata": {},
          "execution_count": 98
        }
      ]
    },
    {
      "cell_type": "code",
      "source": [
        "x = torch.zeros(2, 1, 2)\n",
        "x, x.shape, x.ndim"
      ],
      "metadata": {
        "colab": {
          "base_uri": "https://localhost:8080/"
        },
        "id": "LMf_caxx9-lN",
        "outputId": "386c26bd-dd49-425f-f506-a5d50cff58f2"
      },
      "execution_count": 99,
      "outputs": [
        {
          "output_type": "execute_result",
          "data": {
            "text/plain": [
              "(tensor([[[0., 0.]],\n",
              " \n",
              "         [[0., 0.]]]),\n",
              " torch.Size([2, 1, 2]),\n",
              " 3)"
            ]
          },
          "metadata": {},
          "execution_count": 99
        }
      ]
    },
    {
      "cell_type": "code",
      "source": [
        "# squeeze\n",
        "y = torch.squeeze(x)\n",
        "y, y.shape, y.ndim"
      ],
      "metadata": {
        "colab": {
          "base_uri": "https://localhost:8080/"
        },
        "id": "D2_eNQyEESIF",
        "outputId": "e6bc56c6-d4d9-48ee-d545-eb8f7b357a66"
      },
      "execution_count": 100,
      "outputs": [
        {
          "output_type": "execute_result",
          "data": {
            "text/plain": [
              "(tensor([[0., 0.],\n",
              "         [0., 0.]]),\n",
              " torch.Size([2, 2]),\n",
              " 2)"
            ]
          },
          "metadata": {},
          "execution_count": 100
        }
      ]
    },
    {
      "cell_type": "code",
      "source": [
        "# torch.unsqueeze() - adds a single dimension to a target tensor at a specific dim\n",
        "print(f\"Previous target: {y}\")\n",
        "print(f\"Previous shape: {y.shape}\")\n",
        "\n",
        "# Add an extra dimension with unsqueeze\n",
        "x_unsqueezed = y.unsqueeze(dim=0)\n",
        "print(f\"\\n New tensor: {x_unsqueezed}\")\n",
        "print(f\"New shape is: {x_unsqueezed.shape}\")"
      ],
      "metadata": {
        "id": "UpyITebmFppP",
        "colab": {
          "base_uri": "https://localhost:8080/"
        },
        "outputId": "1e0e5d42-4f51-41c8-b46e-ce06df5c3745"
      },
      "execution_count": 101,
      "outputs": [
        {
          "output_type": "stream",
          "name": "stdout",
          "text": [
            "Previous target: tensor([[0., 0.],\n",
            "        [0., 0.]])\n",
            "Previous shape: torch.Size([2, 2])\n",
            "\n",
            " New tensor: tensor([[[0., 0.],\n",
            "         [0., 0.]]])\n",
            "New shape is: torch.Size([1, 2, 2])\n"
          ]
        }
      ]
    },
    {
      "cell_type": "code",
      "source": [
        "print(f\"Previous target: {y}\")\n",
        "print(f\"Previous shape: {y.shape}\")\n",
        "\n",
        "# Add an extra dimension with unsqueeze\n",
        "x_unsqueezed = y.unsqueeze(dim=2)\n",
        "print(f\"\\n New tensor: {x_unsqueezed}\")\n",
        "print(f\"New shape is: {x_unsqueezed.shape}\")"
      ],
      "metadata": {
        "colab": {
          "base_uri": "https://localhost:8080/"
        },
        "id": "hEq8otEw3D8L",
        "outputId": "2284ca2d-6994-40e8-917c-1c094a37140f"
      },
      "execution_count": 105,
      "outputs": [
        {
          "output_type": "stream",
          "name": "stdout",
          "text": [
            "Previous target: tensor([[0., 0.],\n",
            "        [0., 0.]])\n",
            "Previous shape: torch.Size([2, 2])\n",
            "\n",
            " New tensor: tensor([[[0.],\n",
            "         [0.]],\n",
            "\n",
            "        [[0.],\n",
            "         [0.]]])\n",
            "New shape is: torch.Size([2, 2, 1])\n"
          ]
        }
      ]
    },
    {
      "cell_type": "markdown",
      "source": [
        "#### torch.permute\n",
        "rearranges the dimensions of a target tensor in a specified order (shares the same memory as it is a view)"
      ],
      "metadata": {
        "id": "PE1FSyY-3Ohy"
      }
    },
    {
      "cell_type": "code",
      "source": [
        "x_original = torch.rand(3,224,224)\n",
        "\n",
        "# Permute the original tensor to rearrange the axis order\n",
        "x_permuted = x_original.permute(1, 2, 0) # shifts axis 1->0, 2->1, 0->2"
      ],
      "metadata": {
        "id": "wK-ANhS43sem"
      },
      "execution_count": 110,
      "outputs": []
    },
    {
      "cell_type": "code",
      "source": [
        "x_original.shape"
      ],
      "metadata": {
        "colab": {
          "base_uri": "https://localhost:8080/"
        },
        "id": "QCj9YOKXADoZ",
        "outputId": "b4a7c657-60e1-414c-dd8b-6b37450094cb"
      },
      "execution_count": 111,
      "outputs": [
        {
          "output_type": "execute_result",
          "data": {
            "text/plain": [
              "torch.Size([3, 224, 224])"
            ]
          },
          "metadata": {},
          "execution_count": 111
        }
      ]
    },
    {
      "cell_type": "code",
      "source": [
        "x_permuted.shape"
      ],
      "metadata": {
        "colab": {
          "base_uri": "https://localhost:8080/"
        },
        "id": "5YXIaEEGAFZX",
        "outputId": "a923c800-de6b-42ae-f0c3-e69db527060e"
      },
      "execution_count": 112,
      "outputs": [
        {
          "output_type": "execute_result",
          "data": {
            "text/plain": [
              "torch.Size([224, 224, 3])"
            ]
          },
          "metadata": {},
          "execution_count": 112
        }
      ]
    },
    {
      "cell_type": "code",
      "source": [
        "x_original [0,0,0]"
      ],
      "metadata": {
        "colab": {
          "base_uri": "https://localhost:8080/"
        },
        "id": "WeQ7_m3EAIcK",
        "outputId": "5d691783-4b20-4e64-f329-5480736d7e13"
      },
      "execution_count": 113,
      "outputs": [
        {
          "output_type": "execute_result",
          "data": {
            "text/plain": [
              "tensor(0.1360)"
            ]
          },
          "metadata": {},
          "execution_count": 113
        }
      ]
    },
    {
      "cell_type": "code",
      "source": [
        "x_permuted[0,0,0]"
      ],
      "metadata": {
        "colab": {
          "base_uri": "https://localhost:8080/"
        },
        "id": "eRerpe9RAvjw",
        "outputId": "36110526-96f5-4fe8-8b1e-11e9fcda7289"
      },
      "execution_count": 114,
      "outputs": [
        {
          "output_type": "execute_result",
          "data": {
            "text/plain": [
              "tensor(0.1360)"
            ]
          },
          "metadata": {},
          "execution_count": 114
        }
      ]
    },
    {
      "cell_type": "code",
      "source": [
        "x_original [0,0,0] = 90"
      ],
      "metadata": {
        "id": "MG0zXmIRAzDk"
      },
      "execution_count": 115,
      "outputs": []
    },
    {
      "cell_type": "code",
      "source": [
        "x_permuted[0,0,0]"
      ],
      "metadata": {
        "colab": {
          "base_uri": "https://localhost:8080/"
        },
        "id": "_ltsJWWrA3zo",
        "outputId": "2416b058-645d-448b-f77e-124cd7a02229"
      },
      "execution_count": 116,
      "outputs": [
        {
          "output_type": "execute_result",
          "data": {
            "text/plain": [
              "tensor(90.)"
            ]
          },
          "metadata": {},
          "execution_count": 116
        }
      ]
    },
    {
      "cell_type": "markdown",
      "source": [
        "#### Indexing (selecting data from tensors)\n",
        "Indexing with PyTorch is similar to indexing with Numpy"
      ],
      "metadata": {
        "id": "6XvRp6TRA6sf"
      }
    },
    {
      "cell_type": "code",
      "source": [
        "x = torch.arange(1,10).reshape(1,3,3)\n",
        "x"
      ],
      "metadata": {
        "colab": {
          "base_uri": "https://localhost:8080/"
        },
        "id": "TLTOjrtyBAHK",
        "outputId": "8e3c3fdd-cb9e-4e7b-b24c-e3f5d3d0e938"
      },
      "execution_count": 117,
      "outputs": [
        {
          "output_type": "execute_result",
          "data": {
            "text/plain": [
              "tensor([[[1, 2, 3],\n",
              "         [4, 5, 6],\n",
              "         [7, 8, 9]]])"
            ]
          },
          "metadata": {},
          "execution_count": 117
        }
      ]
    },
    {
      "cell_type": "code",
      "source": [
        "x.shape"
      ],
      "metadata": {
        "colab": {
          "base_uri": "https://localhost:8080/"
        },
        "id": "dyKtWv7qBUwP",
        "outputId": "a5bfed15-72c6-4417-bf2e-5bb2fadf114b"
      },
      "execution_count": 118,
      "outputs": [
        {
          "output_type": "execute_result",
          "data": {
            "text/plain": [
              "torch.Size([1, 3, 3])"
            ]
          },
          "metadata": {},
          "execution_count": 118
        }
      ]
    },
    {
      "cell_type": "code",
      "source": [
        "# Let's index on our new tensor\n",
        "\n",
        "x[0]"
      ],
      "metadata": {
        "colab": {
          "base_uri": "https://localhost:8080/"
        },
        "id": "IVsZuZJjBWTF",
        "outputId": "e8332715-b259-4b10-ef35-0c3dac508ac4"
      },
      "execution_count": 119,
      "outputs": [
        {
          "output_type": "execute_result",
          "data": {
            "text/plain": [
              "tensor([[1, 2, 3],\n",
              "        [4, 5, 6],\n",
              "        [7, 8, 9]])"
            ]
          },
          "metadata": {},
          "execution_count": 119
        }
      ]
    },
    {
      "cell_type": "code",
      "source": [
        "# Let's index on the middle bracket (dim=1)\n",
        "x[0][0]"
      ],
      "metadata": {
        "colab": {
          "base_uri": "https://localhost:8080/"
        },
        "id": "A63ByCtMBhJ2",
        "outputId": "62359c32-e7af-4e3c-bca8-a11b3d71992f"
      },
      "execution_count": 121,
      "outputs": [
        {
          "output_type": "execute_result",
          "data": {
            "text/plain": [
              "tensor([1, 2, 3])"
            ]
          },
          "metadata": {},
          "execution_count": 121
        }
      ]
    },
    {
      "cell_type": "code",
      "source": [
        "x[0][1][1]"
      ],
      "metadata": {
        "colab": {
          "base_uri": "https://localhost:8080/"
        },
        "id": "FjbzeCe_Bp5b",
        "outputId": "169c2e02-61f0-4fbd-b922-a56c928d39bf"
      },
      "execution_count": 124,
      "outputs": [
        {
          "output_type": "execute_result",
          "data": {
            "text/plain": [
              "tensor(5)"
            ]
          },
          "metadata": {},
          "execution_count": 124
        }
      ]
    },
    {
      "cell_type": "code",
      "source": [
        "# You can also use \":\" to select \"all\" of a target dimension\n",
        "\n",
        "x[:,0] # select all of the 0th dimension and then 0th element from the 1st dimension"
      ],
      "metadata": {
        "colab": {
          "base_uri": "https://localhost:8080/"
        },
        "id": "PmkbQOM6B0js",
        "outputId": "fb57ffb3-6f6b-4dcb-8f59-988df40edb6a"
      },
      "execution_count": 126,
      "outputs": [
        {
          "output_type": "execute_result",
          "data": {
            "text/plain": [
              "tensor([[1, 2, 3]])"
            ]
          },
          "metadata": {},
          "execution_count": 126
        }
      ]
    },
    {
      "cell_type": "code",
      "source": [
        "# TASK: Print 3,6,9\n",
        "x[:,:,2]   # 3D plate, Row, Column"
      ],
      "metadata": {
        "colab": {
          "base_uri": "https://localhost:8080/"
        },
        "id": "0-z5M4aqCaXL",
        "outputId": "4742db81-cdc3-4f9a-9680-522755d01f8c"
      },
      "execution_count": 128,
      "outputs": [
        {
          "output_type": "execute_result",
          "data": {
            "text/plain": [
              "tensor([[3, 6, 9]])"
            ]
          },
          "metadata": {},
          "execution_count": 128
        }
      ]
    },
    {
      "cell_type": "code",
      "source": [
        "x"
      ],
      "metadata": {
        "colab": {
          "base_uri": "https://localhost:8080/"
        },
        "id": "KRkAORU8Cygf",
        "outputId": "3a902e7d-8185-4711-8997-247f4300e541"
      },
      "execution_count": 129,
      "outputs": [
        {
          "output_type": "execute_result",
          "data": {
            "text/plain": [
              "tensor([[[1, 2, 3],\n",
              "         [4, 5, 6],\n",
              "         [7, 8, 9]]])"
            ]
          },
          "metadata": {},
          "execution_count": 129
        }
      ]
    },
    {
      "cell_type": "code",
      "source": [
        "x[:,1,1]"
      ],
      "metadata": {
        "colab": {
          "base_uri": "https://localhost:8080/"
        },
        "id": "-MD-DxSBDOvL",
        "outputId": "67a62fbc-d06d-48c0-fc44-336b92df77d7"
      },
      "execution_count": 130,
      "outputs": [
        {
          "output_type": "execute_result",
          "data": {
            "text/plain": [
              "tensor([5])"
            ]
          },
          "metadata": {},
          "execution_count": 130
        }
      ]
    },
    {
      "cell_type": "code",
      "source": [
        "x[0][1][1]"
      ],
      "metadata": {
        "colab": {
          "base_uri": "https://localhost:8080/"
        },
        "id": "FyqW-3gZDTQJ",
        "outputId": "11d564ab-ecaf-4957-b846-fd6e00b32b45"
      },
      "execution_count": 131,
      "outputs": [
        {
          "output_type": "execute_result",
          "data": {
            "text/plain": [
              "tensor(5)"
            ]
          },
          "metadata": {},
          "execution_count": 131
        }
      ]
    },
    {
      "cell_type": "code",
      "source": [
        "x[0,1,1]"
      ],
      "metadata": {
        "colab": {
          "base_uri": "https://localhost:8080/"
        },
        "id": "W5epMZkhDXzv",
        "outputId": "3f7adb0c-fdda-4dfd-84f2-6ae0490b3ba3"
      },
      "execution_count": 132,
      "outputs": [
        {
          "output_type": "execute_result",
          "data": {
            "text/plain": [
              "tensor(5)"
            ]
          },
          "metadata": {},
          "execution_count": 132
        }
      ]
    },
    {
      "cell_type": "markdown",
      "source": [
        "### PyTorch and Numpy\n",
        "- Data in Numpy, want in PyTorch tensor -> `torch.from_numpy(ndarray)`\n",
        "\n",
        "- PyTorch tensor -> Numpy -> `torch.Tensor.numpy()`"
      ],
      "metadata": {
        "id": "96IQf_yxDbWl"
      }
    },
    {
      "cell_type": "code",
      "source": [
        "import torch\n",
        "import numpy as np\n",
        "\n",
        "array = np.arange(1.0,9.0)\n",
        "tensor_format = torch.from_numpy(array)\n",
        "array, tensor_format"
      ],
      "metadata": {
        "colab": {
          "base_uri": "https://localhost:8080/"
        },
        "id": "MeVextbjDlry",
        "outputId": "df354f03-2276-4938-8631-ed30f4e8cc08"
      },
      "execution_count": 134,
      "outputs": [
        {
          "output_type": "execute_result",
          "data": {
            "text/plain": [
              "(array([1., 2., 3., 4., 5., 6., 7., 8.]),\n",
              " tensor([1., 2., 3., 4., 5., 6., 7., 8.], dtype=torch.float64))"
            ]
          },
          "metadata": {},
          "execution_count": 134
        }
      ]
    },
    {
      "cell_type": "code",
      "source": [
        "array.dtype"
      ],
      "metadata": {
        "colab": {
          "base_uri": "https://localhost:8080/"
        },
        "id": "JQ-4hGtZEbOK",
        "outputId": "51f646c6-dbd8-4452-d109-cfce03ed85ca"
      },
      "execution_count": 135,
      "outputs": [
        {
          "output_type": "execute_result",
          "data": {
            "text/plain": [
              "dtype('float64')"
            ]
          },
          "metadata": {},
          "execution_count": 135
        }
      ]
    },
    {
      "cell_type": "code",
      "source": [
        "tensor_format.dtype"
      ],
      "metadata": {
        "colab": {
          "base_uri": "https://localhost:8080/"
        },
        "id": "d8qEf0XpEh6I",
        "outputId": "d45c6e19-36e1-43ae-e638-d134fe5e8e0a"
      },
      "execution_count": 136,
      "outputs": [
        {
          "output_type": "execute_result",
          "data": {
            "text/plain": [
              "torch.float64"
            ]
          },
          "metadata": {},
          "execution_count": 136
        }
      ]
    },
    {
      "cell_type": "code",
      "source": [
        "torch.arange(1.0,5.0).dtype # default datatype of pytorch is float32"
      ],
      "metadata": {
        "colab": {
          "base_uri": "https://localhost:8080/"
        },
        "id": "pcN9clsPEk74",
        "outputId": "c244b6a0-5fd5-4bc3-839f-b406b2da7b30"
      },
      "execution_count": 140,
      "outputs": [
        {
          "output_type": "execute_result",
          "data": {
            "text/plain": [
              "torch.float32"
            ]
          },
          "metadata": {},
          "execution_count": 140
        }
      ]
    },
    {
      "cell_type": "code",
      "source": [
        "tensor_format = torch.from_numpy(array).type(torch.float32)\n",
        "tensor_format, tensor_format.dtype"
      ],
      "metadata": {
        "colab": {
          "base_uri": "https://localhost:8080/"
        },
        "id": "OhfxA0bbEq9A",
        "outputId": "f982960d-1d31-49e5-b918-ff0e9e0a4601"
      },
      "execution_count": 143,
      "outputs": [
        {
          "output_type": "execute_result",
          "data": {
            "text/plain": [
              "(tensor([1., 2., 3., 4., 5., 6., 7., 8.]), torch.float32)"
            ]
          },
          "metadata": {},
          "execution_count": 143
        }
      ]
    },
    {
      "cell_type": "markdown",
      "source": [
        "⚠️ WARNING:\n",
        "When converting from Numpy -> pytorch, PyTorch reflects NumPy's default datatype of float64 unless specified explicitly"
      ],
      "metadata": {
        "id": "_PCDAm2rFlVl"
      }
    },
    {
      "cell_type": "code",
      "source": [
        "array = array+1\n",
        "tensor_format, array\n",
        "# New tensor in memory, array doesn't affect it now"
      ],
      "metadata": {
        "colab": {
          "base_uri": "https://localhost:8080/"
        },
        "id": "6B4TgdNaGFbv",
        "outputId": "8fc352f7-78a2-42b1-b8fc-6431dd120fad"
      },
      "execution_count": 145,
      "outputs": [
        {
          "output_type": "execute_result",
          "data": {
            "text/plain": [
              "(tensor([1., 2., 3., 4., 5., 6., 7., 8.]),\n",
              " array([ 3.,  4.,  5.,  6.,  7.,  8.,  9., 10.]))"
            ]
          },
          "metadata": {},
          "execution_count": 145
        }
      ]
    },
    {
      "cell_type": "code",
      "source": [
        "# Tensor to NumPy array\n",
        "tensor = torch.ones(5)\n",
        "numpy_tensor = tensor.numpy()\n",
        "tensor, numpy_tensor"
      ],
      "metadata": {
        "colab": {
          "base_uri": "https://localhost:8080/"
        },
        "id": "rJ8poCclHKAo",
        "outputId": "b401703a-7044-4c00-c73b-ab46e7a5d025"
      },
      "execution_count": 147,
      "outputs": [
        {
          "output_type": "execute_result",
          "data": {
            "text/plain": [
              "(tensor([1., 1., 1., 1., 1.]), array([1., 1., 1., 1., 1.], dtype=float32))"
            ]
          },
          "metadata": {},
          "execution_count": 147
        }
      ]
    },
    {
      "cell_type": "code",
      "source": [
        "# Default dtype of numpy is float64 and default datatype of pytorch tensor is float32"
      ],
      "metadata": {
        "id": "arg11E9ZMEN6"
      },
      "execution_count": 149,
      "outputs": []
    },
    {
      "cell_type": "code",
      "source": [
        "tensor = tensor+2\n",
        "tensor, numpy_tensor\n",
        "# They don't share memory"
      ],
      "metadata": {
        "colab": {
          "base_uri": "https://localhost:8080/"
        },
        "id": "1p1UHS8pMX2f",
        "outputId": "48d84190-bbad-4214-be48-fa0375ecb25e"
      },
      "execution_count": 150,
      "outputs": [
        {
          "output_type": "execute_result",
          "data": {
            "text/plain": [
              "(tensor([3., 3., 3., 3., 3.]), array([1., 1., 1., 1., 1.], dtype=float32))"
            ]
          },
          "metadata": {},
          "execution_count": 150
        }
      ]
    },
    {
      "cell_type": "markdown",
      "source": [
        "### Reproducbility (trying to take random out of random)\n",
        "\n",
        "In short how a neural network learns:\n",
        "\n",
        "`Start with random numbers -> tensor operations -> Update random numbers to try and make them better representation of the data -> again -> again -> ....again`"
      ],
      "metadata": {
        "id": "3P6dKuFaMlyf"
      }
    },
    {
      "cell_type": "code",
      "source": [
        "torch.rand(3,3) # Everytime it gives different random numbers"
      ],
      "metadata": {
        "colab": {
          "base_uri": "https://localhost:8080/"
        },
        "id": "XaA74ymANie7",
        "outputId": "654278d9-3d8f-46b5-fded-e56510150a72"
      },
      "execution_count": 152,
      "outputs": [
        {
          "output_type": "execute_result",
          "data": {
            "text/plain": [
              "tensor([[0.3753, 0.3883, 0.8444],\n",
              "        [0.8069, 0.0209, 0.6118],\n",
              "        [0.3323, 0.0048, 0.9255]])"
            ]
          },
          "metadata": {},
          "execution_count": 152
        }
      ]
    },
    {
      "cell_type": "markdown",
      "source": [
        "To reduce the randomness in Neural Network and in PyTorch comes the concept of a **random seed**"
      ],
      "metadata": {
        "id": "YFl9ZecQNzXL"
      }
    },
    {
      "cell_type": "code",
      "source": [
        "# Create two random tensors\n",
        "random_tensor_A = torch.rand(4,3)\n",
        "random_tensor_B = torch.rand(4,3)\n",
        "print(random_tensor_A)\n",
        "print(random_tensor_B)\n",
        "print(random_tensor_A == random_tensor_B)"
      ],
      "metadata": {
        "colab": {
          "base_uri": "https://localhost:8080/"
        },
        "id": "pE_omejnOJGm",
        "outputId": "cafba332-02fc-4738-dfba-795deb277d24"
      },
      "execution_count": 154,
      "outputs": [
        {
          "output_type": "stream",
          "name": "stdout",
          "text": [
            "tensor([[0.0798, 0.7770, 0.8760],\n",
            "        [0.2840, 0.2300, 0.2844],\n",
            "        [0.3666, 0.9545, 0.6130],\n",
            "        [0.0353, 0.0485, 0.3198]])\n",
            "tensor([[0.9564, 0.9891, 0.1719],\n",
            "        [0.5193, 0.6382, 0.6692],\n",
            "        [0.0072, 0.1298, 0.3353],\n",
            "        [0.8246, 0.2813, 0.1915]])\n",
            "tensor([[False, False, False],\n",
            "        [False, False, False],\n",
            "        [False, False, False],\n",
            "        [False, False, False]])\n"
          ]
        }
      ]
    },
    {
      "cell_type": "code",
      "source": [
        "# Let's make some random but reproducible tensors\n",
        "torch.manual_seed(42)\n",
        "\n",
        "random_tensor_C = torch.rand(3,4)\n",
        "random_tensor_C"
      ],
      "metadata": {
        "colab": {
          "base_uri": "https://localhost:8080/"
        },
        "id": "daESwtpAO_yw",
        "outputId": "e5a39883-0a21-431e-9667-6af0f0c52824"
      },
      "execution_count": 159,
      "outputs": [
        {
          "output_type": "execute_result",
          "data": {
            "text/plain": [
              "tensor([[0.8823, 0.9150, 0.3829, 0.9593],\n",
              "        [0.3904, 0.6009, 0.2566, 0.7936],\n",
              "        [0.9408, 0.1332, 0.9346, 0.5936]])"
            ]
          },
          "metadata": {},
          "execution_count": 159
        }
      ]
    },
    {
      "cell_type": "code",
      "source": [
        "# !! INTERESTING\n",
        "\n",
        "torch.manual_seed(42)\n",
        "random_tensor_C = torch.rand(3,4)\n",
        "\n",
        "torch.manual_seed(42)\n",
        "random_tensor_D = torch.rand(3,4)\n",
        "\n",
        "print(random_tensor_C)\n",
        "print(random_tensor_D)\n",
        "print(random_tensor_C == random_tensor_D)"
      ],
      "metadata": {
        "colab": {
          "base_uri": "https://localhost:8080/"
        },
        "id": "Me_PfDdBPv3A",
        "outputId": "b20386c8-2db1-415e-e61f-a50f714d7063"
      },
      "execution_count": 158,
      "outputs": [
        {
          "output_type": "stream",
          "name": "stdout",
          "text": [
            "tensor([[0.8823, 0.9150, 0.3829, 0.9593],\n",
            "        [0.3904, 0.6009, 0.2566, 0.7936],\n",
            "        [0.9408, 0.1332, 0.9346, 0.5936]])\n",
            "tensor([[0.8823, 0.9150, 0.3829, 0.9593],\n",
            "        [0.3904, 0.6009, 0.2566, 0.7936],\n",
            "        [0.9408, 0.1332, 0.9346, 0.5936]])\n",
            "tensor([[True, True, True, True],\n",
            "        [True, True, True, True],\n",
            "        [True, True, True, True]])\n"
          ]
        }
      ]
    },
    {
      "cell_type": "code",
      "source": [
        "# !! The number creates different-different flavours\n",
        "\n",
        "torch.manual_seed(42)\n",
        "random_tensor_E = torch.rand(3,4)\n",
        "\n",
        "torch.manual_seed(45)\n",
        "random_tensor_F = torch.rand(3,4)\n",
        "\n",
        "print(random_tensor_E)\n",
        "print(random_tensor_F)\n",
        "print(random_tensor_E == random_tensor_F)"
      ],
      "metadata": {
        "colab": {
          "base_uri": "https://localhost:8080/"
        },
        "id": "lqWr514fQSVE",
        "outputId": "bded0eb0-7b4c-4be1-d834-35a7075d2440"
      },
      "execution_count": 165,
      "outputs": [
        {
          "output_type": "stream",
          "name": "stdout",
          "text": [
            "tensor([[0.8823, 0.9150, 0.3829, 0.9593],\n",
            "        [0.3904, 0.6009, 0.2566, 0.7936],\n",
            "        [0.9408, 0.1332, 0.9346, 0.5936]])\n",
            "tensor([[0.1869, 0.9613, 0.6834, 0.8988],\n",
            "        [0.0505, 0.5555, 0.7861, 0.0566],\n",
            "        [0.7842, 0.1480, 0.0388, 0.1037]])\n",
            "tensor([[False, False, False, False],\n",
            "        [False, False, False, False],\n",
            "        [False, False, False, False]])\n"
          ]
        }
      ]
    },
    {
      "cell_type": "markdown",
      "source": [
        "### Running tensors and PyTorch objects on the GPUs (and making faster computations)\n",
        "\n",
        "GPUs = Faster computation on the numbers\n",
        "\n",
        "\n",
        "---\n",
        "\n",
        "1. Easiest: Use Google Colab for a free GPU\n",
        "2. Use your own GPU\n",
        "3. Use cloud computing: GCP, AWS, Azure\n",
        "\n",
        "\n",
        "---\n",
        "For 2 and 3 PyTorch + GPU Drivers (CUDA) takes a little bit of setting up, refer to PyTorch setup documentation :\n",
        "\n",
        "https://pytorch.org/get-started/locally/"
      ],
      "metadata": {
        "id": "2i1m7CaRQdGe"
      }
    },
    {
      "cell_type": "markdown",
      "source": [
        "#### Check for GPU access with PyTorch"
      ],
      "metadata": {
        "id": "DIn9YFzjRIUm"
      }
    },
    {
      "cell_type": "code",
      "source": [
        "!nvidia-smi"
      ],
      "metadata": {
        "colab": {
          "base_uri": "https://localhost:8080/"
        },
        "id": "T35-TsI9exMf",
        "outputId": "5aa76cd1-6af4-40a9-be9e-433b3bb63632"
      },
      "execution_count": 11,
      "outputs": [
        {
          "output_type": "stream",
          "name": "stdout",
          "text": [
            "Fri Nov  8 06:35:09 2024       \n",
            "+---------------------------------------------------------------------------------------+\n",
            "| NVIDIA-SMI 535.104.05             Driver Version: 535.104.05   CUDA Version: 12.2     |\n",
            "|-----------------------------------------+----------------------+----------------------+\n",
            "| GPU  Name                 Persistence-M | Bus-Id        Disp.A | Volatile Uncorr. ECC |\n",
            "| Fan  Temp   Perf          Pwr:Usage/Cap |         Memory-Usage | GPU-Util  Compute M. |\n",
            "|                                         |                      |               MIG M. |\n",
            "|=========================================+======================+======================|\n",
            "|   0  Tesla T4                       Off | 00000000:00:04.0 Off |                    0 |\n",
            "| N/A   60C    P0              29W /  70W |    105MiB / 15360MiB |      0%      Default |\n",
            "|                                         |                      |                  N/A |\n",
            "+-----------------------------------------+----------------------+----------------------+\n",
            "                                                                                         \n",
            "+---------------------------------------------------------------------------------------+\n",
            "| Processes:                                                                            |\n",
            "|  GPU   GI   CI        PID   Type   Process name                            GPU Memory |\n",
            "|        ID   ID                                                             Usage      |\n",
            "|=======================================================================================|\n",
            "+---------------------------------------------------------------------------------------+\n"
          ]
        }
      ]
    },
    {
      "cell_type": "code",
      "source": [
        "import torch\n",
        "torch.cuda.is_available()"
      ],
      "metadata": {
        "colab": {
          "base_uri": "https://localhost:8080/"
        },
        "id": "5aHW67rxcggB",
        "outputId": "7ed344d3-7835-4b95-f16c-240a46a92cc1"
      },
      "execution_count": 1,
      "outputs": [
        {
          "output_type": "execute_result",
          "data": {
            "text/plain": [
              "True"
            ]
          },
          "metadata": {},
          "execution_count": 1
        }
      ]
    },
    {
      "cell_type": "code",
      "source": [
        "# Setup device agnostic code\n",
        "device = \"cuda\" if torch.cuda.is_available() else \"cpu\"\n",
        "device"
      ],
      "metadata": {
        "colab": {
          "base_uri": "https://localhost:8080/",
          "height": 35
        },
        "id": "T0GxkMZUckGc",
        "outputId": "b9e3986d-cbdd-4766-b162-df58bc1137a1"
      },
      "execution_count": 2,
      "outputs": [
        {
          "output_type": "execute_result",
          "data": {
            "text/plain": [
              "'cuda'"
            ],
            "application/vnd.google.colaboratory.intrinsic+json": {
              "type": "string"
            }
          },
          "metadata": {},
          "execution_count": 2
        }
      ]
    },
    {
      "cell_type": "code",
      "source": [
        "# Count number of devices\n",
        "torch.cuda.device_count()"
      ],
      "metadata": {
        "colab": {
          "base_uri": "https://localhost:8080/"
        },
        "id": "TGKLQTrvc2g4",
        "outputId": "153374f6-26a2-424f-e958-407426fa8fed"
      },
      "execution_count": 3,
      "outputs": [
        {
          "output_type": "execute_result",
          "data": {
            "text/plain": [
              "1"
            ]
          },
          "metadata": {},
          "execution_count": 3
        }
      ]
    },
    {
      "cell_type": "code",
      "source": [
        "# Putting tensors(and models) on the GPU\n",
        "\n",
        "# Create a default tensor\n",
        "tensor = torch.tensor([1,2,3])\n",
        "\n",
        "# Tensor not on GPU\n",
        "print(tensor, tensor.device)"
      ],
      "metadata": {
        "colab": {
          "base_uri": "https://localhost:8080/"
        },
        "id": "NmeE5GJBc-zq",
        "outputId": "aeb750b8-303b-4932-eca3-cef720cbbba9"
      },
      "execution_count": 4,
      "outputs": [
        {
          "output_type": "stream",
          "name": "stdout",
          "text": [
            "tensor([1, 2, 3]) cpu\n"
          ]
        }
      ]
    },
    {
      "cell_type": "code",
      "source": [
        "# Move tensor to GPU(if available)\n",
        "tensor_on_GPU = tensor.to(device)\n",
        "tensor_on_GPU"
      ],
      "metadata": {
        "colab": {
          "base_uri": "https://localhost:8080/"
        },
        "id": "uUahGUp9dwoW",
        "outputId": "f7e7f171-59d7-41e5-9a81-91b12881eec7"
      },
      "execution_count": 5,
      "outputs": [
        {
          "output_type": "execute_result",
          "data": {
            "text/plain": [
              "tensor([1, 2, 3], device='cuda:0')"
            ]
          },
          "metadata": {},
          "execution_count": 5
        }
      ]
    },
    {
      "cell_type": "markdown",
      "source": [
        "#### Moving tensors back to the GPU"
      ],
      "metadata": {
        "id": "yc_hCwKnd9eh"
      }
    },
    {
      "cell_type": "code",
      "source": [
        "# If tensors are on GPU, can't transform it to NumPy\n",
        "tensor_on_GPU.numpy()"
      ],
      "metadata": {
        "colab": {
          "base_uri": "https://localhost:8080/",
          "height": 158
        },
        "id": "RNup6dUCeJ1S",
        "outputId": "994bfc60-6a1c-414b-e9be-0992a372ecbb"
      },
      "execution_count": 6,
      "outputs": [
        {
          "output_type": "error",
          "ename": "TypeError",
          "evalue": "can't convert cuda:0 device type tensor to numpy. Use Tensor.cpu() to copy the tensor to host memory first.",
          "traceback": [
            "\u001b[0;31m---------------------------------------------------------------------------\u001b[0m",
            "\u001b[0;31mTypeError\u001b[0m                                 Traceback (most recent call last)",
            "\u001b[0;32m<ipython-input-6-cacc6b221830>\u001b[0m in \u001b[0;36m<cell line: 2>\u001b[0;34m()\u001b[0m\n\u001b[1;32m      1\u001b[0m \u001b[0;31m# If tensors are on GPU, can't transform it to NumPy\u001b[0m\u001b[0;34m\u001b[0m\u001b[0;34m\u001b[0m\u001b[0m\n\u001b[0;32m----> 2\u001b[0;31m \u001b[0mtensor_on_GPU\u001b[0m\u001b[0;34m.\u001b[0m\u001b[0mnumpy\u001b[0m\u001b[0;34m(\u001b[0m\u001b[0;34m)\u001b[0m\u001b[0;34m\u001b[0m\u001b[0;34m\u001b[0m\u001b[0m\n\u001b[0m",
            "\u001b[0;31mTypeError\u001b[0m: can't convert cuda:0 device type tensor to numpy. Use Tensor.cpu() to copy the tensor to host memory first."
          ]
        }
      ]
    },
    {
      "cell_type": "code",
      "source": [
        "tensor_back_on_cpu = tensor_on_GPU.cpu().numpy()\n",
        "tensor_back_on_cpu"
      ],
      "metadata": {
        "colab": {
          "base_uri": "https://localhost:8080/"
        },
        "id": "qs_S_gkheWCm",
        "outputId": "aa6f53d6-c94f-4aa0-8b0b-cacd54f474b4"
      },
      "execution_count": 8,
      "outputs": [
        {
          "output_type": "execute_result",
          "data": {
            "text/plain": [
              "array([1, 2, 3])"
            ]
          },
          "metadata": {},
          "execution_count": 8
        }
      ]
    },
    {
      "cell_type": "code",
      "source": [],
      "metadata": {
        "id": "jny1mg46egs6"
      },
      "execution_count": null,
      "outputs": []
    }
  ]
}