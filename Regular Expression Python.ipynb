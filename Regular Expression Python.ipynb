{
 "cells": [
  {
   "cell_type": "markdown",
   "id": "5b4336a7-f125-4176-8e68-502f1f2a195d",
   "metadata": {},
   "source": [
    "#### re module\n",
    "- `Regex 101` => https://regex101.com/\n",
    "- This module offers a set of function that allows us to search for a match in the string\n",
    "- https://docs.python.org/3/library/re.html"
   ]
  },
  {
   "cell_type": "markdown",
   "id": "5971ad1e-fe0e-4047-9649-d4d5dcd341b8",
   "metadata": {},
   "source": [
    "#### The main methods of 're' module:\n",
    "- findall - returns a list containing all matches\n",
    "- search - returns a match object if there is a match anywhere in the string"
   ]
  },
  {
   "cell_type": "markdown",
   "id": "dd2fafe8-b456-44dd-ab63-6a84bcbd3682",
   "metadata": {},
   "source": [
    " - `[abc]` : a,b or c\n",
    " - `[^abc]` : any character except a,b,c\n",
    " - `[a-z]` : a to z\n",
    " - `[a-z A-Z]` a to z, A to Z\n",
    " - `[0-9]` : 0 to 9\n",
    " - `[ ]?` : occur 0 or 1 time\n",
    " - `[ ]+` : occur 1 or more times\n",
    " - `[ ]*` : occur 0 or more times\n",
    " - `[ ]{n}` : occur n times\n",
    " - `[ ]{n,}` : occur n or more times\n",
    " - `[ ]{y,z}` : occur atleast y times but less than z times"
   ]
  },
  {
   "cell_type": "markdown",
   "id": "13272862-4009-4dc9-91a0-cd65ae4d9f5f",
   "metadata": {},
   "source": [
    "#### Regex Metacharacters\n",
    "- `\\d` : [0-9]\n",
    "- `\\D` : [^0-9]\n",
    "- `\\w` : [a-z A-Z  _  0-9]\n",
    "- `\\W` : [^\\w]\n",
    "- `\\s` : whitespace characters (which includes [ \\t\\n\\r\\f\\v])\n",
    "- `\\b` : match entire words, not just parts of them."
   ]
  },
  {
   "cell_type": "code",
   "execution_count": 3,
   "id": "0a4b1685-3f0f-4e77-a589-4765be0827cf",
   "metadata": {},
   "outputs": [
    {
     "name": "stdout",
     "output_type": "stream",
     "text": [
      "['70', '95']\n",
      "<re.Match object; span=(28, 30), match='70'>\n"
     ]
    }
   ],
   "source": [
    "import re\n",
    "pattern = r\"\\d{2}\"  # Give me all two digit numbers\n",
    "text = 'The score of the player was 70 runs from 95 balls'\n",
    "print(re.findall(pattern,text))\n",
    "print(re.search(pattern,text))"
   ]
  },
  {
   "cell_type": "code",
   "execution_count": 6,
   "id": "aa6de05f-d62f-43de-99e6-d1579892efc7",
   "metadata": {},
   "outputs": [
    {
     "name": "stdout",
     "output_type": "stream",
     "text": [
      "['70', '95', '9', '123', '7']\n"
     ]
    }
   ],
   "source": [
    "pattern = r\"\\d{1,3}\" # Check any digit between 1 and 3\n",
    "text = 'The score of the player was 70 runs from 95 balls in 9 overs 1237'\n",
    "print(re.findall(pattern,text))"
   ]
  },
  {
   "cell_type": "code",
   "execution_count": 7,
   "id": "504dc405-dea2-4ba7-b7b5-5ccca5105147",
   "metadata": {},
   "outputs": [
    {
     "name": "stdout",
     "output_type": "stream",
     "text": [
      "['70', '95', '9', '237']\n"
     ]
    }
   ],
   "source": [
    "pattern = r\"\\d{1,3}\\b\" # Check any digit between 1 and 3; \\b -> boundary \n",
    "text = 'The score of the player was 70 runs from 95 balls in 9 overs 1237'\n",
    "print(re.findall(pattern,text))"
   ]
  },
  {
   "cell_type": "code",
   "execution_count": 108,
   "id": "c77a55a6-9785-4c12-ba15-53be55aaabf9",
   "metadata": {},
   "outputs": [
    {
     "name": "stdout",
     "output_type": "stream",
     "text": [
      "['bat']\n"
     ]
    }
   ],
   "source": [
    "pattern = r\"bat\\b\"  \n",
    "text = 'andubat'\n",
    "print(re.findall(pattern,text))"
   ]
  },
  {
   "cell_type": "code",
   "execution_count": 109,
   "id": "34743f85-8bd7-41cd-b147-a0b6cf982175",
   "metadata": {},
   "outputs": [
    {
     "name": "stdout",
     "output_type": "stream",
     "text": [
      "[]\n"
     ]
    }
   ],
   "source": [
    "pattern = r\"\\bbat\"  \n",
    "text = 'andubat'\n",
    "print(re.findall(pattern,text))"
   ]
  },
  {
   "cell_type": "code",
   "execution_count": 110,
   "id": "1c092ed0-d770-4225-81f3-f5e3d4674b56",
   "metadata": {},
   "outputs": [
    {
     "name": "stdout",
     "output_type": "stream",
     "text": [
      "['bat']\n"
     ]
    }
   ],
   "source": [
    "pattern = r\"\\bbat\"  \n",
    "text = 'batsman'\n",
    "print(re.findall(pattern,text))"
   ]
  },
  {
   "cell_type": "code",
   "execution_count": 8,
   "id": "d4cda34a-0a8d-4db7-b3d8-d4666b1e25d0",
   "metadata": {},
   "outputs": [
    {
     "name": "stdout",
     "output_type": "stream",
     "text": [
      "['70', '95', '9']\n"
     ]
    }
   ],
   "source": [
    "pattern = r\"\\b\\d{1,3}\\b\" # Check any digit between 1 and 3; \\b -> boundary \n",
    "text = 'The score of the player was 70 runs from 95 balls in 9 overs 1237'\n",
    "print(re.findall(pattern,text))"
   ]
  },
  {
   "cell_type": "code",
   "execution_count": 9,
   "id": "8bdb1113-18e8-4ad2-ab41-79d815d375b8",
   "metadata": {},
   "outputs": [
    {
     "name": "stdout",
     "output_type": "stream",
     "text": [
      "[' ', ' ', ' ', ' ', ' ', ' ', ' ', ' ', ' ', ' ', ' ', ' ', ' ', ' ']\n"
     ]
    }
   ],
   "source": [
    "pattern = r\"\\s\" # Checking whitespaces \n",
    "text = 'The score of the player was 70 runs from 95 balls in 9 overs 1237'\n",
    "print(re.findall(pattern,text))"
   ]
  },
  {
   "cell_type": "code",
   "execution_count": 10,
   "id": "1e47765a-d12d-494a-8dba-aade6340ac63",
   "metadata": {},
   "outputs": [
    {
     "name": "stdout",
     "output_type": "stream",
     "text": [
      "['T', 'h', 'e', 's', 'c', 'o', 'r', 'e', 'o', 'f', 't', 'h', 'e', 'p', 'l', 'a', 'y', 'e', 'r', 'w', 'a', 's', '7', '0', 'r', 'u', 'n', 's', 'f', 'r', 'o', 'm', '9', '5', 'b', 'a', 'l', 'l', 's', 'i', 'n', '9', 'o', 'v', 'e', 'r', 's', '1', '2', '3', '7']\n"
     ]
    }
   ],
   "source": [
    "pattern = r\"\\S\" # Everything apart from whitespaces \n",
    "text = 'The score of the player was 70 runs from 95 balls in 9 overs 1237'\n",
    "print(re.findall(pattern,text))"
   ]
  },
  {
   "cell_type": "code",
   "execution_count": 12,
   "id": "269b13d3-116e-4854-a867-c15dd9aa878c",
   "metadata": {},
   "outputs": [
    {
     "name": "stdout",
     "output_type": "stream",
     "text": [
      "['T', 'h', 'e', ' ', 's', 'c', 'o', 'r', 'e', ' ', 'o', 'f', ' ', 't', 'h', 'e', ' ', 'p', 'l', 'a', 'y', 'e', 'r', ' ', 'w', 'a', 's', ' ', '7', '0', ' ', 'r', 'u', 'n', 's', ' ', 'f', 'r', 'o', 'm', ' ', '9', '5', ' ', 'b', 'a', 'l', 'l', 's', ' ', 'i', 'n', ' ', '9', ' ', 'o', 'v', 'e', 'r', 's', ' ', '1', '2', '3', '7']\n"
     ]
    }
   ],
   "source": [
    "pattern = r\".\" # Checking any character including whitespaces\n",
    "text = 'The score of the player was 70 runs from 95 balls in 9 overs 1237'\n",
    "print(re.findall(pattern,text))"
   ]
  },
  {
   "cell_type": "code",
   "execution_count": 13,
   "id": "c568d2e8-2cc3-4569-bd90-4d79d89d6a7d",
   "metadata": {},
   "outputs": [
    {
     "name": "stdout",
     "output_type": "stream",
     "text": [
      "['T', 'h', 'e', 's', 'c', 'o', 'r', 'e', 'o', 'f', 't', 'h', 'e', 'p', 'l', 'a', 'y', 'e', 'r', 'w', 'a', 's', '7', '0', 'r', 'u', 'n', 's', 'f', 'r', 'o', 'm', '9', '5', 'b', 'a', 'l', 'l', 's', 'i', 'n', '9', 'o', 'v', 'e', 'r', 's', '1', '2', '3', '7']\n"
     ]
    }
   ],
   "source": [
    "pattern = r\"\\w\" # Checking any character\n",
    "text = 'The score of the player was 70 runs from 95 balls in 9 overs 1237'\n",
    "print(re.findall(pattern,text))"
   ]
  },
  {
   "cell_type": "code",
   "execution_count": 17,
   "id": "0e92f314-4736-4a0f-aad4-5db37666a49c",
   "metadata": {},
   "outputs": [
    {
     "name": "stdout",
     "output_type": "stream",
     "text": [
      "[' ', ' ', ' ', ' ', ' ', ' ', ' ', ' ', '-', ' ', ' ', ' ', ' ', ' ', ' ', ':', ' ', ' ']\n"
     ]
    }
   ],
   "source": [
    "pattern = r\"\\W\" # Everything apart from character\n",
    "text = 'The score of the player was 70 runs - from 95 balls in 9 : overs 1237'\n",
    "print(re.findall(pattern,text))"
   ]
  },
  {
   "cell_type": "code",
   "execution_count": 18,
   "id": "332d5061-fddc-4c32-94fe-9faee36c53ac",
   "metadata": {},
   "outputs": [
    {
     "name": "stdout",
     "output_type": "stream",
     "text": [
      "['c', 'a', 'a', 'b', 'a']\n"
     ]
    }
   ],
   "source": [
    "pattern = r\"[a-c]\" # All the alphabets between a and c\n",
    "text = 'The score of the player was 70 runs from 95 balls in 9 overs 1237'\n",
    "print(re.findall(pattern,text))"
   ]
  },
  {
   "cell_type": "code",
   "execution_count": 20,
   "id": "8d873a8d-2a57-47ed-8760-3a39c7a0555c",
   "metadata": {},
   "outputs": [
    {
     "name": "stdout",
     "output_type": "stream",
     "text": [
      "['h', 'e', 's', 'c', 'o', 'r', 'e', 'o', 'f', 't', 'h', 'e', 'p', 'l', 'a', 'y', 'e', 'r', 'w', 'a', 's', 'r', 'u', 'n', 's', 'f', 'r', 'o', 'm', 'b', 'a', 'l', 'l', 's', 'i', 'n', 'o', 'v', 'e', 'r', 's']\n"
     ]
    }
   ],
   "source": [
    "pattern = r\"[a-z]\" # All the alphabets between a and z\n",
    "text = 'The score of the player was 70 runs from 95 balls in 9 overs 1237'\n",
    "print(re.findall(pattern,text))"
   ]
  },
  {
   "cell_type": "code",
   "execution_count": 22,
   "id": "a6fb25a3-9d0d-48f7-b788-51715c45737c",
   "metadata": {},
   "outputs": [
    {
     "name": "stdout",
     "output_type": "stream",
     "text": [
      "['0', '5', '1', '2', '3']\n"
     ]
    }
   ],
   "source": [
    "pattern = r\"[0-5]\" # All the numbers between 0 and 5\n",
    "text = 'The score of the player was 70 runs from 95 balls in 9 overs 1237'\n",
    "print(re.findall(pattern,text))"
   ]
  },
  {
   "cell_type": "code",
   "execution_count": 28,
   "id": "6f301ac9-88ed-433b-a7ba-fa93c3ceea66",
   "metadata": {},
   "outputs": [
    {
     "name": "stdout",
     "output_type": "stream",
     "text": [
      "['h', 'e', 'c', 'e', 'f', 'h', 'e', 'a', 'e', 'a', '7', '0', 'f', '5', 'b', 'a', 'i', 'e', 'a', 'c', '1', '2', '3', '7']\n"
     ]
    }
   ],
   "source": [
    "pattern = r\"[a-k]|[0-7]\"\n",
    "text = 'The score of the player was 70 runs from 95 balls in 9 overs ac1237'\n",
    "print(re.findall(pattern,text))"
   ]
  },
  {
   "cell_type": "code",
   "execution_count": 34,
   "id": "129eba95-ce72-4dfd-99ea-83f125096d3e",
   "metadata": {},
   "outputs": [
    {
     "name": "stdout",
     "output_type": "stream",
     "text": [
      "['c5']\n"
     ]
    }
   ],
   "source": [
    "pattern = r\"[a-k][0-7]\" # Some character and a number\n",
    "text = 'The score of the player was 70 runs from 95 balls in 9 overs 1cr19 c56'\n",
    "print(re.findall(pattern,text))"
   ]
  },
  {
   "cell_type": "code",
   "execution_count": 37,
   "id": "07ada31f-08c7-444d-8181-bae20c616177",
   "metadata": {},
   "outputs": [
    {
     "name": "stdout",
     "output_type": "stream",
     "text": [
      "['A', 'K', 'I']\n"
     ]
    }
   ],
   "source": [
    "pattern = r\"[A-K]\"\n",
    "text = 'The score of the player was ANKIT 70 runs from 95 balls in 9 overs 1cr19 c56'\n",
    "print(re.findall(pattern,text))"
   ]
  },
  {
   "cell_type": "code",
   "execution_count": 41,
   "id": "22a41274-ec13-4456-b01f-5d9ebfcb5d45",
   "metadata": {},
   "outputs": [
    {
     "data": {
      "text/plain": [
       "['play']"
      ]
     },
     "execution_count": 41,
     "metadata": {},
     "output_type": "execute_result"
    }
   ],
   "source": [
    "pattern = r\"play\" # Check a word\n",
    "text = \"The score of the player is not what we expected. He scored only 156 runs\"\n",
    "re.findall(pattern,text)"
   ]
  },
  {
   "cell_type": "code",
   "execution_count": 43,
   "id": "09e1d153-200f-4a54-b08a-bbf82631b6a1",
   "metadata": {},
   "outputs": [
    {
     "data": {
      "text/plain": [
       "[]"
      ]
     },
     "execution_count": 43,
     "metadata": {},
     "output_type": "execute_result"
    }
   ],
   "source": [
    "pattern = r\"\\bplay\\b\" # Check a word\n",
    "text = \"The score of the player is not what we expected. He scored only 156 runs\"\n",
    "re.findall(pattern,text)"
   ]
  },
  {
   "cell_type": "code",
   "execution_count": 45,
   "id": "62dd2cb7-e190-4cee-86f7-56832c7d2768",
   "metadata": {},
   "outputs": [
    {
     "data": {
      "text/plain": [
       "['play', 'play']"
      ]
     },
     "execution_count": 45,
     "metadata": {},
     "output_type": "execute_result"
    }
   ],
   "source": [
    "pattern = r\"\\bplay\\b\" # Check a word\n",
    "text = \"The score of the player is not what we expected. He scored only 156 runs. Let's play play\"\n",
    "re.findall(pattern,text)"
   ]
  },
  {
   "cell_type": "code",
   "execution_count": 49,
   "id": "6ee80923-f3b1-4ce2-9835-37aa12694299",
   "metadata": {},
   "outputs": [
    {
     "data": {
      "text/plain": [
       "['play', 'play']"
      ]
     },
     "execution_count": 49,
     "metadata": {},
     "output_type": "execute_result"
    }
   ],
   "source": [
    "pattern = r\"play\\b\" # anything end with play\n",
    "text = \"The score of the player is not what we expected. He scored only 156 runs. Let's play apkaplay\"\n",
    "re.findall(pattern,text)"
   ]
  },
  {
   "cell_type": "code",
   "execution_count": 52,
   "id": "fae06fb7-784a-4830-9946-1b5a11a91015",
   "metadata": {},
   "outputs": [
    {
     "data": {
      "text/plain": [
       "['play', 'play']"
      ]
     },
     "execution_count": 52,
     "metadata": {},
     "output_type": "execute_result"
    }
   ],
   "source": [
    "pattern = r\"\\bplay\" # anything starting with play \n",
    "text = \"The score of the player is not what we expected. He scored only 156 runs. Let's play apkaplay\"\n",
    "re.findall(pattern,text) # One from player and one from play "
   ]
  },
  {
   "cell_type": "code",
   "execution_count": 60,
   "id": "63752135-2c3b-4f01-87f0-da1227e41550",
   "metadata": {},
   "outputs": [
    {
     "name": "stdout",
     "output_type": "stream",
     "text": [
      "[]\n"
     ]
    }
   ],
   "source": [
    "# Start and end of the string\n",
    "pattern = r\"^score\" # If this is at the beginning \n",
    "text = \"The score of the player is not what we expected. He scored only 156 runs. Let's play apkaplay\"\n",
    "print(re.findall(pattern,text))"
   ]
  },
  {
   "cell_type": "code",
   "execution_count": 64,
   "id": "8b74312f-2cb6-43d9-a762-a884c5c7254b",
   "metadata": {},
   "outputs": [
    {
     "name": "stdout",
     "output_type": "stream",
     "text": [
      "['Score']\n"
     ]
    }
   ],
   "source": [
    "# Start and end of the string\n",
    "pattern = r\"^Score\" # If this is at the beginning \n",
    "text = \"Score of the player is not what we expected. He scored only 156 runs. let's play apkaplay\"\n",
    "print(re.findall(pattern,text))"
   ]
  },
  {
   "cell_type": "code",
   "execution_count": 68,
   "id": "ab439cdf-f47c-4ca7-a377-b128cd1b9114",
   "metadata": {},
   "outputs": [
    {
     "name": "stdout",
     "output_type": "stream",
     "text": [
      "['runs']\n"
     ]
    }
   ],
   "source": [
    "# Start and end of the string\n",
    "pattern = r\"runs$\" # If this is at the end \n",
    "text = \"Score of the player is not what we expected. He scored only 156 runs\"\n",
    "print(re.findall(pattern,text))"
   ]
  },
  {
   "cell_type": "code",
   "execution_count": 79,
   "id": "076fb3fd-03a4-480d-b115-092941e18760",
   "metadata": {},
   "outputs": [
    {
     "name": "stdout",
     "output_type": "stream",
     "text": [
      "['the', 'the', 'the']\n"
     ]
    }
   ],
   "source": [
    "pattern = r\"the*\" # ZERO or more occurances of \"e\" followed by \"th\"\n",
    "text = \"Score of the player is not what themes we expected. their scored only 156 runs\"\n",
    "print(re.findall(pattern,text)) # the, themes, their"
   ]
  },
  {
   "cell_type": "markdown",
   "id": "2befd978-43a7-4bd9-8263-80e3512c8e97",
   "metadata": {},
   "source": [
    "#### re.IGNORECASE"
   ]
  },
  {
   "cell_type": "code",
   "execution_count": 80,
   "id": "d70384c1-7720-4264-957a-4c4e46d30647",
   "metadata": {},
   "outputs": [
    {
     "name": "stdout",
     "output_type": "stream",
     "text": [
      "['the', 'The']\n"
     ]
    }
   ],
   "source": [
    "pattern = r\"the+\" # ONE or more occurances of \"e\" followed by \"th\"\n",
    "text = \"Score of the player is not what th we expected. Their scored only 156 runs\"\n",
    "print(re.findall(pattern,text,re.IGNORECASE)) # the, their. \"th\" will not come"
   ]
  },
  {
   "cell_type": "code",
   "execution_count": 88,
   "id": "d0c93c59-9ab6-4d5e-a2b0-91915b246195",
   "metadata": {},
   "outputs": [
    {
     "name": "stdout",
     "output_type": "stream",
     "text": [
      "['the', 'th']\n"
     ]
    }
   ],
   "source": [
    "pattern = r\"the?\\b\" # 0 or 1 'e' followed by 'th'\n",
    "text = \"Score of the thee player is not what th we expected. Their scored only 156 runs\"\n",
    "print(re.findall(pattern,text,re.IGNORECASE))"
   ]
  },
  {
   "cell_type": "code",
   "execution_count": 91,
   "id": "e998bdb0-3a20-4e06-8116-4b657e86c52f",
   "metadata": {},
   "outputs": [
    {
     "name": "stdout",
     "output_type": "stream",
     "text": [
      "['thee']\n"
     ]
    }
   ],
   "source": [
    "pattern = r\"the{2}\" #'th' followed by exactly 2 'e'\n",
    "text = \"Score of the thee player is not what th we expected. Their scored only 156 runs\"\n",
    "print(re.findall(pattern,text,re.IGNORECASE))"
   ]
  },
  {
   "cell_type": "code",
   "execution_count": 94,
   "id": "69286c62-0231-4785-a093-98b64ecf8f2a",
   "metadata": {},
   "outputs": [
    {
     "name": "stdout",
     "output_type": "stream",
     "text": [
      "['the', 'the', 'was', 'The']\n"
     ]
    }
   ],
   "source": [
    "pattern = r\"the|was\" # the or was \n",
    "text = \"Score of the thee player was not what th we expected. Their scored only 156 runs\"\n",
    "print(re.findall(pattern,text,re.IGNORECASE))"
   ]
  },
  {
   "cell_type": "markdown",
   "id": "e520b0ff-7858-4088-94a2-313c3d11f158",
   "metadata": {},
   "source": [
    "#### Question"
   ]
  },
  {
   "cell_type": "code",
   "execution_count": 134,
   "id": "35e8603a-204b-44fd-a3e1-970167866b88",
   "metadata": {},
   "outputs": [],
   "source": [
    "# Mobile number -> starts with 8 or 9 and total digits = 10\n",
    "pattern = r\"[89][0-9]{9}\"\n",
    "text = [\"5807654367\",'9034879067','8790675432']\n",
    "final = []\n",
    "for i in text:\n",
    "    final.extend(re.findall(pattern,i))"
   ]
  },
  {
   "cell_type": "code",
   "execution_count": 135,
   "id": "9a7804a1-612e-4ad8-ad1b-ee815d9cc7a9",
   "metadata": {},
   "outputs": [
    {
     "data": {
      "text/plain": [
       "['9034879067', '8790675432']"
      ]
     },
     "execution_count": 135,
     "metadata": {},
     "output_type": "execute_result"
    }
   ],
   "source": [
    "final"
   ]
  },
  {
   "cell_type": "code",
   "execution_count": 143,
   "id": "63861f0e-3a9b-4bd3-8f7f-a8c0321b67a0",
   "metadata": {},
   "outputs": [],
   "source": [
    "# Email Id\n",
    "pattern = r\"[a-z A-Z _ 0-9 \\.]+[@]{1}+[a-z]+[\\.]+[a-z]{2,3}\"\n",
    "find_in = [\"boppanaa.99saur@gmail.com\",\"hagui.semis@@gg.in\",'kingu_singh@piplu.us']\n",
    "result = []\n",
    "for i in find_in:\n",
    "    result.extend(re.findall(pattern,i))"
   ]
  },
  {
   "cell_type": "code",
   "execution_count": 144,
   "id": "3da2c1a3-8b7f-4316-ae51-f7af30c3136c",
   "metadata": {},
   "outputs": [
    {
     "data": {
      "text/plain": [
       "['boppanaa.99saur@gmail.com', 'kingu_singh@piplu.us']"
      ]
     },
     "execution_count": 144,
     "metadata": {},
     "output_type": "execute_result"
    }
   ],
   "source": [
    "result"
   ]
  },
  {
   "cell_type": "code",
   "execution_count": null,
   "id": "381192e8-7bcc-406e-b639-b6ab32e4338c",
   "metadata": {},
   "outputs": [],
   "source": []
  }
 ],
 "metadata": {
  "kernelspec": {
   "display_name": "Python 3 (ipykernel)",
   "language": "python",
   "name": "python3"
  },
  "language_info": {
   "codemirror_mode": {
    "name": "ipython",
    "version": 3
   },
   "file_extension": ".py",
   "mimetype": "text/x-python",
   "name": "python",
   "nbconvert_exporter": "python",
   "pygments_lexer": "ipython3",
   "version": "3.12.2"
  }
 },
 "nbformat": 4,
 "nbformat_minor": 5
}
