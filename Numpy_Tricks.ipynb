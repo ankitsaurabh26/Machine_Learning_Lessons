{
 "cells": [
  {
   "cell_type": "markdown",
   "id": "ef9a127f-5a6b-4094-83ec-db575bbd1551",
   "metadata": {},
   "source": [
    "### Numpy Tricks"
   ]
  },
  {
   "cell_type": "markdown",
   "id": "bfda4b4c-c3a5-472b-a809-19200ea09afc",
   "metadata": {},
   "source": [
    "##### np.sort() - Return a sorted copy of an array"
   ]
  },
  {
   "cell_type": "code",
   "execution_count": 1,
   "id": "0c56c1f1-3403-4e3a-a9fd-510e87925060",
   "metadata": {},
   "outputs": [
    {
     "data": {
      "text/plain": [
       "array([ 6, 76,  8, 24, 97, 94, 44, 73, 88, 57, 75,  5, 14, 86, 88])"
      ]
     },
     "execution_count": 1,
     "metadata": {},
     "output_type": "execute_result"
    }
   ],
   "source": [
    "import numpy as np\n",
    "a = np.random.randint(1,100,15)\n",
    "a"
   ]
  },
  {
   "cell_type": "code",
   "execution_count": 2,
   "id": "8ab1173c-e9c9-4168-a2ba-fc502a6935b6",
   "metadata": {},
   "outputs": [
    {
     "data": {
      "text/plain": [
       "array([[16, 19, 30, 54],\n",
       "       [56, 11, 90, 79],\n",
       "       [39, 73, 89, 29],\n",
       "       [34,  3, 33, 57],\n",
       "       [85, 65, 12, 37],\n",
       "       [34, 19,  8, 57]])"
      ]
     },
     "execution_count": 2,
     "metadata": {},
     "output_type": "execute_result"
    }
   ],
   "source": [
    "b = np.random.randint(1,100,24).reshape(6,4)\n",
    "b"
   ]
  },
  {
   "cell_type": "code",
   "execution_count": 3,
   "id": "d4b9b4dc-a960-4908-9cd5-c2f6050cc219",
   "metadata": {},
   "outputs": [
    {
     "data": {
      "text/plain": [
       "array([ 5,  6,  8, 14, 24, 44, 57, 73, 75, 76, 86, 88, 88, 94, 97])"
      ]
     },
     "execution_count": 3,
     "metadata": {},
     "output_type": "execute_result"
    }
   ],
   "source": [
    "np.sort(a)"
   ]
  },
  {
   "cell_type": "code",
   "execution_count": 6,
   "id": "2fc51ce0-126e-40e7-98da-cd4e7d4bf1d7",
   "metadata": {},
   "outputs": [
    {
     "data": {
      "text/plain": [
       "array([97, 94, 88, 88, 86, 76, 75, 73, 57, 44, 24, 14,  8,  6,  5])"
      ]
     },
     "execution_count": 6,
     "metadata": {},
     "output_type": "execute_result"
    }
   ],
   "source": [
    "np.sort(a)[::-1]"
   ]
  },
  {
   "cell_type": "code",
   "execution_count": 4,
   "id": "d0dbc6a3-8644-4b84-96a7-24a566e1e9c0",
   "metadata": {},
   "outputs": [
    {
     "data": {
      "text/plain": [
       "array([[16, 19, 30, 54],\n",
       "       [11, 56, 79, 90],\n",
       "       [29, 39, 73, 89],\n",
       "       [ 3, 33, 34, 57],\n",
       "       [12, 37, 65, 85],\n",
       "       [ 8, 19, 34, 57]])"
      ]
     },
     "execution_count": 4,
     "metadata": {},
     "output_type": "execute_result"
    }
   ],
   "source": [
    "np.sort(b)"
   ]
  },
  {
   "cell_type": "code",
   "execution_count": 5,
   "id": "09007833-609c-40b1-9a03-66fdc9e6a41e",
   "metadata": {},
   "outputs": [
    {
     "data": {
      "text/plain": [
       "array([[16,  3,  8, 29],\n",
       "       [34, 11, 12, 37],\n",
       "       [34, 19, 30, 54],\n",
       "       [39, 19, 33, 57],\n",
       "       [56, 65, 89, 57],\n",
       "       [85, 73, 90, 79]])"
      ]
     },
     "execution_count": 5,
     "metadata": {},
     "output_type": "execute_result"
    }
   ],
   "source": [
    "np.sort(b,axis=0)"
   ]
  },
  {
   "cell_type": "markdown",
   "id": "5c40e0e2-abe2-4dc6-92b5-a7188ba763b1",
   "metadata": {},
   "source": [
    "##### np.append()"
   ]
  },
  {
   "cell_type": "code",
   "execution_count": 7,
   "id": "1ab6de56-3a41-410b-a18d-6bcc74bea72c",
   "metadata": {},
   "outputs": [
    {
     "data": {
      "text/plain": [
       "array([  6,  76,   8,  24,  97,  94,  44,  73,  88,  57,  75,   5,  14,\n",
       "        86,  88, 233])"
      ]
     },
     "execution_count": 7,
     "metadata": {},
     "output_type": "execute_result"
    }
   ],
   "source": [
    "np.append(a,233)"
   ]
  },
  {
   "cell_type": "code",
   "execution_count": 8,
   "id": "51a85c52-f861-4ef2-91f7-3de88d1e887d",
   "metadata": {},
   "outputs": [
    {
     "data": {
      "text/plain": [
       "array([[16, 19, 30, 54],\n",
       "       [56, 11, 90, 79],\n",
       "       [39, 73, 89, 29],\n",
       "       [34,  3, 33, 57],\n",
       "       [85, 65, 12, 37],\n",
       "       [34, 19,  8, 57]])"
      ]
     },
     "execution_count": 8,
     "metadata": {},
     "output_type": "execute_result"
    }
   ],
   "source": [
    "b"
   ]
  },
  {
   "cell_type": "code",
   "execution_count": 11,
   "id": "89f5e809-7b60-4483-8aa2-da7868b89099",
   "metadata": {},
   "outputs": [
    {
     "data": {
      "text/plain": [
       "array([[16., 19., 30., 54.,  1.],\n",
       "       [56., 11., 90., 79.,  1.],\n",
       "       [39., 73., 89., 29.,  1.],\n",
       "       [34.,  3., 33., 57.,  1.],\n",
       "       [85., 65., 12., 37.,  1.],\n",
       "       [34., 19.,  8., 57.,  1.]])"
      ]
     },
     "execution_count": 11,
     "metadata": {},
     "output_type": "execute_result"
    }
   ],
   "source": [
    "np.append(b,np.ones((b.shape[0],1)),axis=1)"
   ]
  },
  {
   "cell_type": "markdown",
   "id": "2223855a-cacb-4074-8201-a9ea0ab2212e",
   "metadata": {},
   "source": [
    "##### np.concatenate()"
   ]
  },
  {
   "cell_type": "code",
   "execution_count": 12,
   "id": "b641d9b2-c80e-4bee-ad95-7b322df154ae",
   "metadata": {},
   "outputs": [],
   "source": [
    "c = np.arange(6).reshape(2,3)\n",
    "d = np.arange(6,12).reshape(2,3)"
   ]
  },
  {
   "cell_type": "code",
   "execution_count": 13,
   "id": "aae81ba5-ae37-4667-8ad6-304ad8d3b32a",
   "metadata": {},
   "outputs": [
    {
     "data": {
      "text/plain": [
       "array([[ 0,  1,  2],\n",
       "       [ 3,  4,  5],\n",
       "       [ 6,  7,  8],\n",
       "       [ 9, 10, 11]])"
      ]
     },
     "execution_count": 13,
     "metadata": {},
     "output_type": "execute_result"
    }
   ],
   "source": [
    "np.concatenate((c,d))"
   ]
  },
  {
   "cell_type": "code",
   "execution_count": 15,
   "id": "3a454775-59ab-4090-ae4a-e914a7a84b05",
   "metadata": {},
   "outputs": [
    {
     "data": {
      "text/plain": [
       "array([[ 0,  1,  2,  6,  7,  8],\n",
       "       [ 3,  4,  5,  9, 10, 11]])"
      ]
     },
     "execution_count": 15,
     "metadata": {},
     "output_type": "execute_result"
    }
   ],
   "source": [
    "np.concatenate((c,d),axis=1)"
   ]
  },
  {
   "cell_type": "markdown",
   "id": "05a012f8-2155-45c9-a95d-cc7cc8c3e700",
   "metadata": {},
   "source": [
    "##### np.unique()"
   ]
  },
  {
   "cell_type": "code",
   "execution_count": 16,
   "id": "cb266ac9-64ed-4749-8165-819c864c9505",
   "metadata": {},
   "outputs": [
    {
     "data": {
      "text/plain": [
       "array([1, 2, 3, 4, 5, 6, 7])"
      ]
     },
     "execution_count": 16,
     "metadata": {},
     "output_type": "execute_result"
    }
   ],
   "source": [
    "e = np.array([1,1,1,1,1,2,3,4,5,5,5,6,7,7,7])\n",
    "np.unique(e)"
   ]
  },
  {
   "cell_type": "markdown",
   "id": "72a7cc59-327c-46ad-a007-39bfc966c1af",
   "metadata": {},
   "source": [
    "##### np.expand_dims"
   ]
  },
  {
   "cell_type": "code",
   "execution_count": 17,
   "id": "273eecba-3828-442c-94c6-8d11e77ca2f9",
   "metadata": {},
   "outputs": [
    {
     "data": {
      "text/plain": [
       "array([ 6, 76,  8, 24, 97, 94, 44, 73, 88, 57, 75,  5, 14, 86, 88])"
      ]
     },
     "execution_count": 17,
     "metadata": {},
     "output_type": "execute_result"
    }
   ],
   "source": [
    "a"
   ]
  },
  {
   "cell_type": "code",
   "execution_count": 19,
   "id": "46980895-e971-4b8b-9f26-1ac2f0958b81",
   "metadata": {},
   "outputs": [
    {
     "data": {
      "text/plain": [
       "array([[ 6, 76,  8, 24, 97, 94, 44, 73, 88, 57, 75,  5, 14, 86, 88]])"
      ]
     },
     "execution_count": 19,
     "metadata": {},
     "output_type": "execute_result"
    }
   ],
   "source": [
    "np.expand_dims(a,axis=0)"
   ]
  },
  {
   "cell_type": "code",
   "execution_count": 22,
   "id": "a8d38f39-ef99-44ed-a5c5-f699d4ac7758",
   "metadata": {},
   "outputs": [
    {
     "data": {
      "text/plain": [
       "array([[ 6],\n",
       "       [76],\n",
       "       [ 8],\n",
       "       [24],\n",
       "       [97],\n",
       "       [94],\n",
       "       [44],\n",
       "       [73],\n",
       "       [88],\n",
       "       [57],\n",
       "       [75],\n",
       "       [ 5],\n",
       "       [14],\n",
       "       [86],\n",
       "       [88]])"
      ]
     },
     "execution_count": 22,
     "metadata": {},
     "output_type": "execute_result"
    }
   ],
   "source": [
    "np.expand_dims(a,axis=1)"
   ]
  },
  {
   "cell_type": "code",
   "execution_count": 21,
   "id": "4d56f24a-04b1-4762-b1c5-fe94d47795a5",
   "metadata": {},
   "outputs": [
    {
     "data": {
      "text/plain": [
       "(15, 1)"
      ]
     },
     "execution_count": 21,
     "metadata": {},
     "output_type": "execute_result"
    }
   ],
   "source": [
    "np.expand_dims(a,axis=1).shape"
   ]
  },
  {
   "cell_type": "markdown",
   "id": "124b3462-1385-47df-b5e5-85a6f054732e",
   "metadata": {},
   "source": [
    "##### np.where()"
   ]
  },
  {
   "cell_type": "code",
   "execution_count": 23,
   "id": "6edbf77b-6df4-4031-b5c9-9a647fcc2ff0",
   "metadata": {},
   "outputs": [
    {
     "data": {
      "text/plain": [
       "array([ 6, 76,  8, 24, 97, 94, 44, 73, 88, 57, 75,  5, 14, 86, 88])"
      ]
     },
     "execution_count": 23,
     "metadata": {},
     "output_type": "execute_result"
    }
   ],
   "source": [
    "a"
   ]
  },
  {
   "cell_type": "code",
   "execution_count": 24,
   "id": "14e36dea-2749-4267-9905-f99f55a4d8fa",
   "metadata": {},
   "outputs": [
    {
     "data": {
      "text/plain": [
       "(array([ 1,  4,  5,  7,  8,  9, 10, 13, 14], dtype=int64),)"
      ]
     },
     "execution_count": 24,
     "metadata": {},
     "output_type": "execute_result"
    }
   ],
   "source": [
    "# find all indices with value greater than 50\n",
    "np.where(a>50)"
   ]
  },
  {
   "cell_type": "code",
   "execution_count": 26,
   "id": "15dad5bb-1573-4177-93e8-f84695c627d3",
   "metadata": {},
   "outputs": [
    {
     "data": {
      "text/plain": [
       "array([ 6,  0,  8, 24,  0,  0, 44,  0,  0,  0,  0,  5, 14,  0,  0])"
      ]
     },
     "execution_count": 26,
     "metadata": {},
     "output_type": "execute_result"
    }
   ],
   "source": [
    "# Replace all values >50 with 0\n",
    "#np.where(condition,true hoga to kya karna hai, false hoga to kya karna hai)\n",
    "np.where(a>50,0,a)"
   ]
  },
  {
   "cell_type": "code",
   "execution_count": 29,
   "id": "fc195ba9-126b-4f4f-aeb6-82eef2a326d9",
   "metadata": {},
   "outputs": [
    {
     "data": {
      "text/plain": [
       "array([ 0,  0,  0,  0, 97,  0,  0, 73,  0, 57, 75,  5,  0,  0,  0])"
      ]
     },
     "execution_count": 29,
     "metadata": {},
     "output_type": "execute_result"
    }
   ],
   "source": [
    "np.where(a%2==0,0,a)"
   ]
  },
  {
   "cell_type": "markdown",
   "id": "63bf26d5-f347-41c0-b49b-2c0741a5b14d",
   "metadata": {},
   "source": [
    "##### np.argmax -> returns indices of the max element of the array in a particular axis"
   ]
  },
  {
   "cell_type": "code",
   "execution_count": 30,
   "id": "47277d59-2731-4480-bde1-08448c26227c",
   "metadata": {},
   "outputs": [
    {
     "data": {
      "text/plain": [
       "array([[16, 19, 30, 54],\n",
       "       [56, 11, 90, 79],\n",
       "       [39, 73, 89, 29],\n",
       "       [34,  3, 33, 57],\n",
       "       [85, 65, 12, 37],\n",
       "       [34, 19,  8, 57]])"
      ]
     },
     "execution_count": 30,
     "metadata": {},
     "output_type": "execute_result"
    }
   ],
   "source": [
    "b"
   ]
  },
  {
   "cell_type": "code",
   "execution_count": 32,
   "id": "68364414-a109-4a7c-8f58-e201fe27a7cd",
   "metadata": {},
   "outputs": [
    {
     "data": {
      "text/plain": [
       "array([4, 2, 1, 1], dtype=int64)"
      ]
     },
     "execution_count": 32,
     "metadata": {},
     "output_type": "execute_result"
    }
   ],
   "source": [
    "np.argmax(b,axis=0)"
   ]
  },
  {
   "cell_type": "code",
   "execution_count": 33,
   "id": "b34c3df7-f89e-40e6-a7e7-720107586595",
   "metadata": {},
   "outputs": [
    {
     "data": {
      "text/plain": [
       "array([3, 2, 2, 3, 0, 3], dtype=int64)"
      ]
     },
     "execution_count": 33,
     "metadata": {},
     "output_type": "execute_result"
    }
   ],
   "source": [
    "np.argmax(b,axis=1)"
   ]
  },
  {
   "cell_type": "markdown",
   "id": "92b2351b-e7d8-49d7-9715-d9b038990c7f",
   "metadata": {},
   "source": [
    "##### np.argmin"
   ]
  },
  {
   "cell_type": "code",
   "execution_count": 34,
   "id": "d44d3e0a-48a4-4e47-81e6-abc2b03a5335",
   "metadata": {},
   "outputs": [
    {
     "data": {
      "text/plain": [
       "array([ 6, 76,  8, 24, 97, 94, 44, 73, 88, 57, 75,  5, 14, 86, 88])"
      ]
     },
     "execution_count": 34,
     "metadata": {},
     "output_type": "execute_result"
    }
   ],
   "source": [
    "a"
   ]
  },
  {
   "cell_type": "code",
   "execution_count": 35,
   "id": "4c1e0853-13cb-41d8-8d4f-8eeaad56dcd7",
   "metadata": {},
   "outputs": [
    {
     "data": {
      "text/plain": [
       "11"
      ]
     },
     "execution_count": 35,
     "metadata": {},
     "output_type": "execute_result"
    }
   ],
   "source": [
    "np.argmin(a)"
   ]
  },
  {
   "cell_type": "code",
   "execution_count": 36,
   "id": "78758b86-8867-4afb-ad51-d2b386244f10",
   "metadata": {},
   "outputs": [
    {
     "data": {
      "text/plain": [
       "array([0, 1, 3, 1, 2, 2], dtype=int64)"
      ]
     },
     "execution_count": 36,
     "metadata": {},
     "output_type": "execute_result"
    }
   ],
   "source": [
    "np.argmin(b,axis=1)"
   ]
  },
  {
   "cell_type": "markdown",
   "id": "77613ca5-614f-4423-aa16-6e3836a77bb1",
   "metadata": {},
   "source": [
    "##### np.cumsum -> cumulative sum over a given axis"
   ]
  },
  {
   "cell_type": "code",
   "execution_count": 37,
   "id": "2980c17a-cc3e-4802-8d5d-2efc0c8003c0",
   "metadata": {},
   "outputs": [
    {
     "data": {
      "text/plain": [
       "array([ 6, 76,  8, 24, 97, 94, 44, 73, 88, 57, 75,  5, 14, 86, 88])"
      ]
     },
     "execution_count": 37,
     "metadata": {},
     "output_type": "execute_result"
    }
   ],
   "source": [
    "a"
   ]
  },
  {
   "cell_type": "code",
   "execution_count": 38,
   "id": "850f1dfa-304a-426b-b04a-8477f84d1836",
   "metadata": {},
   "outputs": [
    {
     "data": {
      "text/plain": [
       "array([  6,  82,  90, 114, 211, 305, 349, 422, 510, 567, 642, 647, 661,\n",
       "       747, 835])"
      ]
     },
     "execution_count": 38,
     "metadata": {},
     "output_type": "execute_result"
    }
   ],
   "source": [
    "np.cumsum(a)"
   ]
  },
  {
   "cell_type": "code",
   "execution_count": 39,
   "id": "be0f08ff-9015-409e-b468-0b81ad26015a",
   "metadata": {},
   "outputs": [
    {
     "data": {
      "text/plain": [
       "array([[16, 19, 30, 54],\n",
       "       [56, 11, 90, 79],\n",
       "       [39, 73, 89, 29],\n",
       "       [34,  3, 33, 57],\n",
       "       [85, 65, 12, 37],\n",
       "       [34, 19,  8, 57]])"
      ]
     },
     "execution_count": 39,
     "metadata": {},
     "output_type": "execute_result"
    }
   ],
   "source": [
    "b"
   ]
  },
  {
   "cell_type": "code",
   "execution_count": 42,
   "id": "f4aa650a-da5f-4fbf-87e0-db982931c876",
   "metadata": {},
   "outputs": [
    {
     "data": {
      "text/plain": [
       "array([  16,   35,   65,  119,  175,  186,  276,  355,  394,  467,  556,\n",
       "        585,  619,  622,  655,  712,  797,  862,  874,  911,  945,  964,\n",
       "        972, 1029])"
      ]
     },
     "execution_count": 42,
     "metadata": {},
     "output_type": "execute_result"
    }
   ],
   "source": [
    "np.cumsum(b) # Axis not given then it will convert it into 1D and then do cumsum"
   ]
  },
  {
   "cell_type": "code",
   "execution_count": 41,
   "id": "b62af057-5712-49a3-b75d-711d799972e2",
   "metadata": {},
   "outputs": [
    {
     "data": {
      "text/plain": [
       "array([[ 16,  35,  65, 119],\n",
       "       [ 56,  67, 157, 236],\n",
       "       [ 39, 112, 201, 230],\n",
       "       [ 34,  37,  70, 127],\n",
       "       [ 85, 150, 162, 199],\n",
       "       [ 34,  53,  61, 118]])"
      ]
     },
     "execution_count": 41,
     "metadata": {},
     "output_type": "execute_result"
    }
   ],
   "source": [
    "np.cumsum(b,axis=1)"
   ]
  },
  {
   "cell_type": "code",
   "execution_count": 43,
   "id": "8afce658-6210-405d-b136-daecb927f36b",
   "metadata": {},
   "outputs": [
    {
     "data": {
      "text/plain": [
       "array([[ 16,  19,  30,  54],\n",
       "       [ 72,  30, 120, 133],\n",
       "       [111, 103, 209, 162],\n",
       "       [145, 106, 242, 219],\n",
       "       [230, 171, 254, 256],\n",
       "       [264, 190, 262, 313]])"
      ]
     },
     "execution_count": 43,
     "metadata": {},
     "output_type": "execute_result"
    }
   ],
   "source": [
    "np.cumsum(b,axis=0)"
   ]
  },
  {
   "cell_type": "markdown",
   "id": "40f4c8cb-6de3-4be5-9642-140d4f2c5cda",
   "metadata": {},
   "source": [
    "##### np.cumprod"
   ]
  },
  {
   "cell_type": "code",
   "execution_count": 44,
   "id": "7da57489-6ce6-4f25-a57f-f1a1881b5804",
   "metadata": {},
   "outputs": [
    {
     "data": {
      "text/plain": [
       "array([ 6, 76,  8, 24, 97, 94, 44, 73, 88, 57, 75,  5, 14, 86, 88])"
      ]
     },
     "execution_count": 44,
     "metadata": {},
     "output_type": "execute_result"
    }
   ],
   "source": [
    "a"
   ]
  },
  {
   "cell_type": "code",
   "execution_count": 45,
   "id": "d784179d-80c2-411e-9581-a747bd9a3412",
   "metadata": {},
   "outputs": [
    {
     "data": {
      "text/plain": [
       "array([         6,        456,       3648,      87552,    8492544,\n",
       "        798299136,  765423616,   41349120, -656244736, 1248755712,\n",
       "       -832602112,  131956736, 1847394304,  -37879808,  961544192])"
      ]
     },
     "execution_count": 45,
     "metadata": {},
     "output_type": "execute_result"
    }
   ],
   "source": [
    "np.cumprod(a)"
   ]
  },
  {
   "cell_type": "markdown",
   "id": "3b9a4cbb-6f87-4290-b96b-238ef5f20a93",
   "metadata": {},
   "source": [
    "##### np.percentile "
   ]
  },
  {
   "cell_type": "code",
   "execution_count": 46,
   "id": "e643ab29-41f3-469d-93b5-9216b416f1ef",
   "metadata": {},
   "outputs": [
    {
     "data": {
      "text/plain": [
       "array([ 6, 76,  8, 24, 97, 94, 44, 73, 88, 57, 75,  5, 14, 86, 88])"
      ]
     },
     "execution_count": 46,
     "metadata": {},
     "output_type": "execute_result"
    }
   ],
   "source": [
    "a"
   ]
  },
  {
   "cell_type": "code",
   "execution_count": 48,
   "id": "9ab85d9e-abf0-411f-9b9b-1743002a6994",
   "metadata": {},
   "outputs": [
    {
     "data": {
      "text/plain": [
       "97.0"
      ]
     },
     "execution_count": 48,
     "metadata": {},
     "output_type": "execute_result"
    }
   ],
   "source": [
    "np.percentile(a,100) #np.percentile(a,<percentile>)"
   ]
  },
  {
   "cell_type": "code",
   "execution_count": 49,
   "id": "3849a84a-6c66-4e5e-87e7-eed574c9c8cc",
   "metadata": {},
   "outputs": [
    {
     "data": {
      "text/plain": [
       "73.0"
      ]
     },
     "execution_count": 49,
     "metadata": {},
     "output_type": "execute_result"
    }
   ],
   "source": [
    "np.percentile(a,50)"
   ]
  },
  {
   "cell_type": "code",
   "execution_count": 50,
   "id": "d8c65730-658f-42d2-945e-135305a3a212",
   "metadata": {},
   "outputs": [
    {
     "data": {
      "text/plain": [
       "73.0"
      ]
     },
     "execution_count": 50,
     "metadata": {},
     "output_type": "execute_result"
    }
   ],
   "source": [
    "np.median(a)"
   ]
  },
  {
   "cell_type": "markdown",
   "id": "9badea08-c0d7-490f-83af-e8e8842ac6eb",
   "metadata": {},
   "source": [
    "##### np.histogram -> frequency count"
   ]
  },
  {
   "cell_type": "code",
   "execution_count": 51,
   "id": "21d4dcc2-deff-42b4-a24d-23c29460289c",
   "metadata": {},
   "outputs": [
    {
     "data": {
      "text/plain": [
       "array([ 6, 76,  8, 24, 97, 94, 44, 73, 88, 57, 75,  5, 14, 86, 88])"
      ]
     },
     "execution_count": 51,
     "metadata": {},
     "output_type": "execute_result"
    }
   ],
   "source": [
    "a"
   ]
  },
  {
   "cell_type": "code",
   "execution_count": 55,
   "id": "41cb80af-331d-4142-9a30-42383e5169a8",
   "metadata": {},
   "outputs": [
    {
     "data": {
      "text/plain": [
       "(array([6, 9], dtype=int64), array([  0,  50, 100]))"
      ]
     },
     "execution_count": 55,
     "metadata": {},
     "output_type": "execute_result"
    }
   ],
   "source": [
    "np.histogram(a,bins=[0,50,100])"
   ]
  },
  {
   "cell_type": "markdown",
   "id": "2a923e26-1235-4998-81e5-0c9d18ab350b",
   "metadata": {},
   "source": [
    "👆 here in the range of 0-50 we have 6 items, 50-100 : 9 items"
   ]
  },
  {
   "cell_type": "markdown",
   "id": "8dcb8243-6cd6-4e3e-8c83-a228fe16631e",
   "metadata": {},
   "source": [
    "##### np.corrcoef -> correlation coefficient: returns Pearson product-moment correlation coefficients ::::: It's between -1 and 1 "
   ]
  },
  {
   "cell_type": "code",
   "execution_count": 56,
   "id": "b7140b30-1e19-42cc-aa8c-3f248780b5c6",
   "metadata": {},
   "outputs": [
    {
     "data": {
      "text/plain": [
       "array([[1.        , 0.31380547],\n",
       "       [0.31380547, 1.        ]])"
      ]
     },
     "execution_count": 56,
     "metadata": {},
     "output_type": "execute_result"
    }
   ],
   "source": [
    "salary = np.array([20000,34000,25000,350000,60000])\n",
    "experience = np.array([1,3,3,5,8])\n",
    "np.corrcoef(salary,experience)"
   ]
  },
  {
   "cell_type": "markdown",
   "id": "ba07cb1a-5504-4148-a512-b553f6fa0370",
   "metadata": {},
   "source": [
    "#### np.isin"
   ]
  },
  {
   "cell_type": "code",
   "execution_count": 57,
   "id": "d3cbf9c3-7e28-49ff-8be9-2de66f99e5ab",
   "metadata": {},
   "outputs": [
    {
     "data": {
      "text/plain": [
       "array([ 6, 76,  8, 24, 97, 94, 44, 73, 88, 57, 75,  5, 14, 86, 88])"
      ]
     },
     "execution_count": 57,
     "metadata": {},
     "output_type": "execute_result"
    }
   ],
   "source": [
    "# search ek saath multiple items\n",
    "a"
   ]
  },
  {
   "cell_type": "code",
   "execution_count": 58,
   "id": "ad645cd3-3c03-4688-8d29-f7532e1dc5ce",
   "metadata": {},
   "outputs": [
    {
     "data": {
      "text/plain": [
       "array([False, False, False, False,  True, False, False,  True, False,\n",
       "       False, False, False, False, False, False])"
      ]
     },
     "execution_count": 58,
     "metadata": {},
     "output_type": "execute_result"
    }
   ],
   "source": [
    "items=[10,20,30,97,60,73]\n",
    "np.isin(a,items)"
   ]
  },
  {
   "cell_type": "code",
   "execution_count": 59,
   "id": "2b0e7d81-514f-4c00-a22e-5a2994b2eb8d",
   "metadata": {},
   "outputs": [
    {
     "data": {
      "text/plain": [
       "array([97, 73])"
      ]
     },
     "execution_count": 59,
     "metadata": {},
     "output_type": "execute_result"
    }
   ],
   "source": [
    "a[np.isin(a,items)]"
   ]
  },
  {
   "cell_type": "markdown",
   "id": "34d29ec8-2433-47c2-a354-75117dabafa5",
   "metadata": {},
   "source": [
    "##### np.flip"
   ]
  },
  {
   "cell_type": "code",
   "execution_count": 60,
   "id": "c3fc79ac-66c6-453f-9073-7f8c3ea410aa",
   "metadata": {},
   "outputs": [
    {
     "data": {
      "text/plain": [
       "array([ 6, 76,  8, 24, 97, 94, 44, 73, 88, 57, 75,  5, 14, 86, 88])"
      ]
     },
     "execution_count": 60,
     "metadata": {},
     "output_type": "execute_result"
    }
   ],
   "source": [
    "a"
   ]
  },
  {
   "cell_type": "code",
   "execution_count": 61,
   "id": "7132b1d0-c602-43bf-94d6-5cdd031358a0",
   "metadata": {},
   "outputs": [
    {
     "data": {
      "text/plain": [
       "array([88, 86, 14,  5, 75, 57, 88, 73, 44, 94, 97, 24,  8, 76,  6])"
      ]
     },
     "execution_count": 61,
     "metadata": {},
     "output_type": "execute_result"
    }
   ],
   "source": [
    "np.flip(a)"
   ]
  },
  {
   "cell_type": "code",
   "execution_count": 62,
   "id": "e18f7684-c71b-4ebf-8cab-11f2ba61ed37",
   "metadata": {},
   "outputs": [
    {
     "data": {
      "text/plain": [
       "array([[16, 19, 30, 54],\n",
       "       [56, 11, 90, 79],\n",
       "       [39, 73, 89, 29],\n",
       "       [34,  3, 33, 57],\n",
       "       [85, 65, 12, 37],\n",
       "       [34, 19,  8, 57]])"
      ]
     },
     "execution_count": 62,
     "metadata": {},
     "output_type": "execute_result"
    }
   ],
   "source": [
    "b"
   ]
  },
  {
   "cell_type": "code",
   "execution_count": 64,
   "id": "158075ad-6b0d-49eb-8554-ea3f2690129b",
   "metadata": {},
   "outputs": [
    {
     "data": {
      "text/plain": [
       "array([[57,  8, 19, 34],\n",
       "       [37, 12, 65, 85],\n",
       "       [57, 33,  3, 34],\n",
       "       [29, 89, 73, 39],\n",
       "       [79, 90, 11, 56],\n",
       "       [54, 30, 19, 16]])"
      ]
     },
     "execution_count": 64,
     "metadata": {},
     "output_type": "execute_result"
    }
   ],
   "source": [
    "np.flip(b) # row and column both flipping"
   ]
  },
  {
   "cell_type": "code",
   "execution_count": 66,
   "id": "ffe2f372-b68e-492c-90e0-5694eaadffb4",
   "metadata": {},
   "outputs": [
    {
     "data": {
      "text/plain": [
       "array([[54, 30, 19, 16],\n",
       "       [79, 90, 11, 56],\n",
       "       [29, 89, 73, 39],\n",
       "       [57, 33,  3, 34],\n",
       "       [37, 12, 65, 85],\n",
       "       [57,  8, 19, 34]])"
      ]
     },
     "execution_count": 66,
     "metadata": {},
     "output_type": "execute_result"
    }
   ],
   "source": [
    "np.flip(b,axis=1)"
   ]
  },
  {
   "cell_type": "markdown",
   "id": "a54503a0-e2b0-49df-83a7-0813eb9d8529",
   "metadata": {},
   "source": [
    "#### np.put"
   ]
  },
  {
   "cell_type": "code",
   "execution_count": 67,
   "id": "5c754a30-e7af-4aea-b3e4-88ee19d2b1f6",
   "metadata": {},
   "outputs": [
    {
     "data": {
      "text/plain": [
       "array([ 6, 76,  8, 24, 97, 94, 44, 73, 88, 57, 75,  5, 14, 86, 88])"
      ]
     },
     "execution_count": 67,
     "metadata": {},
     "output_type": "execute_result"
    }
   ],
   "source": [
    "a"
   ]
  },
  {
   "cell_type": "code",
   "execution_count": 71,
   "id": "11bd6dc2-38ba-4880-966a-7d2c108023d7",
   "metadata": {},
   "outputs": [],
   "source": [
    "np.put(a,[0,1],[110,420]) # Permanent changes => np.put(a,[index],[value])"
   ]
  },
  {
   "cell_type": "code",
   "execution_count": 69,
   "id": "35195292-ee83-47a9-a622-6b75a2fb4b87",
   "metadata": {},
   "outputs": [
    {
     "data": {
      "text/plain": [
       "array([110, 420,   8,  24,  97,  94,  44,  73,  88,  57,  75,   5,  14,\n",
       "        86,  88])"
      ]
     },
     "execution_count": 69,
     "metadata": {},
     "output_type": "execute_result"
    }
   ],
   "source": [
    "a"
   ]
  },
  {
   "cell_type": "markdown",
   "id": "7c8883da-15bc-4531-88f7-b241977310d6",
   "metadata": {},
   "source": [
    "#### np.delete"
   ]
  },
  {
   "cell_type": "code",
   "execution_count": 72,
   "id": "2b9f5bd4-a900-4b02-9c72-a2dba412e601",
   "metadata": {},
   "outputs": [
    {
     "data": {
      "text/plain": [
       "array([110, 420,   8,  24,  97,  94,  44,  73,  88,  57,  75,   5,  14,\n",
       "        86,  88])"
      ]
     },
     "execution_count": 72,
     "metadata": {},
     "output_type": "execute_result"
    }
   ],
   "source": [
    "a"
   ]
  },
  {
   "cell_type": "code",
   "execution_count": 77,
   "id": "28e020db-da81-4e95-940e-2c39d111e443",
   "metadata": {},
   "outputs": [
    {
     "data": {
      "text/plain": [
       "array([420,  24,  94,  44,  73,  88,  57,  75,   5,  14,  86,  88])"
      ]
     },
     "execution_count": 77,
     "metadata": {},
     "output_type": "execute_result"
    }
   ],
   "source": [
    "np.delete(a,[0,2,4]) # np.delete(a,index)"
   ]
  },
  {
   "cell_type": "markdown",
   "id": "ef481cd3-37d9-4aa6-a53d-98b25a0cd9a5",
   "metadata": {},
   "source": [
    "### Set Functions"
   ]
  },
  {
   "cell_type": "code",
   "execution_count": 82,
   "id": "0ca9920b-9006-419e-9a18-c6be4fc7b16f",
   "metadata": {},
   "outputs": [
    {
     "data": {
      "text/plain": [
       "array([1, 2, 3, 4, 5, 9])"
      ]
     },
     "execution_count": 82,
     "metadata": {},
     "output_type": "execute_result"
    }
   ],
   "source": [
    "m = np.array([1,2,3,4])\n",
    "n = np.array([5,4,2,9])\n",
    "np.union1d(n,m)"
   ]
  },
  {
   "cell_type": "code",
   "execution_count": 83,
   "id": "f7744cfb-c14b-4045-b6ac-315c47c529a1",
   "metadata": {},
   "outputs": [
    {
     "data": {
      "text/plain": [
       "array([2, 4])"
      ]
     },
     "execution_count": 83,
     "metadata": {},
     "output_type": "execute_result"
    }
   ],
   "source": [
    "np.intersect1d(n,m)"
   ]
  },
  {
   "cell_type": "code",
   "execution_count": 85,
   "id": "2798a70f-c91c-4675-a783-838cc8cfc3e7",
   "metadata": {},
   "outputs": [
    {
     "data": {
      "text/plain": [
       "array([5, 9])"
      ]
     },
     "execution_count": 85,
     "metadata": {},
     "output_type": "execute_result"
    }
   ],
   "source": [
    "np.setdiff1d(n,m)"
   ]
  },
  {
   "cell_type": "code",
   "execution_count": 86,
   "id": "27c38bcd-99f9-46c6-a956-6d97f166b394",
   "metadata": {},
   "outputs": [
    {
     "data": {
      "text/plain": [
       "array([1, 3])"
      ]
     },
     "execution_count": 86,
     "metadata": {},
     "output_type": "execute_result"
    }
   ],
   "source": [
    "np.setdiff1d(m,n)"
   ]
  },
  {
   "cell_type": "code",
   "execution_count": 87,
   "id": "3d4932c4-6af7-4cff-8884-ed10eb065bba",
   "metadata": {},
   "outputs": [
    {
     "data": {
      "text/plain": [
       "array([1, 3, 5, 9])"
      ]
     },
     "execution_count": 87,
     "metadata": {},
     "output_type": "execute_result"
    }
   ],
   "source": [
    "np.setxor1d(n,m)"
   ]
  },
  {
   "cell_type": "code",
   "execution_count": 89,
   "id": "0d96ebf3-5b95-4bdc-b341-ee6b37566430",
   "metadata": {},
   "outputs": [
    {
     "data": {
      "text/plain": [
       "array([False, False, False, False])"
      ]
     },
     "execution_count": 89,
     "metadata": {},
     "output_type": "execute_result"
    }
   ],
   "source": [
    "np.in1d(n,1)"
   ]
  },
  {
   "cell_type": "code",
   "execution_count": 90,
   "id": "ae9001f3-24cc-419c-bd27-1601e96bb5f6",
   "metadata": {},
   "outputs": [
    {
     "data": {
      "text/plain": [
       "array([ True, False, False, False])"
      ]
     },
     "execution_count": 90,
     "metadata": {},
     "output_type": "execute_result"
    }
   ],
   "source": [
    "np.in1d(m,1)"
   ]
  },
  {
   "cell_type": "markdown",
   "id": "d5b3a3cd-27e2-41fd-9198-7312ffc19d21",
   "metadata": {},
   "source": [
    "#### np.clip"
   ]
  },
  {
   "cell_type": "code",
   "execution_count": 91,
   "id": "5b8e42bd-a25a-4d09-94f9-1eb7005d49f4",
   "metadata": {},
   "outputs": [
    {
     "data": {
      "text/plain": [
       "array([110, 420,   8,  24,  97,  94,  44,  73,  88,  57,  75,   5,  14,\n",
       "        86,  88])"
      ]
     },
     "execution_count": 91,
     "metadata": {},
     "output_type": "execute_result"
    }
   ],
   "source": [
    "a"
   ]
  },
  {
   "cell_type": "code",
   "execution_count": 92,
   "id": "6bdbb5a4-45f9-4ddc-a4e7-61eaa9e9a51f",
   "metadata": {},
   "outputs": [
    {
     "data": {
      "text/plain": [
       "array([75, 75, 24, 24, 75, 75, 44, 73, 75, 57, 75, 24, 24, 75, 75])"
      ]
     },
     "execution_count": 92,
     "metadata": {},
     "output_type": "execute_result"
    }
   ],
   "source": [
    "np.clip(a,a_min=24,a_max=75)"
   ]
  },
  {
   "cell_type": "code",
   "execution_count": null,
   "id": "c8d5b946-8e6c-4083-aa03-5fbfa86b4009",
   "metadata": {},
   "outputs": [],
   "source": []
  }
 ],
 "metadata": {
  "kernelspec": {
   "display_name": "Python 3 (ipykernel)",
   "language": "python",
   "name": "python3"
  },
  "language_info": {
   "codemirror_mode": {
    "name": "ipython",
    "version": 3
   },
   "file_extension": ".py",
   "mimetype": "text/x-python",
   "name": "python",
   "nbconvert_exporter": "python",
   "pygments_lexer": "ipython3",
   "version": "3.12.2"
  }
 },
 "nbformat": 4,
 "nbformat_minor": 5
}
