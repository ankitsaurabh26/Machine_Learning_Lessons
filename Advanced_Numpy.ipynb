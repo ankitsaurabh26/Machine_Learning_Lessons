{
 "cells": [
  {
   "cell_type": "markdown",
   "id": "e3427f39-d5ef-46fd-aec4-5e2fcce2f33e",
   "metadata": {},
   "source": [
    "### Advanced Numpy"
   ]
  },
  {
   "cell_type": "markdown",
   "id": "f2765918-9762-4f18-beb1-ea583d1b85a3",
   "metadata": {},
   "source": [
    "##### Numpy array vs Python Lists"
   ]
  },
  {
   "cell_type": "code",
   "execution_count": 1,
   "id": "37ed956d-9993-4a34-ba98-9170bb24ceb7",
   "metadata": {},
   "outputs": [
    {
     "name": "stdout",
     "output_type": "stream",
     "text": [
      "3.8932716846466064\n"
     ]
    }
   ],
   "source": [
    "# Speed\n",
    "\n",
    "a = [i for i in range(10000000)]\n",
    "b = [i for i in range(10000000,20000000)]\n",
    "c=[]\n",
    "import time\n",
    "start = time.time()\n",
    "for i in range(len(a)):\n",
    "    c.append(a[i]+b[i])\n",
    "print(time.time()-start)    "
   ]
  },
  {
   "cell_type": "code",
   "execution_count": 2,
   "id": "3a6826af-5191-466a-aeae-9c08b67b9a13",
   "metadata": {},
   "outputs": [
    {
     "name": "stdout",
     "output_type": "stream",
     "text": [
      "0.314617395401001\n"
     ]
    }
   ],
   "source": [
    "import numpy as np\n",
    "a = np.arange(10000000)\n",
    "b = np.arange(10000000,20000000)\n",
    "start = time.time()\n",
    "c = a+b\n",
    "print(time.time()-start)"
   ]
  },
  {
   "cell_type": "code",
   "execution_count": 3,
   "id": "f5055911-2d8f-4107-8b6f-4f40a653f557",
   "metadata": {},
   "outputs": [
    {
     "data": {
      "text/plain": [
       "9.979932221546955"
      ]
     },
     "execution_count": 3,
     "metadata": {},
     "output_type": "execute_result"
    }
   ],
   "source": [
    "1.1549732685089111/0.11572957038879395"
   ]
  },
  {
   "cell_type": "code",
   "execution_count": 4,
   "id": "acd907c5-bde2-4966-801c-a0de1de9dd5c",
   "metadata": {},
   "outputs": [
    {
     "data": {
      "text/plain": [
       "89095160"
      ]
     },
     "execution_count": 4,
     "metadata": {},
     "output_type": "execute_result"
    }
   ],
   "source": [
    "# Memory\n",
    "a = [i for i in range(10000000)]\n",
    "import sys\n",
    "sys.getsizeof(a)"
   ]
  },
  {
   "cell_type": "code",
   "execution_count": 5,
   "id": "842b48d1-efae-4aad-8c0c-55012f7fdd33",
   "metadata": {},
   "outputs": [
    {
     "data": {
      "text/plain": [
       "40000112"
      ]
     },
     "execution_count": 5,
     "metadata": {},
     "output_type": "execute_result"
    }
   ],
   "source": [
    "b = np.arange(10000000)\n",
    "sys.getsizeof(b)"
   ]
  },
  {
   "cell_type": "code",
   "execution_count": 6,
   "id": "c54f44ca-1d64-4b0f-99d1-ab3070c380d9",
   "metadata": {},
   "outputs": [
    {
     "data": {
      "text/plain": [
       "2.2273727633562626"
      ]
     },
     "execution_count": 6,
     "metadata": {},
     "output_type": "execute_result"
    }
   ],
   "source": [
    "89095160/40000112"
   ]
  },
  {
   "cell_type": "code",
   "execution_count": 7,
   "id": "87f02b07-3ab2-4f09-aa7e-f85d6650b81c",
   "metadata": {},
   "outputs": [
    {
     "data": {
      "text/plain": [
       "array([[ 0,  1,  2],\n",
       "       [ 3,  4,  5],\n",
       "       [ 6,  7,  8],\n",
       "       [ 9, 10, 11]])"
      ]
     },
     "execution_count": 7,
     "metadata": {},
     "output_type": "execute_result"
    }
   ],
   "source": [
    "# Normal indexing and slicing\n",
    "a = np.arange(12).reshape(4,3)\n",
    "a"
   ]
  },
  {
   "cell_type": "code",
   "execution_count": 8,
   "id": "f338d147-e92a-4a26-b7d6-d0b1fb6d7b60",
   "metadata": {},
   "outputs": [
    {
     "data": {
      "text/plain": [
       "5"
      ]
     },
     "execution_count": 8,
     "metadata": {},
     "output_type": "execute_result"
    }
   ],
   "source": [
    "a[1,2] # indexing"
   ]
  },
  {
   "cell_type": "code",
   "execution_count": 9,
   "id": "7ebf258a-2899-4f64-929c-0ff5ecd79be6",
   "metadata": {},
   "outputs": [
    {
     "data": {
      "text/plain": [
       "array([[4, 5],\n",
       "       [7, 8]])"
      ]
     },
     "execution_count": 9,
     "metadata": {},
     "output_type": "execute_result"
    }
   ],
   "source": [
    "a[1:3,1:3] # slicing"
   ]
  },
  {
   "cell_type": "markdown",
   "id": "e3cf2fab-4dd9-4a78-87f6-afeff83fda88",
   "metadata": {},
   "source": [
    "##### Fancy Indexing"
   ]
  },
  {
   "cell_type": "code",
   "execution_count": 10,
   "id": "4d6f01f0-e3e0-4370-92c0-21c4012878fe",
   "metadata": {},
   "outputs": [
    {
     "data": {
      "text/plain": [
       "array([[ 0,  1,  2],\n",
       "       [ 3,  4,  5],\n",
       "       [ 6,  7,  8],\n",
       "       [ 9, 10, 11]])"
      ]
     },
     "execution_count": 10,
     "metadata": {},
     "output_type": "execute_result"
    }
   ],
   "source": [
    "a"
   ]
  },
  {
   "cell_type": "code",
   "execution_count": 11,
   "id": "9921e6a8-e3d6-46ff-9f12-53dd1cc9a503",
   "metadata": {},
   "outputs": [
    {
     "data": {
      "text/plain": [
       "array([[ 0,  1,  2],\n",
       "       [ 6,  7,  8],\n",
       "       [ 9, 10, 11]])"
      ]
     },
     "execution_count": 11,
     "metadata": {},
     "output_type": "execute_result"
    }
   ],
   "source": [
    "# Now I want 1st, 3rd and 4th row\n",
    "a[[0,2,3]]"
   ]
  },
  {
   "cell_type": "code",
   "execution_count": 12,
   "id": "a40b9b4f-d011-4c60-bc89-c60179865022",
   "metadata": {},
   "outputs": [
    {
     "data": {
      "text/plain": [
       "array([[ 0,  1,  2,  3],\n",
       "       [ 4,  5,  6,  7],\n",
       "       [ 8,  9, 10, 11],\n",
       "       [12, 13, 14, 15],\n",
       "       [16, 17, 18, 19],\n",
       "       [20, 21, 22, 23]])"
      ]
     },
     "execution_count": 12,
     "metadata": {},
     "output_type": "execute_result"
    }
   ],
   "source": [
    "a = np.arange(24).reshape(6,4)\n",
    "a"
   ]
  },
  {
   "cell_type": "code",
   "execution_count": 13,
   "id": "ed5fc38d-dcdc-4bf6-a289-8828af30a8fe",
   "metadata": {},
   "outputs": [
    {
     "data": {
      "text/plain": [
       "array([[ 0,  1,  2,  3],\n",
       "       [ 8,  9, 10, 11],\n",
       "       [12, 13, 14, 15],\n",
       "       [20, 21, 22, 23]])"
      ]
     },
     "execution_count": 13,
     "metadata": {},
     "output_type": "execute_result"
    }
   ],
   "source": [
    "# I want 1st, 3rd, 4th and 6th row\n",
    "a[[0,2,3,5]]"
   ]
  },
  {
   "cell_type": "code",
   "execution_count": 14,
   "id": "1aae559e-ac5a-4d0b-bcd6-1be36565b548",
   "metadata": {},
   "outputs": [
    {
     "data": {
      "text/plain": [
       "array([[ 0,  2,  3],\n",
       "       [ 4,  6,  7],\n",
       "       [ 8, 10, 11],\n",
       "       [12, 14, 15],\n",
       "       [16, 18, 19],\n",
       "       [20, 22, 23]])"
      ]
     },
     "execution_count": 14,
     "metadata": {},
     "output_type": "execute_result"
    }
   ],
   "source": [
    "# I want 1st, 3rd and 4th column\n",
    "a[:,[0,2,3]]"
   ]
  },
  {
   "cell_type": "markdown",
   "id": "a0083bf1-d6ef-40a3-98b2-8d48819200af",
   "metadata": {},
   "source": [
    "##### Boolean Indexing"
   ]
  },
  {
   "cell_type": "code",
   "execution_count": 15,
   "id": "27d16471-89b5-4bc2-8781-314a22bb4937",
   "metadata": {},
   "outputs": [],
   "source": [
    "# Condition ke basis par elements chahiye\n",
    "a = np.random.randint(1,100,24).reshape(6,4) # generates random no. b/w 1 to 100, I want only 24 so 24 there"
   ]
  },
  {
   "cell_type": "code",
   "execution_count": 16,
   "id": "a32757b0-60ad-470a-ae3d-6f0a2d088790",
   "metadata": {},
   "outputs": [
    {
     "data": {
      "text/plain": [
       "array([[False, False,  True,  True],\n",
       "       [ True,  True,  True, False],\n",
       "       [ True, False,  True, False],\n",
       "       [False, False, False, False],\n",
       "       [False, False,  True,  True],\n",
       "       [False, False,  True, False]])"
      ]
     },
     "execution_count": 16,
     "metadata": {},
     "output_type": "execute_result"
    }
   ],
   "source": [
    "a>50"
   ]
  },
  {
   "cell_type": "markdown",
   "id": "75e92910-50cf-4983-be96-07d07ad93089",
   "metadata": {},
   "source": [
    "##### Boolean Masking"
   ]
  },
  {
   "cell_type": "code",
   "execution_count": 17,
   "id": "d07a7bd1-ba56-45cd-ab14-f0ff2e01eab2",
   "metadata": {},
   "outputs": [
    {
     "data": {
      "text/plain": [
       "array([85, 75, 52, 59, 77, 66, 51, 81, 87, 82])"
      ]
     },
     "execution_count": 17,
     "metadata": {},
     "output_type": "execute_result"
    }
   ],
   "source": [
    "# Find all numbers greater than 50\n",
    "a[a>50] # Boolean masking"
   ]
  },
  {
   "cell_type": "code",
   "execution_count": 18,
   "id": "11457ce5-8c50-4799-b4c2-6b9f63786d27",
   "metadata": {},
   "outputs": [
    {
     "data": {
      "text/plain": [
       "array([28, 16, 52, 66,  8, 22, 12,  2, 82,  2])"
      ]
     },
     "execution_count": 18,
     "metadata": {},
     "output_type": "execute_result"
    }
   ],
   "source": [
    "# Find out even numbers\n",
    "a[a%2==0]"
   ]
  },
  {
   "cell_type": "code",
   "execution_count": 19,
   "id": "11410cd1-1058-4e25-bf73-e919122bddf8",
   "metadata": {},
   "outputs": [
    {
     "data": {
      "text/plain": [
       "array([52, 66, 82])"
      ]
     },
     "execution_count": 19,
     "metadata": {},
     "output_type": "execute_result"
    }
   ],
   "source": [
    "# Find all numbers greater than 50 and are even\n",
    "a[(a>50) & (a%2==0)] # Use bitwise operator when working with boolean"
   ]
  },
  {
   "cell_type": "markdown",
   "id": "59820e40-dbd9-4412-939b-ab96240641a8",
   "metadata": {},
   "source": [
    "##### Broadcasting \n",
    "- Describes how NumPy treats arrays with different shapes during arithmetic operations\n",
    "- Smaller array is 'broadcasted' across the larger array so that they have compatible shapes"
   ]
  },
  {
   "cell_type": "code",
   "execution_count": 20,
   "id": "851fc6dc-e724-4b6b-bc0f-d911eaf068c8",
   "metadata": {},
   "outputs": [],
   "source": [
    "# same shape\n",
    "a = np.arange(6).reshape(2,3)\n",
    "b = np.arange(6,12).reshape(2,3)"
   ]
  },
  {
   "cell_type": "code",
   "execution_count": 21,
   "id": "ac1583a1-f77e-4677-802e-411f22cdb947",
   "metadata": {},
   "outputs": [
    {
     "name": "stdout",
     "output_type": "stream",
     "text": [
      "[[ 6  8 10]\n",
      " [12 14 16]]\n"
     ]
    }
   ],
   "source": [
    "print(a+b)"
   ]
  },
  {
   "cell_type": "code",
   "execution_count": 22,
   "id": "b09c079d-f211-4c1c-a576-71ee9c5902a6",
   "metadata": {},
   "outputs": [],
   "source": [
    "# different shape\n",
    "a = np.arange(6).reshape(2,3)\n",
    "b = np.arange(3).reshape(1,3)"
   ]
  },
  {
   "cell_type": "code",
   "execution_count": 23,
   "id": "4714d240-e6d5-4dcf-bdb7-06c4870781d7",
   "metadata": {},
   "outputs": [
    {
     "data": {
      "text/plain": [
       "array([[0, 1, 2],\n",
       "       [3, 4, 5]])"
      ]
     },
     "execution_count": 23,
     "metadata": {},
     "output_type": "execute_result"
    }
   ],
   "source": [
    "a"
   ]
  },
  {
   "cell_type": "code",
   "execution_count": 24,
   "id": "d60aeb34-60dc-4da2-b83e-fb26770e8976",
   "metadata": {},
   "outputs": [
    {
     "data": {
      "text/plain": [
       "array([[0, 1, 2]])"
      ]
     },
     "execution_count": 24,
     "metadata": {},
     "output_type": "execute_result"
    }
   ],
   "source": [
    "b"
   ]
  },
  {
   "cell_type": "code",
   "execution_count": 25,
   "id": "47424e6a-fdb3-4717-bbcd-abb27540d4bb",
   "metadata": {},
   "outputs": [
    {
     "name": "stdout",
     "output_type": "stream",
     "text": [
      "[[0 2 4]\n",
      " [3 5 7]]\n"
     ]
    }
   ],
   "source": [
    "print(a+b)"
   ]
  },
  {
   "cell_type": "markdown",
   "id": "c39bd7f9-d4ba-4b88-829d-4e53a28c2530",
   "metadata": {},
   "source": [
    "![Broadcasting](Broadcasting.png) "
   ]
  },
  {
   "cell_type": "code",
   "execution_count": 27,
   "id": "0f445b93-10cd-47e5-b8e1-ab9c5ae571c6",
   "metadata": {},
   "outputs": [
    {
     "data": {
      "text/plain": [
       "array([[0, 1, 2],\n",
       "       [1, 2, 3],\n",
       "       [2, 3, 4]])"
      ]
     },
     "execution_count": 27,
     "metadata": {},
     "output_type": "execute_result"
    }
   ],
   "source": [
    "np.arange(3).reshape((3,1))+np.arange(3)"
   ]
  },
  {
   "cell_type": "markdown",
   "id": "ff3ccbee-fc1e-4198-9c8c-4a83755081d6",
   "metadata": {},
   "source": [
    "### Broadcasting Rules"
   ]
  },
  {
   "cell_type": "markdown",
   "id": "d3d097bc-e9fc-4ba4-b70b-a085ef307e8c",
   "metadata": {},
   "source": [
    "##### 1. Make the two arrays have the same number of dimensions.\n",
    "- If the number of dimensions of the two arrays are different, add new dimension with size 1 to the head of the array which has the smaller dimension. Like: (3,3,3) and (3) => (3,3,3) and (1,1,3)"
   ]
  },
  {
   "cell_type": "markdown",
   "id": "fcd8fb17-a2e1-4b01-9967-25598b92526a",
   "metadata": {},
   "source": [
    "##### 2. Make each dimension of the two arrays the same size\n",
    "- If the sizes of each dimension of the two arrays don't match, dimensions with size 1 are stretched to the size of the other array.\n",
    "- If there is a dimension whose size is not 1 in either of the two arrays, it cannot be broadcasted, and an error is raised."
   ]
  },
  {
   "cell_type": "code",
   "execution_count": 31,
   "id": "f8a7151c-d114-45d9-8095-3f47bf823f18",
   "metadata": {},
   "outputs": [
    {
     "name": "stdout",
     "output_type": "stream",
     "text": [
      "[[ 0  1  2]\n",
      " [ 3  4  5]\n",
      " [ 6  7  8]\n",
      " [ 9 10 11]]\n",
      "[0 1 2]\n"
     ]
    }
   ],
   "source": [
    "# Examples\n",
    "a = np.arange(12).reshape(4,3)\n",
    "b = np.arange(3)\n",
    "\n",
    "print(a)\n",
    "print(b)"
   ]
  },
  {
   "cell_type": "markdown",
   "id": "4b78eda6-5350-43b8-b6ae-9b9367732c93",
   "metadata": {},
   "source": [
    "- In the above example: shape is (4,3) and (3) so we'll make it (4,3) and (1,3)\n",
    "- Now (1,3) will be raised till (4,3)"
   ]
  },
  {
   "cell_type": "code",
   "execution_count": 33,
   "id": "450bd777-0fa8-4e41-b6fc-827fd8b1670f",
   "metadata": {},
   "outputs": [
    {
     "name": "stdout",
     "output_type": "stream",
     "text": [
      "[[ 0  2  4]\n",
      " [ 3  5  7]\n",
      " [ 6  8 10]\n",
      " [ 9 11 13]]\n"
     ]
    }
   ],
   "source": [
    "print(a+b)"
   ]
  },
  {
   "cell_type": "code",
   "execution_count": 34,
   "id": "7a64cfb5-188e-4c9d-b291-2640d7ecf8e8",
   "metadata": {},
   "outputs": [
    {
     "name": "stdout",
     "output_type": "stream",
     "text": [
      "[[ 0  1  2  3]\n",
      " [ 4  5  6  7]\n",
      " [ 8  9 10 11]]\n",
      "[0 1 2]\n"
     ]
    }
   ],
   "source": [
    "# Example 2:\n",
    "a = np.arange(12).reshape(3,4)\n",
    "b = np.arange(3)\n",
    "print(a)\n",
    "print(b)"
   ]
  },
  {
   "cell_type": "markdown",
   "id": "a46fc8b0-8cef-44ba-aa62-ecbd94e287e4",
   "metadata": {},
   "source": [
    "- In the example 2 broadcasting will not work as we have (3,4) and (3) => (3,4) and (1,3) => (3,4) and (3,3) where (3,3) != (3,4)"
   ]
  },
  {
   "cell_type": "code",
   "execution_count": 35,
   "id": "f0c7c84c-24ad-4216-9ed3-e8052c62b21e",
   "metadata": {},
   "outputs": [
    {
     "ename": "ValueError",
     "evalue": "operands could not be broadcast together with shapes (3,4) (3,) ",
     "output_type": "error",
     "traceback": [
      "\u001b[1;31m---------------------------------------------------------------------------\u001b[0m",
      "\u001b[1;31mValueError\u001b[0m                                Traceback (most recent call last)",
      "Cell \u001b[1;32mIn[35], line 1\u001b[0m\n\u001b[1;32m----> 1\u001b[0m \u001b[38;5;28mprint\u001b[39m(a\u001b[38;5;241m+\u001b[39mb)\n",
      "\u001b[1;31mValueError\u001b[0m: operands could not be broadcast together with shapes (3,4) (3,) "
     ]
    }
   ],
   "source": [
    "print(a+b)"
   ]
  },
  {
   "cell_type": "code",
   "execution_count": 37,
   "id": "a18c6416-8781-4af5-a2c6-fae936fd6010",
   "metadata": {},
   "outputs": [
    {
     "name": "stdout",
     "output_type": "stream",
     "text": [
      "[[0 1 2]]\n",
      "[[0]\n",
      " [1]\n",
      " [2]]\n"
     ]
    }
   ],
   "source": [
    "# Example 3:\n",
    "a = np.arange(3).reshape(1,3)\n",
    "b = np.arange(3).reshape(3,1)\n",
    "print(a)\n",
    "print(b)"
   ]
  },
  {
   "cell_type": "markdown",
   "id": "023f91ff-e844-4d01-8c32-993400cbf5cf",
   "metadata": {},
   "source": [
    "- In the example 3: We have (1,3) and (3,1) since both has 1 so we can extend it to => (1,3) and (3,3) => (3,3) and (3,3) => broadcasting possible"
   ]
  },
  {
   "cell_type": "code",
   "execution_count": 38,
   "id": "601e2197-09ce-48bb-8afa-8761665446e2",
   "metadata": {},
   "outputs": [
    {
     "name": "stdout",
     "output_type": "stream",
     "text": [
      "[[0 1 2]\n",
      " [1 2 3]\n",
      " [2 3 4]]\n"
     ]
    }
   ],
   "source": [
    "print(a+b)"
   ]
  },
  {
   "cell_type": "code",
   "execution_count": 40,
   "id": "433547e2-fb2b-4b17-9ebe-da752f24a899",
   "metadata": {},
   "outputs": [
    {
     "name": "stdout",
     "output_type": "stream",
     "text": [
      "[[0 1 2]]\n",
      "[[0]\n",
      " [1]\n",
      " [2]\n",
      " [3]]\n"
     ]
    }
   ],
   "source": [
    "# Example 4:\n",
    "a = np.arange(3).reshape(1,3)\n",
    "b = np.arange(4).reshape(4,1)\n",
    "print(a)\n",
    "print(b)"
   ]
  },
  {
   "cell_type": "code",
   "execution_count": 42,
   "id": "578be286-95b4-44a4-85cc-922226523e72",
   "metadata": {},
   "outputs": [
    {
     "name": "stdout",
     "output_type": "stream",
     "text": [
      "[[0 1 2]\n",
      " [1 2 3]\n",
      " [2 3 4]\n",
      " [3 4 5]]\n"
     ]
    }
   ],
   "source": [
    "print(a+b) # Broadcasting possible (4,3)"
   ]
  },
  {
   "cell_type": "code",
   "execution_count": 45,
   "id": "e146b5fa-9fcc-4cd0-b026-250816065096",
   "metadata": {},
   "outputs": [
    {
     "name": "stdout",
     "output_type": "stream",
     "text": [
      "[[0 1]\n",
      " [2 3]]\n"
     ]
    }
   ],
   "source": [
    "# Example 5:\n",
    "a = np.arange(1) # shape -> (1)\n",
    "b = np.arange(4).reshape(2,2)\n",
    "print(a+b)"
   ]
  },
  {
   "cell_type": "markdown",
   "id": "5816fe72-b785-419c-bb76-6f23264ecdaa",
   "metadata": {},
   "source": [
    "#### Working with Mathematical Formulas"
   ]
  },
  {
   "cell_type": "code",
   "execution_count": 55,
   "id": "aca7bca3-df72-49da-b5bb-796e56554469",
   "metadata": {},
   "outputs": [],
   "source": [
    "# Sigmoid\n",
    "def sigmoid(array):\n",
    "    return 1/(1+np.exp(-(array)))"
   ]
  },
  {
   "cell_type": "markdown",
   "id": "58fb2c6c-9b75-4eac-a741-39786b8bb82b",
   "metadata": {},
   "source": [
    "![Sigmoid Function](Sigmoid_Function.png)"
   ]
  },
  {
   "cell_type": "code",
   "execution_count": 59,
   "id": "6d221609-441b-4670-b25a-685cb4641142",
   "metadata": {},
   "outputs": [
    {
     "data": {
      "text/plain": [
       "array([0.5       , 0.73105858, 0.88079708, 0.95257413, 0.98201379,\n",
       "       0.99330715, 0.99752738, 0.99908895, 0.99966465, 0.99987661])"
      ]
     },
     "execution_count": 59,
     "metadata": {},
     "output_type": "execute_result"
    }
   ],
   "source": [
    "a = np.arange(10)\n",
    "sigmoid(a)"
   ]
  },
  {
   "cell_type": "code",
   "execution_count": 60,
   "id": "028361fb-8294-435e-85dd-1de5bb1c569b",
   "metadata": {},
   "outputs": [],
   "source": [
    "# Mean squared error : yi = expected/correct value and Ŷi is the value coming\n",
    "actual = np.random.randint(1,50,25)\n",
    "predicted = np.random.randint(1,50,25)"
   ]
  },
  {
   "cell_type": "markdown",
   "id": "fcc8e6fd-71eb-4baa-854e-21b8935e4491",
   "metadata": {},
   "source": [
    "![Mean Squared Error](MSE.gif)"
   ]
  },
  {
   "cell_type": "code",
   "execution_count": 61,
   "id": "db73470c-7a22-4be1-b733-bb063f9f787b",
   "metadata": {},
   "outputs": [
    {
     "name": "stdout",
     "output_type": "stream",
     "text": [
      "[46  3  7  9 12 35  2 48 11  5 10 22  4 18 43  9 49  4 17 31  9 35 19 38\n",
      " 15]\n",
      "[31 45 43 21  3 29  3 39 27 33 30 33 20 31 20  5  5 21 26  5 24  5 32 24\n",
      " 27]\n"
     ]
    }
   ],
   "source": [
    "print(actual)\n",
    "print(predicted)"
   ]
  },
  {
   "cell_type": "code",
   "execution_count": 62,
   "id": "b9326de3-4178-48e6-ac64-113bc848c643",
   "metadata": {},
   "outputs": [
    {
     "data": {
      "text/plain": [
       "431.0"
      ]
     },
     "execution_count": 62,
     "metadata": {},
     "output_type": "execute_result"
    }
   ],
   "source": [
    "def mse (actual, predicted):\n",
    "    return np.mean((actual-predicted)**2)\n",
    "\n",
    "mse(actual,predicted)"
   ]
  },
  {
   "cell_type": "markdown",
   "id": "65fd20f5-9e15-4a4a-bb38-d8a10fc91c00",
   "metadata": {},
   "source": [
    "#### Working with the missing values"
   ]
  },
  {
   "cell_type": "code",
   "execution_count": 64,
   "id": "c5ab6af1-33f1-4b19-a8e1-4944f28072a9",
   "metadata": {},
   "outputs": [
    {
     "data": {
      "text/plain": [
       "array([ 1.,  2.,  3.,  4., nan,  6.])"
      ]
     },
     "execution_count": 64,
     "metadata": {},
     "output_type": "execute_result"
    }
   ],
   "source": [
    "# Working with missing values -> np.nan\n",
    "a = np.array([1,2,3,4,np.nan,6])\n",
    "a"
   ]
  },
  {
   "cell_type": "code",
   "execution_count": 68,
   "id": "80edf2b3-edad-4378-9a46-155033a8031d",
   "metadata": {},
   "outputs": [
    {
     "data": {
      "text/plain": [
       "array([1., 2., 3., 4., 6.])"
      ]
     },
     "execution_count": 68,
     "metadata": {},
     "output_type": "execute_result"
    }
   ],
   "source": [
    "a[~np.isnan(a)] # IMPORTANT"
   ]
  },
  {
   "cell_type": "markdown",
   "id": "1ff0b1dd-b6ef-4afe-9a71-cffd1ee98c75",
   "metadata": {},
   "source": [
    "#### Plotting Graphs"
   ]
  },
  {
   "cell_type": "code",
   "execution_count": 70,
   "id": "9dfed1f7-2c72-453e-8f7b-f0fccb87b276",
   "metadata": {},
   "outputs": [],
   "source": [
    "import matplotlib.pyplot as plt"
   ]
  },
  {
   "cell_type": "code",
   "execution_count": 71,
   "id": "567fdad1-29db-4342-90ba-25060ceec6d3",
   "metadata": {},
   "outputs": [
    {
     "data": {
      "text/plain": [
       "[<matplotlib.lines.Line2D at 0x2a205bb9670>]"
      ]
     },
     "execution_count": 71,
     "metadata": {},
     "output_type": "execute_result"
    },
    {
     "data": {
      "image/png": "[encoded data removed]",
      "text/plain": [
       "<Figure size 640x480 with 1 Axes>"
      ]
     },
     "metadata": {},
     "output_type": "display_data"
    }
   ],
   "source": [
    "# Plotting a 2D plot\n",
    "# x = y\n",
    "x = np.linspace(-10,10,100)\n",
    "y = x\n",
    "plt.plot(x,y)"
   ]
  },
  {
   "cell_type": "code",
   "execution_count": 72,
   "id": "6db0f8db-70c7-4f5f-a90f-04653774c604",
   "metadata": {},
   "outputs": [
    {
     "data": {
      "text/plain": [
       "[<matplotlib.lines.Line2D at 0x2a205c25f10>]"
      ]
     },
     "execution_count": 72,
     "metadata": {},
     "output_type": "execute_result"
    },
    {
     "data": {
      "image/png": "[encoded data removed]",
      "text/plain": [
       "<Figure size 640x480 with 1 Axes>"
      ]
     },
     "metadata": {},
     "output_type": "display_data"
    }
   ],
   "source": [
    "# y = x^2\n",
    "x = np.linspace(-50,50,100)\n",
    "y = x**2\n",
    "plt.plot(x,y)"
   ]
  },
  {
   "cell_type": "code",
   "execution_count": 79,
   "id": "2c478742-a650-487c-9719-3c4880124cc2",
   "metadata": {},
   "outputs": [
    {
     "data": {
      "text/plain": [
       "[<matplotlib.lines.Line2D at 0x2a2067e4230>]"
      ]
     },
     "execution_count": 79,
     "metadata": {},
     "output_type": "execute_result"
    },
    {
     "data": {
      "image/png": "[encoded data removed]",
      "text/plain": [
       "<Figure size 640x480 with 1 Axes>"
      ]
     },
     "metadata": {},
     "output_type": "display_data"
    }
   ],
   "source": [
    "# y = tan(x)\n",
    "x = np.linspace(-10,10,100)\n",
    "y = np.tan(x)\n",
    "plt.plot(x,y)"
   ]
  },
  {
   "cell_type": "code",
   "execution_count": null,
   "id": "46eb469e-3f4b-445a-86be-fff736545541",
   "metadata": {},
   "outputs": [],
   "source": []
  }
 ],
 "metadata": {
  "kernelspec": {
   "display_name": "Python 3 (ipykernel)",
   "language": "python",
   "name": "python3"
  },
  "language_info": {
   "codemirror_mode": {
    "name": "ipython",
    "version": 3
   },
   "file_extension": ".py",
   "mimetype": "text/x-python",
   "name": "python",
   "nbconvert_exporter": "python",
   "pygments_lexer": "ipython3",
   "version": "3.12.2"
  }
 },
 "nbformat": 4,
 "nbformat_minor": 5
}
